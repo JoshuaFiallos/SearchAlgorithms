{
  "nbformat": 4,
  "nbformat_minor": 0,
  "metadata": {
    "colab": {
      "name": "BSF_DFS_Astar_p54.ipynb",
      "provenance": [],
      "collapsed_sections": [
        "v0fbpl0a97dI",
        "kzIZgbMHbKxr"
      ],
      "include_colab_link": true
    },
    "kernelspec": {
      "name": "python3",
      "display_name": "Python 3"
    }
  },
  "cells": [
    {
      "cell_type": "markdown",
      "metadata": {
        "id": "view-in-github",
        "colab_type": "text"
      },
      "source": [
        "<a href=\"https://colab.research.google.com/github/JoshuaFiallos/SearchAlgorithms/blob/master/BSF_DFS_Astar_p54.ipynb\" target=\"_parent\"><img src=\"https://colab.research.google.com/assets/colab-badge.svg\" alt=\"Open In Colab\"/></a>"
      ]
    },
    {
      "cell_type": "markdown",
      "metadata": {
        "id": "wgW8f32wC1I3",
        "colab_type": "text"
      },
      "source": [
        "**Integrantes**\n",
        "\n",
        "Luis Andy Briones Peñafiel\n",
        "\n",
        "Manuel Agustin Aycart Armijos\n",
        "\n",
        "Alexander Jose Jimenez Gurumendi\n",
        "\n",
        "Hernan Alejandro Rodriguez Veliz\n",
        "\n",
        "Luis Antonio Palomino Romero\n",
        "\n",
        "Jesus David Holguin Mendoza\n",
        "\n",
        "RICARDO ANDRES AUCAPINA BRIONES\n",
        "\n",
        "Steven Xavier Sanchez Muñoz\n",
        "\n",
        "Danny Jacinto Figueroa Smith\n",
        "\n",
        "Luis Andres Rodriguez Morales\n",
        "\n",
        "Ricardo Escalante \n",
        "\n",
        "DANIEL ENRIQUE VEGA BRAVO\n",
        "\n",
        "\n",
        "\n"
      ]
    },
    {
      "cell_type": "markdown",
      "metadata": {
        "id": "v0fbpl0a97dI",
        "colab_type": "text"
      },
      "source": [
        "#**Metodos de busqueda BFS,DFS y A***"
      ]
    },
    {
      "cell_type": "markdown",
      "metadata": {
        "id": "f0KRJSrM6l56",
        "colab_type": "text"
      },
      "source": [
        "**GRAFO PARA DFS, BFS y A***     \n"
      ]
    },
    {
      "cell_type": "code",
      "metadata": {
        "id": "-W-NdH_R6n0P",
        "colab_type": "code",
        "colab": {}
      },
      "source": [
        ""
      ],
      "execution_count": 0,
      "outputs": []
    },
    {
      "cell_type": "markdown",
      "metadata": {
        "id": "pMdARJ5caA48",
        "colab_type": "text"
      },
      "source": [
        "Un grafo consiste en un conjunto de nodos y un conjunto de arcos dirigidos entre nodos. La idea es encontrar una ruta a lo largo de estos arcos desde el nodo de inicio a un nodo objetivo:\n"
      ]
    },
    {
      "cell_type": "markdown",
      "metadata": {
        "id": "ND9yezzI-XUA",
        "colab_type": "text"
      },
      "source": [
        "![texto alternativo](https://i2.wp.com/aiandgames.com/wp-content/uploads/2014/09/romania-graph1.png)\n",
        "\n",
        "\n"
      ]
    },
    {
      "cell_type": "markdown",
      "metadata": {
        "id": "n8nc-0oHaJ6b",
        "colab_type": "text"
      },
      "source": [
        "Se realiza un grafo para aquello usaremos la lista de adyacencia. Un método efectivo / elegante para implementar listas de adyacencia en Python es usar diccionarios. Las claves del diccionario representan nodos, los valores tienen una lista de vecinos"
      ]
    },
    {
      "cell_type": "code",
      "metadata": {
        "id": "ZJIizt9o7n8R",
        "colab_type": "code",
        "colab": {}
      },
      "source": [
        "graph = {'ARAD': set(['ZERIND', 'SIBIU','TIMISOARA']),\n",
        "         'BUCHAREST': set(['FAGARAS', 'PITESTI','URZICENI','GIURGIU']),\n",
        "         'CRAIOVA': set(['RIMNICU VILCEA', 'DOBRETA','PITESTI']),\n",
        "         'DOBRETA': set(['MEHADIA', 'CRAIOVA']),\n",
        "         'EFORIE': set(['HIRSOVA']),\n",
        "         'FAGARAS': set(['SIBIU', 'BUCHAREST']),\n",
        "         'GIURGIU': set(['BUCHAREST']),\n",
        "         'HIRSOVA': set(['URZICENI', 'EFORIE']),\n",
        "         'IASI': set(['NEAMT', 'VASLUI']),\n",
        "         'LUGOJ': set(['TIMISOARA', 'MEHADIA']),\n",
        "         'MEHADIA': set(['LUGOJ', 'DOBRETA']),\n",
        "         'NEAMT': set(['IASI']),\n",
        "         'ORADEA': set(['ZERIND', 'SIBIU']),\n",
        "         'PITESTI': set(['RIMNICU VILCEA', 'CRAIOVA','BUCHAREST']),\n",
        "         'RIMNICU VILCEA': set(['PITESTI', 'SIBIU','CRAIOVA']),\n",
        "         'SIBIU': set(['ORADEA','ARAD','FAGARAS','RIMNICU VILCEA']),\n",
        "         'TIMISOARA': set(['ARAD', 'LUGOJ']),\n",
        "         'URZICENI': set(['BUCHAREST', 'HIRSOVA','VASLUI']),\n",
        "         'VASLUI': set(['IASI', 'URZICENI']),\n",
        "         'ZERIND': set(['ORADEA', 'ARAD'])}"
      ],
      "execution_count": 0,
      "outputs": []
    },
    {
      "cell_type": "markdown",
      "metadata": {
        "id": "kzIZgbMHbKxr",
        "colab_type": "text"
      },
      "source": [
        "# ALGORITMO BFS"
      ]
    },
    {
      "cell_type": "markdown",
      "metadata": {
        "id": "qskeWzG_aUz1",
        "colab_type": "text"
      },
      "source": [
        "Se realizó la función BDF para recorrer un grafo y encontrar el camino más corto. Primero, en el caso de la aplicación de la ruta más corta, necesitamos que queue mantenga un registro de las rutas posibles (implementadas como lista de nodos) en lugar de nodos. Segundo, cuando el algoritmo verifica si hay un nodo vecino, debe verificar si el nodo vecino corresponde al nodo objetivo. Si ese es el caso, tenemos una solución y no hay necesidad de seguir explorando el gráfico"
      ]
    },
    {
      "cell_type": "code",
      "metadata": {
        "id": "S673ZRvq8UjS",
        "colab_type": "code",
        "colab": {}
      },
      "source": [
        "# encuentra la ruta más corta entre 2 nodos de un gráfico usando BFS\n",
        "def bfs_shortest_path(graph, start, goal):\n",
        "  \n",
        "    print('Nodo inicial: ',start)\n",
        "    print ('Nodo objetivo: ',goal)\n",
        "    print('\\n')\n",
        "\n",
        "    \n",
        "    # hacer un seguimiento de los nodos explorados\n",
        "    explored = []\n",
        "    # realizar un seguimiento de todos los caminos que deben comprobarse\n",
        "    queue = [[start]]\n",
        "    \n",
        "    # retornar la ruta si el inicio es el objetivo\n",
        "    if start == goal:\n",
        "        return \"Eso fue fácil! Inicio = objetivo\"\n",
        " \n",
        "    # mantenernos en bucle hasta que se hayan verificado todos los caminos posibles\n",
        "    while queue:\n",
        "        # Pop el primer camino de la cola\n",
        "        path = queue.pop(0)\n",
        "        \n",
        "        # obtener el último nodo de la ruta\n",
        "        node = path[-1]\n",
        "        print('Ruta en la cola: ',path, ' - Último nodo de la ruta ',node)\n",
        "        if node not in explored:\n",
        "            print(f'Nodo no explorado {node} ')\n",
        "            neighbours = graph[node]\n",
        "            # Ir a través de todos los nodos vecinos, construir una nueva ruta y empujarlo en la cola\n",
        "            print('Nodos vecinos de : ',node,' son: ',neighbours)\n",
        "            for neighbour in neighbours:\n",
        "                new_path = list(path)                \n",
        "                new_path.append(neighbour)\n",
        "                queue.append(new_path)\n",
        "                print('Nuevas Rutas', new_path)\n",
        "                \n",
        "                # retornar ruta si el vecino es el objetivo\n",
        "                if neighbour == goal:\n",
        "                  return 'Camino Escogido: ', new_path\n",
        "            print('No se encontro Objetivo')\n",
        "            print('Nuevas rutas agregada a la cola: ',queue)\n",
        "            print('-------------------------------------------------------------------------------------------------------------')\n",
        "\n",
        "            # marca el nodo como explorado\n",
        "            explored.append(node)\n",
        "        else:\n",
        "            print(f'Ya ha sido explorado nodo: {node}')\n",
        " \n",
        "    # En caso de que no haya ruta entre los 2 nodos.\n",
        "    return \"Lo siento, pero no existe una ruta de conexión...\""
      ],
      "execution_count": 0,
      "outputs": []
    },
    {
      "cell_type": "markdown",
      "metadata": {
        "id": "zPqBnQo66JYW",
        "colab_type": "text"
      },
      "source": [
        "**PRUEBA 1 BFS**"
      ]
    },
    {
      "cell_type": "markdown",
      "metadata": {
        "id": "fRmnuIxja-iM",
        "colab_type": "text"
      },
      "source": [
        "En la  prueba 1 se puede observar que el nodo de inicio es ARAD recorre el grafo en anchura y encuentra el camino más corto tal que queue va registrando las rutas posibles en lugar de nodos. Cuando el algoritmo verifica si hay un nodo vecino, debe verificar si el nodo vecino corresponde al nodo objetivo. Esta prueba el objetivo de SIBIU si se encuentra ya no hay necesidad de seguir explorando el gráfo."
      ]
    },
    {
      "cell_type": "code",
      "metadata": {
        "id": "EgvWZGBn8W24",
        "colab_type": "code",
        "outputId": "a3ca17c0-a2d1-4227-b0f3-704cc49f14ad",
        "colab": {
          "base_uri": "https://localhost:8080/",
          "height": 191
        }
      },
      "source": [
        "bfs_shortest_path(graph,'ARAD','SIBIU')"
      ],
      "execution_count": 0,
      "outputs": [
        {
          "output_type": "stream",
          "text": [
            "Nodo inicial:  ARAD\n",
            "Nodo objetivo:  SIBIU\n",
            "\n",
            "\n",
            "Ruta en la cola:  ['ARAD']  - Último nodo de la ruta  ARAD\n",
            "Nodo no explorado ARAD \n",
            "Nodos vecinos de :  ARAD  son:  {'ZERIND', 'SIBIU', 'TIMISOARA'}\n",
            "Nuevas Rutas ['ARAD', 'ZERIND']\n",
            "Nuevas Rutas ['ARAD', 'SIBIU']\n"
          ],
          "name": "stdout"
        },
        {
          "output_type": "execute_result",
          "data": {
            "text/plain": [
              "('Camino Escogido: ', ['ARAD', 'SIBIU'])"
            ]
          },
          "metadata": {
            "tags": []
          },
          "execution_count": 55
        }
      ]
    },
    {
      "cell_type": "markdown",
      "metadata": {
        "id": "AbEcLWRpsMtb",
        "colab_type": "text"
      },
      "source": [
        "**PRUEBA 2 BFS**"
      ]
    },
    {
      "cell_type": "markdown",
      "metadata": {
        "id": "guEcFHDu5r7Q",
        "colab_type": "text"
      },
      "source": [
        "En la prueba 2 se puede observar que el nodo de inicio es PISTESTI recorre el grafo en anchura y encuentra el camino más corto tal que queue va registrando las rutas posibles en lugar de nodos. Cuando el algoritmo verifica si hay un nodo vecino, debe verificar si el nodo vecino corresponde al nodo objetivo. Esta prueba el objetivo de EFORIE si se encuentra ya no hay necesidad de seguir explorando el gráfo."
      ]
    },
    {
      "cell_type": "code",
      "metadata": {
        "id": "96yNsCDHrXNS",
        "colab_type": "code",
        "outputId": "5e39a4bb-2d5b-4ce6-ab7d-7e980a4dfb78",
        "colab": {
          "base_uri": "https://localhost:8080/",
          "height": 1000
        }
      },
      "source": [
        "bfs_shortest_path(graph,'PITESTI','EFORIE')"
      ],
      "execution_count": 0,
      "outputs": [
        {
          "output_type": "stream",
          "text": [
            "Nodo inicial:  PITESTI\n",
            "Nodo objetivo:  EFORIE\n",
            "\n",
            "\n",
            "Ruta en la cola:  ['PITESTI']  - Último nodo de la ruta  PITESTI\n",
            "Nodo no explorado PITESTI \n",
            "Nodos vecinos de :  PITESTI  son:  {'CRAIOVA', 'BUCHAREST', 'RIMNICU VILCEA'}\n",
            "Nuevas Rutas ['PITESTI', 'CRAIOVA']\n",
            "Nuevas Rutas ['PITESTI', 'BUCHAREST']\n",
            "Nuevas Rutas ['PITESTI', 'RIMNICU VILCEA']\n",
            "No se encontro Objetivo\n",
            "Nuevas rutas agregada a la cola:  [['PITESTI', 'CRAIOVA'], ['PITESTI', 'BUCHAREST'], ['PITESTI', 'RIMNICU VILCEA']]\n",
            "-------------------------------------------------------------------------------------------------------------\n",
            "Ruta en la cola:  ['PITESTI', 'CRAIOVA']  - Último nodo de la ruta  CRAIOVA\n",
            "Nodo no explorado CRAIOVA \n",
            "Nodos vecinos de :  CRAIOVA  son:  {'DOBRETA', 'RIMNICU VILCEA', 'PITESTI'}\n",
            "Nuevas Rutas ['PITESTI', 'CRAIOVA', 'DOBRETA']\n",
            "Nuevas Rutas ['PITESTI', 'CRAIOVA', 'RIMNICU VILCEA']\n",
            "Nuevas Rutas ['PITESTI', 'CRAIOVA', 'PITESTI']\n",
            "No se encontro Objetivo\n",
            "Nuevas rutas agregada a la cola:  [['PITESTI', 'BUCHAREST'], ['PITESTI', 'RIMNICU VILCEA'], ['PITESTI', 'CRAIOVA', 'DOBRETA'], ['PITESTI', 'CRAIOVA', 'RIMNICU VILCEA'], ['PITESTI', 'CRAIOVA', 'PITESTI']]\n",
            "-------------------------------------------------------------------------------------------------------------\n",
            "Ruta en la cola:  ['PITESTI', 'BUCHAREST']  - Último nodo de la ruta  BUCHAREST\n",
            "Nodo no explorado BUCHAREST \n",
            "Nodos vecinos de :  BUCHAREST  son:  {'URZICENI', 'GIURGIU', 'FAGARAS', 'PITESTI'}\n",
            "Nuevas Rutas ['PITESTI', 'BUCHAREST', 'URZICENI']\n",
            "Nuevas Rutas ['PITESTI', 'BUCHAREST', 'GIURGIU']\n",
            "Nuevas Rutas ['PITESTI', 'BUCHAREST', 'FAGARAS']\n",
            "Nuevas Rutas ['PITESTI', 'BUCHAREST', 'PITESTI']\n",
            "No se encontro Objetivo\n",
            "Nuevas rutas agregada a la cola:  [['PITESTI', 'RIMNICU VILCEA'], ['PITESTI', 'CRAIOVA', 'DOBRETA'], ['PITESTI', 'CRAIOVA', 'RIMNICU VILCEA'], ['PITESTI', 'CRAIOVA', 'PITESTI'], ['PITESTI', 'BUCHAREST', 'URZICENI'], ['PITESTI', 'BUCHAREST', 'GIURGIU'], ['PITESTI', 'BUCHAREST', 'FAGARAS'], ['PITESTI', 'BUCHAREST', 'PITESTI']]\n",
            "-------------------------------------------------------------------------------------------------------------\n",
            "Ruta en la cola:  ['PITESTI', 'RIMNICU VILCEA']  - Último nodo de la ruta  RIMNICU VILCEA\n",
            "Nodo no explorado RIMNICU VILCEA \n",
            "Nodos vecinos de :  RIMNICU VILCEA  son:  {'SIBIU', 'CRAIOVA', 'PITESTI'}\n",
            "Nuevas Rutas ['PITESTI', 'RIMNICU VILCEA', 'SIBIU']\n",
            "Nuevas Rutas ['PITESTI', 'RIMNICU VILCEA', 'CRAIOVA']\n",
            "Nuevas Rutas ['PITESTI', 'RIMNICU VILCEA', 'PITESTI']\n",
            "No se encontro Objetivo\n",
            "Nuevas rutas agregada a la cola:  [['PITESTI', 'CRAIOVA', 'DOBRETA'], ['PITESTI', 'CRAIOVA', 'RIMNICU VILCEA'], ['PITESTI', 'CRAIOVA', 'PITESTI'], ['PITESTI', 'BUCHAREST', 'URZICENI'], ['PITESTI', 'BUCHAREST', 'GIURGIU'], ['PITESTI', 'BUCHAREST', 'FAGARAS'], ['PITESTI', 'BUCHAREST', 'PITESTI'], ['PITESTI', 'RIMNICU VILCEA', 'SIBIU'], ['PITESTI', 'RIMNICU VILCEA', 'CRAIOVA'], ['PITESTI', 'RIMNICU VILCEA', 'PITESTI']]\n",
            "-------------------------------------------------------------------------------------------------------------\n",
            "Ruta en la cola:  ['PITESTI', 'CRAIOVA', 'DOBRETA']  - Último nodo de la ruta  DOBRETA\n",
            "Nodo no explorado DOBRETA \n",
            "Nodos vecinos de :  DOBRETA  son:  {'MEHADIA', 'CRAIOVA'}\n",
            "Nuevas Rutas ['PITESTI', 'CRAIOVA', 'DOBRETA', 'MEHADIA']\n",
            "Nuevas Rutas ['PITESTI', 'CRAIOVA', 'DOBRETA', 'CRAIOVA']\n",
            "No se encontro Objetivo\n",
            "Nuevas rutas agregada a la cola:  [['PITESTI', 'CRAIOVA', 'RIMNICU VILCEA'], ['PITESTI', 'CRAIOVA', 'PITESTI'], ['PITESTI', 'BUCHAREST', 'URZICENI'], ['PITESTI', 'BUCHAREST', 'GIURGIU'], ['PITESTI', 'BUCHAREST', 'FAGARAS'], ['PITESTI', 'BUCHAREST', 'PITESTI'], ['PITESTI', 'RIMNICU VILCEA', 'SIBIU'], ['PITESTI', 'RIMNICU VILCEA', 'CRAIOVA'], ['PITESTI', 'RIMNICU VILCEA', 'PITESTI'], ['PITESTI', 'CRAIOVA', 'DOBRETA', 'MEHADIA'], ['PITESTI', 'CRAIOVA', 'DOBRETA', 'CRAIOVA']]\n",
            "-------------------------------------------------------------------------------------------------------------\n",
            "Ruta en la cola:  ['PITESTI', 'CRAIOVA', 'RIMNICU VILCEA']  - Último nodo de la ruta  RIMNICU VILCEA\n",
            "Ya ha sido explorado nodo: RIMNICU VILCEA\n",
            "Ruta en la cola:  ['PITESTI', 'CRAIOVA', 'PITESTI']  - Último nodo de la ruta  PITESTI\n",
            "Ya ha sido explorado nodo: PITESTI\n",
            "Ruta en la cola:  ['PITESTI', 'BUCHAREST', 'URZICENI']  - Último nodo de la ruta  URZICENI\n",
            "Nodo no explorado URZICENI \n",
            "Nodos vecinos de :  URZICENI  son:  {'BUCHAREST', 'HIRSOVA', 'VASLUI'}\n",
            "Nuevas Rutas ['PITESTI', 'BUCHAREST', 'URZICENI', 'BUCHAREST']\n",
            "Nuevas Rutas ['PITESTI', 'BUCHAREST', 'URZICENI', 'HIRSOVA']\n",
            "Nuevas Rutas ['PITESTI', 'BUCHAREST', 'URZICENI', 'VASLUI']\n",
            "No se encontro Objetivo\n",
            "Nuevas rutas agregada a la cola:  [['PITESTI', 'BUCHAREST', 'GIURGIU'], ['PITESTI', 'BUCHAREST', 'FAGARAS'], ['PITESTI', 'BUCHAREST', 'PITESTI'], ['PITESTI', 'RIMNICU VILCEA', 'SIBIU'], ['PITESTI', 'RIMNICU VILCEA', 'CRAIOVA'], ['PITESTI', 'RIMNICU VILCEA', 'PITESTI'], ['PITESTI', 'CRAIOVA', 'DOBRETA', 'MEHADIA'], ['PITESTI', 'CRAIOVA', 'DOBRETA', 'CRAIOVA'], ['PITESTI', 'BUCHAREST', 'URZICENI', 'BUCHAREST'], ['PITESTI', 'BUCHAREST', 'URZICENI', 'HIRSOVA'], ['PITESTI', 'BUCHAREST', 'URZICENI', 'VASLUI']]\n",
            "-------------------------------------------------------------------------------------------------------------\n",
            "Ruta en la cola:  ['PITESTI', 'BUCHAREST', 'GIURGIU']  - Último nodo de la ruta  GIURGIU\n",
            "Nodo no explorado GIURGIU \n",
            "Nodos vecinos de :  GIURGIU  son:  {'BUCHAREST'}\n",
            "Nuevas Rutas ['PITESTI', 'BUCHAREST', 'GIURGIU', 'BUCHAREST']\n",
            "No se encontro Objetivo\n",
            "Nuevas rutas agregada a la cola:  [['PITESTI', 'BUCHAREST', 'FAGARAS'], ['PITESTI', 'BUCHAREST', 'PITESTI'], ['PITESTI', 'RIMNICU VILCEA', 'SIBIU'], ['PITESTI', 'RIMNICU VILCEA', 'CRAIOVA'], ['PITESTI', 'RIMNICU VILCEA', 'PITESTI'], ['PITESTI', 'CRAIOVA', 'DOBRETA', 'MEHADIA'], ['PITESTI', 'CRAIOVA', 'DOBRETA', 'CRAIOVA'], ['PITESTI', 'BUCHAREST', 'URZICENI', 'BUCHAREST'], ['PITESTI', 'BUCHAREST', 'URZICENI', 'HIRSOVA'], ['PITESTI', 'BUCHAREST', 'URZICENI', 'VASLUI'], ['PITESTI', 'BUCHAREST', 'GIURGIU', 'BUCHAREST']]\n",
            "-------------------------------------------------------------------------------------------------------------\n",
            "Ruta en la cola:  ['PITESTI', 'BUCHAREST', 'FAGARAS']  - Último nodo de la ruta  FAGARAS\n",
            "Nodo no explorado FAGARAS \n",
            "Nodos vecinos de :  FAGARAS  son:  {'BUCHAREST', 'SIBIU'}\n",
            "Nuevas Rutas ['PITESTI', 'BUCHAREST', 'FAGARAS', 'BUCHAREST']\n",
            "Nuevas Rutas ['PITESTI', 'BUCHAREST', 'FAGARAS', 'SIBIU']\n",
            "No se encontro Objetivo\n",
            "Nuevas rutas agregada a la cola:  [['PITESTI', 'BUCHAREST', 'PITESTI'], ['PITESTI', 'RIMNICU VILCEA', 'SIBIU'], ['PITESTI', 'RIMNICU VILCEA', 'CRAIOVA'], ['PITESTI', 'RIMNICU VILCEA', 'PITESTI'], ['PITESTI', 'CRAIOVA', 'DOBRETA', 'MEHADIA'], ['PITESTI', 'CRAIOVA', 'DOBRETA', 'CRAIOVA'], ['PITESTI', 'BUCHAREST', 'URZICENI', 'BUCHAREST'], ['PITESTI', 'BUCHAREST', 'URZICENI', 'HIRSOVA'], ['PITESTI', 'BUCHAREST', 'URZICENI', 'VASLUI'], ['PITESTI', 'BUCHAREST', 'GIURGIU', 'BUCHAREST'], ['PITESTI', 'BUCHAREST', 'FAGARAS', 'BUCHAREST'], ['PITESTI', 'BUCHAREST', 'FAGARAS', 'SIBIU']]\n",
            "-------------------------------------------------------------------------------------------------------------\n",
            "Ruta en la cola:  ['PITESTI', 'BUCHAREST', 'PITESTI']  - Último nodo de la ruta  PITESTI\n",
            "Ya ha sido explorado nodo: PITESTI\n",
            "Ruta en la cola:  ['PITESTI', 'RIMNICU VILCEA', 'SIBIU']  - Último nodo de la ruta  SIBIU\n",
            "Nodo no explorado SIBIU \n",
            "Nodos vecinos de :  SIBIU  son:  {'RIMNICU VILCEA', 'ORADEA', 'ARAD', 'FAGARAS'}\n",
            "Nuevas Rutas ['PITESTI', 'RIMNICU VILCEA', 'SIBIU', 'RIMNICU VILCEA']\n",
            "Nuevas Rutas ['PITESTI', 'RIMNICU VILCEA', 'SIBIU', 'ORADEA']\n",
            "Nuevas Rutas ['PITESTI', 'RIMNICU VILCEA', 'SIBIU', 'ARAD']\n",
            "Nuevas Rutas ['PITESTI', 'RIMNICU VILCEA', 'SIBIU', 'FAGARAS']\n",
            "No se encontro Objetivo\n",
            "Nuevas rutas agregada a la cola:  [['PITESTI', 'RIMNICU VILCEA', 'CRAIOVA'], ['PITESTI', 'RIMNICU VILCEA', 'PITESTI'], ['PITESTI', 'CRAIOVA', 'DOBRETA', 'MEHADIA'], ['PITESTI', 'CRAIOVA', 'DOBRETA', 'CRAIOVA'], ['PITESTI', 'BUCHAREST', 'URZICENI', 'BUCHAREST'], ['PITESTI', 'BUCHAREST', 'URZICENI', 'HIRSOVA'], ['PITESTI', 'BUCHAREST', 'URZICENI', 'VASLUI'], ['PITESTI', 'BUCHAREST', 'GIURGIU', 'BUCHAREST'], ['PITESTI', 'BUCHAREST', 'FAGARAS', 'BUCHAREST'], ['PITESTI', 'BUCHAREST', 'FAGARAS', 'SIBIU'], ['PITESTI', 'RIMNICU VILCEA', 'SIBIU', 'RIMNICU VILCEA'], ['PITESTI', 'RIMNICU VILCEA', 'SIBIU', 'ORADEA'], ['PITESTI', 'RIMNICU VILCEA', 'SIBIU', 'ARAD'], ['PITESTI', 'RIMNICU VILCEA', 'SIBIU', 'FAGARAS']]\n",
            "-------------------------------------------------------------------------------------------------------------\n",
            "Ruta en la cola:  ['PITESTI', 'RIMNICU VILCEA', 'CRAIOVA']  - Último nodo de la ruta  CRAIOVA\n",
            "Ya ha sido explorado nodo: CRAIOVA\n",
            "Ruta en la cola:  ['PITESTI', 'RIMNICU VILCEA', 'PITESTI']  - Último nodo de la ruta  PITESTI\n",
            "Ya ha sido explorado nodo: PITESTI\n",
            "Ruta en la cola:  ['PITESTI', 'CRAIOVA', 'DOBRETA', 'MEHADIA']  - Último nodo de la ruta  MEHADIA\n",
            "Nodo no explorado MEHADIA \n",
            "Nodos vecinos de :  MEHADIA  son:  {'DOBRETA', 'LUGOJ'}\n",
            "Nuevas Rutas ['PITESTI', 'CRAIOVA', 'DOBRETA', 'MEHADIA', 'DOBRETA']\n",
            "Nuevas Rutas ['PITESTI', 'CRAIOVA', 'DOBRETA', 'MEHADIA', 'LUGOJ']\n",
            "No se encontro Objetivo\n",
            "Nuevas rutas agregada a la cola:  [['PITESTI', 'CRAIOVA', 'DOBRETA', 'CRAIOVA'], ['PITESTI', 'BUCHAREST', 'URZICENI', 'BUCHAREST'], ['PITESTI', 'BUCHAREST', 'URZICENI', 'HIRSOVA'], ['PITESTI', 'BUCHAREST', 'URZICENI', 'VASLUI'], ['PITESTI', 'BUCHAREST', 'GIURGIU', 'BUCHAREST'], ['PITESTI', 'BUCHAREST', 'FAGARAS', 'BUCHAREST'], ['PITESTI', 'BUCHAREST', 'FAGARAS', 'SIBIU'], ['PITESTI', 'RIMNICU VILCEA', 'SIBIU', 'RIMNICU VILCEA'], ['PITESTI', 'RIMNICU VILCEA', 'SIBIU', 'ORADEA'], ['PITESTI', 'RIMNICU VILCEA', 'SIBIU', 'ARAD'], ['PITESTI', 'RIMNICU VILCEA', 'SIBIU', 'FAGARAS'], ['PITESTI', 'CRAIOVA', 'DOBRETA', 'MEHADIA', 'DOBRETA'], ['PITESTI', 'CRAIOVA', 'DOBRETA', 'MEHADIA', 'LUGOJ']]\n",
            "-------------------------------------------------------------------------------------------------------------\n",
            "Ruta en la cola:  ['PITESTI', 'CRAIOVA', 'DOBRETA', 'CRAIOVA']  - Último nodo de la ruta  CRAIOVA\n",
            "Ya ha sido explorado nodo: CRAIOVA\n",
            "Ruta en la cola:  ['PITESTI', 'BUCHAREST', 'URZICENI', 'BUCHAREST']  - Último nodo de la ruta  BUCHAREST\n",
            "Ya ha sido explorado nodo: BUCHAREST\n",
            "Ruta en la cola:  ['PITESTI', 'BUCHAREST', 'URZICENI', 'HIRSOVA']  - Último nodo de la ruta  HIRSOVA\n",
            "Nodo no explorado HIRSOVA \n",
            "Nodos vecinos de :  HIRSOVA  son:  {'EFORIE', 'URZICENI'}\n",
            "Nuevas Rutas ['PITESTI', 'BUCHAREST', 'URZICENI', 'HIRSOVA', 'EFORIE']\n"
          ],
          "name": "stdout"
        },
        {
          "output_type": "execute_result",
          "data": {
            "text/plain": [
              "('Camino Escogido: ',\n",
              " ['PITESTI', 'BUCHAREST', 'URZICENI', 'HIRSOVA', 'EFORIE'])"
            ]
          },
          "metadata": {
            "tags": []
          },
          "execution_count": 56
        }
      ]
    },
    {
      "cell_type": "markdown",
      "metadata": {
        "id": "2P0q67ENsXks",
        "colab_type": "text"
      },
      "source": [
        "**PRUEBA 3 BFS**\n"
      ]
    },
    {
      "cell_type": "markdown",
      "metadata": {
        "id": "8aCWkTqy557w",
        "colab_type": "text"
      },
      "source": [
        "En la prueba 2 se puede observar que el nodo de inicio es SIBIU recorre el grafo en anchura y encuentra el camino más corto tal que queue va registrando las rutas posibles en lugar de nodos. Cuando el algoritmo verifica si hay un nodo vecino, debe verificar si el nodo vecino corresponde al nodo objetivo. Esta prueba el objetivo de ARAD si se encuentra ya no hay necesidad de seguir explorando el gráfo."
      ]
    },
    {
      "cell_type": "code",
      "metadata": {
        "id": "TvV_4RkDskWM",
        "colab_type": "code",
        "outputId": "93759e21-9949-4bf9-ad64-2131e6b9ef29",
        "colab": {
          "base_uri": "https://localhost:8080/",
          "height": 208
        }
      },
      "source": [
        "bfs_shortest_path(graph,'SIBIU','ARAD')"
      ],
      "execution_count": 0,
      "outputs": [
        {
          "output_type": "stream",
          "text": [
            "Nodo inicial:  SIBIU\n",
            "Nodo objetivo:  ARAD\n",
            "\n",
            "\n",
            "Ruta en la cola:  ['SIBIU']  - Último nodo de la ruta  SIBIU\n",
            "Nodo no explorado SIBIU \n",
            "Nodos vecinos de :  SIBIU  son:  {'RIMNICU VILCEA', 'ORADEA', 'ARAD', 'FAGARAS'}\n",
            "Nuevas Rutas ['SIBIU', 'RIMNICU VILCEA']\n",
            "Nuevas Rutas ['SIBIU', 'ORADEA']\n",
            "Nuevas Rutas ['SIBIU', 'ARAD']\n"
          ],
          "name": "stdout"
        },
        {
          "output_type": "execute_result",
          "data": {
            "text/plain": [
              "('Camino Escogido: ', ['SIBIU', 'ARAD'])"
            ]
          },
          "metadata": {
            "tags": []
          },
          "execution_count": 57
        }
      ]
    },
    {
      "cell_type": "markdown",
      "metadata": {
        "id": "MKchumK4tB28",
        "colab_type": "text"
      },
      "source": [
        "**PRUEBA 4 BFS**"
      ]
    },
    {
      "cell_type": "markdown",
      "metadata": {
        "id": "X4h8U8MZ6dXn",
        "colab_type": "text"
      },
      "source": [
        "En la prueba 4 se puede observar que el nodo de inicio es SIBIU recorre el grafo en anchura y encuentra el camino más corto tal que queue va registrando las rutas posibles en lugar de nodos. Cuando el algoritmo verifica si hay un nodo vecino, debe verificar si el nodo vecino corresponde al nodo objetivo. Esta prueba el objetivo de BUCHAREST si se encuentra ya no hay necesidad de seguir explorando el gráfo."
      ]
    },
    {
      "cell_type": "code",
      "metadata": {
        "id": "ueZ-EovTtEvy",
        "colab_type": "code",
        "outputId": "f7587651-edb5-4897-cea8-fdf21570477c",
        "colab": {
          "base_uri": "https://localhost:8080/",
          "height": 817
        }
      },
      "source": [
        "bfs_shortest_path(graph,'SIBIU','BUCHAREST')"
      ],
      "execution_count": 0,
      "outputs": [
        {
          "output_type": "stream",
          "text": [
            "Nodo inicial:  SIBIU\n",
            "Nodo objetivo:  BUCHAREST\n",
            "\n",
            "\n",
            "Ruta en la cola:  ['SIBIU']  - Último nodo de la ruta  SIBIU\n",
            "Nodo no explorado SIBIU \n",
            "Nodos vecinos de :  SIBIU  son:  {'RIMNICU VILCEA', 'ORADEA', 'ARAD', 'FAGARAS'}\n",
            "Nuevas Rutas ['SIBIU', 'RIMNICU VILCEA']\n",
            "Nuevas Rutas ['SIBIU', 'ORADEA']\n",
            "Nuevas Rutas ['SIBIU', 'ARAD']\n",
            "Nuevas Rutas ['SIBIU', 'FAGARAS']\n",
            "No se encontro Objetivo\n",
            "Nuevas rutas agregada a la cola:  [['SIBIU', 'RIMNICU VILCEA'], ['SIBIU', 'ORADEA'], ['SIBIU', 'ARAD'], ['SIBIU', 'FAGARAS']]\n",
            "-------------------------------------------------------------------------------------------------------------\n",
            "Ruta en la cola:  ['SIBIU', 'RIMNICU VILCEA']  - Último nodo de la ruta  RIMNICU VILCEA\n",
            "Nodo no explorado RIMNICU VILCEA \n",
            "Nodos vecinos de :  RIMNICU VILCEA  son:  {'SIBIU', 'CRAIOVA', 'PITESTI'}\n",
            "Nuevas Rutas ['SIBIU', 'RIMNICU VILCEA', 'SIBIU']\n",
            "Nuevas Rutas ['SIBIU', 'RIMNICU VILCEA', 'CRAIOVA']\n",
            "Nuevas Rutas ['SIBIU', 'RIMNICU VILCEA', 'PITESTI']\n",
            "No se encontro Objetivo\n",
            "Nuevas rutas agregada a la cola:  [['SIBIU', 'ORADEA'], ['SIBIU', 'ARAD'], ['SIBIU', 'FAGARAS'], ['SIBIU', 'RIMNICU VILCEA', 'SIBIU'], ['SIBIU', 'RIMNICU VILCEA', 'CRAIOVA'], ['SIBIU', 'RIMNICU VILCEA', 'PITESTI']]\n",
            "-------------------------------------------------------------------------------------------------------------\n",
            "Ruta en la cola:  ['SIBIU', 'ORADEA']  - Último nodo de la ruta  ORADEA\n",
            "Nodo no explorado ORADEA \n",
            "Nodos vecinos de :  ORADEA  son:  {'ZERIND', 'SIBIU'}\n",
            "Nuevas Rutas ['SIBIU', 'ORADEA', 'ZERIND']\n",
            "Nuevas Rutas ['SIBIU', 'ORADEA', 'SIBIU']\n",
            "No se encontro Objetivo\n",
            "Nuevas rutas agregada a la cola:  [['SIBIU', 'ARAD'], ['SIBIU', 'FAGARAS'], ['SIBIU', 'RIMNICU VILCEA', 'SIBIU'], ['SIBIU', 'RIMNICU VILCEA', 'CRAIOVA'], ['SIBIU', 'RIMNICU VILCEA', 'PITESTI'], ['SIBIU', 'ORADEA', 'ZERIND'], ['SIBIU', 'ORADEA', 'SIBIU']]\n",
            "-------------------------------------------------------------------------------------------------------------\n",
            "Ruta en la cola:  ['SIBIU', 'ARAD']  - Último nodo de la ruta  ARAD\n",
            "Nodo no explorado ARAD \n",
            "Nodos vecinos de :  ARAD  son:  {'ZERIND', 'SIBIU', 'TIMISOARA'}\n",
            "Nuevas Rutas ['SIBIU', 'ARAD', 'ZERIND']\n",
            "Nuevas Rutas ['SIBIU', 'ARAD', 'SIBIU']\n",
            "Nuevas Rutas ['SIBIU', 'ARAD', 'TIMISOARA']\n",
            "No se encontro Objetivo\n",
            "Nuevas rutas agregada a la cola:  [['SIBIU', 'FAGARAS'], ['SIBIU', 'RIMNICU VILCEA', 'SIBIU'], ['SIBIU', 'RIMNICU VILCEA', 'CRAIOVA'], ['SIBIU', 'RIMNICU VILCEA', 'PITESTI'], ['SIBIU', 'ORADEA', 'ZERIND'], ['SIBIU', 'ORADEA', 'SIBIU'], ['SIBIU', 'ARAD', 'ZERIND'], ['SIBIU', 'ARAD', 'SIBIU'], ['SIBIU', 'ARAD', 'TIMISOARA']]\n",
            "-------------------------------------------------------------------------------------------------------------\n",
            "Ruta en la cola:  ['SIBIU', 'FAGARAS']  - Último nodo de la ruta  FAGARAS\n",
            "Nodo no explorado FAGARAS \n",
            "Nodos vecinos de :  FAGARAS  son:  {'BUCHAREST', 'SIBIU'}\n",
            "Nuevas Rutas ['SIBIU', 'FAGARAS', 'BUCHAREST']\n"
          ],
          "name": "stdout"
        },
        {
          "output_type": "execute_result",
          "data": {
            "text/plain": [
              "('Camino Escogido: ', ['SIBIU', 'FAGARAS', 'BUCHAREST'])"
            ]
          },
          "metadata": {
            "tags": []
          },
          "execution_count": 58
        }
      ]
    },
    {
      "cell_type": "markdown",
      "metadata": {
        "id": "XlS7DKgEtNyE",
        "colab_type": "text"
      },
      "source": [
        "**PRUEBA 5 BFS**"
      ]
    },
    {
      "cell_type": "markdown",
      "metadata": {
        "id": "pQKSQniN6k24",
        "colab_type": "text"
      },
      "source": [
        "En la prueba 5 se puede observar que el nodo de inicio es ORADEA recorre el grafo en anchura y encuentra el camino más corto tal que queue va registrando las rutas posibles en lugar de nodos. Cuando el algoritmo verifica si hay un nodo vecino, debe verificar si el nodo vecino corresponde al nodo objetivo. Esta prueba el objetivo de CRAIOVA si se encuentra ya no hay necesidad de seguir explorando el gráfo."
      ]
    },
    {
      "cell_type": "code",
      "metadata": {
        "id": "xhzda5DKtTNK",
        "colab_type": "code",
        "outputId": "f27a266d-c1f0-4f9c-db1f-cc992605528a",
        "colab": {
          "base_uri": "https://localhost:8080/",
          "height": 852
        }
      },
      "source": [
        "bfs_shortest_path(graph,'ORADEA','CRAIOVA')"
      ],
      "execution_count": 0,
      "outputs": [
        {
          "output_type": "stream",
          "text": [
            "Nodo inicial:  ORADEA\n",
            "Nodo objetivo:  CRAIOVA\n",
            "\n",
            "\n",
            "Ruta en la cola:  ['ORADEA']  - Último nodo de la ruta  ORADEA\n",
            "Nodo no explorado ORADEA \n",
            "Nodos vecinos de :  ORADEA  son:  {'ZERIND', 'SIBIU'}\n",
            "Nuevas Rutas ['ORADEA', 'ZERIND']\n",
            "Nuevas Rutas ['ORADEA', 'SIBIU']\n",
            "No se encontro Objetivo\n",
            "Nuevas rutas agregada a la cola:  [['ORADEA', 'ZERIND'], ['ORADEA', 'SIBIU']]\n",
            "-------------------------------------------------------------------------------------------------------------\n",
            "Ruta en la cola:  ['ORADEA', 'ZERIND']  - Último nodo de la ruta  ZERIND\n",
            "Nodo no explorado ZERIND \n",
            "Nodos vecinos de :  ZERIND  son:  {'ORADEA', 'ARAD'}\n",
            "Nuevas Rutas ['ORADEA', 'ZERIND', 'ORADEA']\n",
            "Nuevas Rutas ['ORADEA', 'ZERIND', 'ARAD']\n",
            "No se encontro Objetivo\n",
            "Nuevas rutas agregada a la cola:  [['ORADEA', 'SIBIU'], ['ORADEA', 'ZERIND', 'ORADEA'], ['ORADEA', 'ZERIND', 'ARAD']]\n",
            "-------------------------------------------------------------------------------------------------------------\n",
            "Ruta en la cola:  ['ORADEA', 'SIBIU']  - Último nodo de la ruta  SIBIU\n",
            "Nodo no explorado SIBIU \n",
            "Nodos vecinos de :  SIBIU  son:  {'RIMNICU VILCEA', 'ORADEA', 'ARAD', 'FAGARAS'}\n",
            "Nuevas Rutas ['ORADEA', 'SIBIU', 'RIMNICU VILCEA']\n",
            "Nuevas Rutas ['ORADEA', 'SIBIU', 'ORADEA']\n",
            "Nuevas Rutas ['ORADEA', 'SIBIU', 'ARAD']\n",
            "Nuevas Rutas ['ORADEA', 'SIBIU', 'FAGARAS']\n",
            "No se encontro Objetivo\n",
            "Nuevas rutas agregada a la cola:  [['ORADEA', 'ZERIND', 'ORADEA'], ['ORADEA', 'ZERIND', 'ARAD'], ['ORADEA', 'SIBIU', 'RIMNICU VILCEA'], ['ORADEA', 'SIBIU', 'ORADEA'], ['ORADEA', 'SIBIU', 'ARAD'], ['ORADEA', 'SIBIU', 'FAGARAS']]\n",
            "-------------------------------------------------------------------------------------------------------------\n",
            "Ruta en la cola:  ['ORADEA', 'ZERIND', 'ORADEA']  - Último nodo de la ruta  ORADEA\n",
            "Ya ha sido explorado nodo: ORADEA\n",
            "Ruta en la cola:  ['ORADEA', 'ZERIND', 'ARAD']  - Último nodo de la ruta  ARAD\n",
            "Nodo no explorado ARAD \n",
            "Nodos vecinos de :  ARAD  son:  {'ZERIND', 'SIBIU', 'TIMISOARA'}\n",
            "Nuevas Rutas ['ORADEA', 'ZERIND', 'ARAD', 'ZERIND']\n",
            "Nuevas Rutas ['ORADEA', 'ZERIND', 'ARAD', 'SIBIU']\n",
            "Nuevas Rutas ['ORADEA', 'ZERIND', 'ARAD', 'TIMISOARA']\n",
            "No se encontro Objetivo\n",
            "Nuevas rutas agregada a la cola:  [['ORADEA', 'SIBIU', 'RIMNICU VILCEA'], ['ORADEA', 'SIBIU', 'ORADEA'], ['ORADEA', 'SIBIU', 'ARAD'], ['ORADEA', 'SIBIU', 'FAGARAS'], ['ORADEA', 'ZERIND', 'ARAD', 'ZERIND'], ['ORADEA', 'ZERIND', 'ARAD', 'SIBIU'], ['ORADEA', 'ZERIND', 'ARAD', 'TIMISOARA']]\n",
            "-------------------------------------------------------------------------------------------------------------\n",
            "Ruta en la cola:  ['ORADEA', 'SIBIU', 'RIMNICU VILCEA']  - Último nodo de la ruta  RIMNICU VILCEA\n",
            "Nodo no explorado RIMNICU VILCEA \n",
            "Nodos vecinos de :  RIMNICU VILCEA  son:  {'SIBIU', 'CRAIOVA', 'PITESTI'}\n",
            "Nuevas Rutas ['ORADEA', 'SIBIU', 'RIMNICU VILCEA', 'SIBIU']\n",
            "Nuevas Rutas ['ORADEA', 'SIBIU', 'RIMNICU VILCEA', 'CRAIOVA']\n"
          ],
          "name": "stdout"
        },
        {
          "output_type": "execute_result",
          "data": {
            "text/plain": [
              "('Camino Escogido: ', ['ORADEA', 'SIBIU', 'RIMNICU VILCEA', 'CRAIOVA'])"
            ]
          },
          "metadata": {
            "tags": []
          },
          "execution_count": 59
        }
      ]
    },
    {
      "cell_type": "markdown",
      "metadata": {
        "id": "CE_sfWGmtQ4a",
        "colab_type": "text"
      },
      "source": [
        "**PRUEBA  6 BFS**"
      ]
    },
    {
      "cell_type": "markdown",
      "metadata": {
        "id": "CqhCTzJP6_DB",
        "colab_type": "text"
      },
      "source": [
        "En la prueba 6 se puede observar que el nodo de inicio es PITESTI recorre el grafo en anchura y encuentra el camino más corto tal que queue va registrando las rutas posibles en lugar de nodos. Cuando el algoritmo verifica si hay un nodo vecino, debe verificar si el nodo vecino corresponde al nodo objetivo. Esta prueba el objetivo de URZICENI si se encuentra ya no hay necesidad de seguir explorando el gráfo."
      ]
    },
    {
      "cell_type": "code",
      "metadata": {
        "id": "sRaToSStuMvl",
        "colab_type": "code",
        "outputId": "8d8ebf08-c38c-4d13-bcd2-fdc1415e996c",
        "colab": {
          "base_uri": "https://localhost:8080/",
          "height": 505
        }
      },
      "source": [
        "bfs_shortest_path(graph,'PITESTI','URZICENI')"
      ],
      "execution_count": 0,
      "outputs": [
        {
          "output_type": "stream",
          "text": [
            "Nodo inicial:  PITESTI\n",
            "Nodo objetivo:  URZICENI\n",
            "\n",
            "\n",
            "Ruta en la cola:  ['PITESTI']  - Último nodo de la ruta  PITESTI\n",
            "Nodo no explorado PITESTI \n",
            "Nodos vecinos de :  PITESTI  son:  {'CRAIOVA', 'BUCHAREST', 'RIMNICU VILCEA'}\n",
            "Nuevas Rutas ['PITESTI', 'CRAIOVA']\n",
            "Nuevas Rutas ['PITESTI', 'BUCHAREST']\n",
            "Nuevas Rutas ['PITESTI', 'RIMNICU VILCEA']\n",
            "No se encontro Objetivo\n",
            "Nuevas rutas agregada a la cola:  [['PITESTI', 'CRAIOVA'], ['PITESTI', 'BUCHAREST'], ['PITESTI', 'RIMNICU VILCEA']]\n",
            "-------------------------------------------------------------------------------------------------------------\n",
            "Ruta en la cola:  ['PITESTI', 'CRAIOVA']  - Último nodo de la ruta  CRAIOVA\n",
            "Nodo no explorado CRAIOVA \n",
            "Nodos vecinos de :  CRAIOVA  son:  {'DOBRETA', 'RIMNICU VILCEA', 'PITESTI'}\n",
            "Nuevas Rutas ['PITESTI', 'CRAIOVA', 'DOBRETA']\n",
            "Nuevas Rutas ['PITESTI', 'CRAIOVA', 'RIMNICU VILCEA']\n",
            "Nuevas Rutas ['PITESTI', 'CRAIOVA', 'PITESTI']\n",
            "No se encontro Objetivo\n",
            "Nuevas rutas agregada a la cola:  [['PITESTI', 'BUCHAREST'], ['PITESTI', 'RIMNICU VILCEA'], ['PITESTI', 'CRAIOVA', 'DOBRETA'], ['PITESTI', 'CRAIOVA', 'RIMNICU VILCEA'], ['PITESTI', 'CRAIOVA', 'PITESTI']]\n",
            "-------------------------------------------------------------------------------------------------------------\n",
            "Ruta en la cola:  ['PITESTI', 'BUCHAREST']  - Último nodo de la ruta  BUCHAREST\n",
            "Nodo no explorado BUCHAREST \n",
            "Nodos vecinos de :  BUCHAREST  son:  {'URZICENI', 'GIURGIU', 'FAGARAS', 'PITESTI'}\n",
            "Nuevas Rutas ['PITESTI', 'BUCHAREST', 'URZICENI']\n"
          ],
          "name": "stdout"
        },
        {
          "output_type": "execute_result",
          "data": {
            "text/plain": [
              "('Camino Escogido: ', ['PITESTI', 'BUCHAREST', 'URZICENI'])"
            ]
          },
          "metadata": {
            "tags": []
          },
          "execution_count": 60
        }
      ]
    },
    {
      "cell_type": "markdown",
      "metadata": {
        "id": "wGZxe3qzuoU0",
        "colab_type": "text"
      },
      "source": [
        "**PRUEBA 7 BFS**\n"
      ]
    },
    {
      "cell_type": "markdown",
      "metadata": {
        "id": "26TymgjE-pMv",
        "colab_type": "text"
      },
      "source": [
        "En la prueba 7 se puede observar que el nodo de inicio es NEAMT recorre el grafo en anchura y encuentra el camino más corto tal que queue va registrando las rutas posibles en lugar de nodos. Cuando el algoritmo verifica si hay un nodo vecino, debe verificar si el nodo vecino corresponde al nodo objetivo. Esta prueba el objetivo de URZICENI si se encuentra ya no hay necesidad de seguir explorando el gráfo."
      ]
    },
    {
      "cell_type": "code",
      "metadata": {
        "id": "RXnnJ2EjutNC",
        "colab_type": "code",
        "outputId": "6ea011d7-0ce3-46d2-b868-83923e141dd5",
        "colab": {
          "base_uri": "https://localhost:8080/",
          "height": 485
        }
      },
      "source": [
        "bfs_shortest_path(graph,'NEAMT','URZICENI')"
      ],
      "execution_count": 0,
      "outputs": [
        {
          "output_type": "stream",
          "text": [
            "Nodo inicial:  NEAMT\n",
            "Nodo objetivo:  URZICENI\n",
            "\n",
            "\n",
            "Ruta en la cola:  ['NEAMT']  - Último nodo de la ruta  NEAMT\n",
            "Nodo no explorado NEAMT \n",
            "Nodos vecinos de :  NEAMT  son:  {'IASI'}\n",
            "Nuevas Rutas ['NEAMT', 'IASI']\n",
            "No se encontro Objetivo\n",
            "Nuevas rutas agregada a la cola:  [['NEAMT', 'IASI']]\n",
            "-------------------------------------------------------------------------------------------------------------\n",
            "Ruta en la cola:  ['NEAMT', 'IASI']  - Último nodo de la ruta  IASI\n",
            "Nodo no explorado IASI \n",
            "Nodos vecinos de :  IASI  son:  {'NEAMT', 'VASLUI'}\n",
            "Nuevas Rutas ['NEAMT', 'IASI', 'NEAMT']\n",
            "Nuevas Rutas ['NEAMT', 'IASI', 'VASLUI']\n",
            "No se encontro Objetivo\n",
            "Nuevas rutas agregada a la cola:  [['NEAMT', 'IASI', 'NEAMT'], ['NEAMT', 'IASI', 'VASLUI']]\n",
            "-------------------------------------------------------------------------------------------------------------\n",
            "Ruta en la cola:  ['NEAMT', 'IASI', 'NEAMT']  - Último nodo de la ruta  NEAMT\n",
            "Ya ha sido explorado nodo: NEAMT\n",
            "Ruta en la cola:  ['NEAMT', 'IASI', 'VASLUI']  - Último nodo de la ruta  VASLUI\n",
            "Nodo no explorado VASLUI \n",
            "Nodos vecinos de :  VASLUI  son:  {'IASI', 'URZICENI'}\n",
            "Nuevas Rutas ['NEAMT', 'IASI', 'VASLUI', 'IASI']\n",
            "Nuevas Rutas ['NEAMT', 'IASI', 'VASLUI', 'URZICENI']\n"
          ],
          "name": "stdout"
        },
        {
          "output_type": "execute_result",
          "data": {
            "text/plain": [
              "('Camino Escogido: ', ['NEAMT', 'IASI', 'VASLUI', 'URZICENI'])"
            ]
          },
          "metadata": {
            "tags": []
          },
          "execution_count": 61
        }
      ]
    },
    {
      "cell_type": "markdown",
      "metadata": {
        "id": "_CiUqRRJu5-9",
        "colab_type": "text"
      },
      "source": [
        "**PRUEBA 8 BFS**"
      ]
    },
    {
      "cell_type": "markdown",
      "metadata": {
        "id": "A18XvSXO7obw",
        "colab_type": "text"
      },
      "source": [
        "En la prueba 8 se puede observar que el nodo de inicio es ORADEA recorre el grafo en anchura y encuentra el camino más corto tal que queue va registrando las rutas posibles en lugar de nodos. Cuando el algoritmo verifica si hay un nodo vecino, debe verificar si el nodo vecino corresponde al nodo objetivo. Esta prueba el objetivo de FAGARAS si se encuentra ya no hay necesidad de seguir explorando el gráfo."
      ]
    },
    {
      "cell_type": "code",
      "metadata": {
        "id": "c_q-IHwFu8nT",
        "colab_type": "code",
        "outputId": "9c1941c3-e56d-4fe3-e46d-1584b8f4744c",
        "colab": {
          "base_uri": "https://localhost:8080/",
          "height": 503
        }
      },
      "source": [
        "bfs_shortest_path(graph,'ORADEA','FAGARAS')"
      ],
      "execution_count": 0,
      "outputs": [
        {
          "output_type": "stream",
          "text": [
            "Nodo inicial:  ORADEA\n",
            "Nodo objetivo:  FAGARAS\n",
            "\n",
            "\n",
            "Ruta en la cola:  ['ORADEA']  - Último nodo de la ruta  ORADEA\n",
            "Nodo no explorado ORADEA \n",
            "Nodos vecinos de :  ORADEA  son:  {'ZERIND', 'SIBIU'}\n",
            "Nuevas Rutas ['ORADEA', 'ZERIND']\n",
            "Nuevas Rutas ['ORADEA', 'SIBIU']\n",
            "No se encontro Objetivo\n",
            "Nuevas rutas agregada a la cola:  [['ORADEA', 'ZERIND'], ['ORADEA', 'SIBIU']]\n",
            "-------------------------------------------------------------------------------------------------------------\n",
            "Ruta en la cola:  ['ORADEA', 'ZERIND']  - Último nodo de la ruta  ZERIND\n",
            "Nodo no explorado ZERIND \n",
            "Nodos vecinos de :  ZERIND  son:  {'ORADEA', 'ARAD'}\n",
            "Nuevas Rutas ['ORADEA', 'ZERIND', 'ORADEA']\n",
            "Nuevas Rutas ['ORADEA', 'ZERIND', 'ARAD']\n",
            "No se encontro Objetivo\n",
            "Nuevas rutas agregada a la cola:  [['ORADEA', 'SIBIU'], ['ORADEA', 'ZERIND', 'ORADEA'], ['ORADEA', 'ZERIND', 'ARAD']]\n",
            "-------------------------------------------------------------------------------------------------------------\n",
            "Ruta en la cola:  ['ORADEA', 'SIBIU']  - Último nodo de la ruta  SIBIU\n",
            "Nodo no explorado SIBIU \n",
            "Nodos vecinos de :  SIBIU  son:  {'RIMNICU VILCEA', 'ORADEA', 'ARAD', 'FAGARAS'}\n",
            "Nuevas Rutas ['ORADEA', 'SIBIU', 'RIMNICU VILCEA']\n",
            "Nuevas Rutas ['ORADEA', 'SIBIU', 'ORADEA']\n",
            "Nuevas Rutas ['ORADEA', 'SIBIU', 'ARAD']\n",
            "Nuevas Rutas ['ORADEA', 'SIBIU', 'FAGARAS']\n"
          ],
          "name": "stdout"
        },
        {
          "output_type": "execute_result",
          "data": {
            "text/plain": [
              "('Camino Escogido: ', ['ORADEA', 'SIBIU', 'FAGARAS'])"
            ]
          },
          "metadata": {
            "tags": []
          },
          "execution_count": 62
        }
      ]
    },
    {
      "cell_type": "markdown",
      "metadata": {
        "id": "BqL9-GAeu8-i",
        "colab_type": "text"
      },
      "source": [
        "**PRUEBA 9 BFS**"
      ]
    },
    {
      "cell_type": "markdown",
      "metadata": {
        "id": "Ca9k6NfA7-MI",
        "colab_type": "text"
      },
      "source": [
        "En la prueba 9 se puede observar que el nodo de inicio es RIMNICU VILCEA recorre el grafo en anchura y encuentra el camino más corto tal que queue va registrando las rutas posibles en lugar de nodos. Cuando el algoritmo verifica si hay un nodo vecino, debe verificar si el nodo vecino corresponde al nodo objetivo. Esta prueba el objetivo de MEHADIA si se encuentra ya no hay necesidad de seguir explorando el gráfo."
      ]
    },
    {
      "cell_type": "code",
      "metadata": {
        "id": "JMY7Qe2Lu_aL",
        "colab_type": "code",
        "outputId": "95856ccb-8534-4861-cdae-0cb0528cb124",
        "colab": {
          "base_uri": "https://localhost:8080/",
          "height": 1000
        }
      },
      "source": [
        "bfs_shortest_path(graph,'RIMNICU VILCEA','MEHADIA')"
      ],
      "execution_count": 0,
      "outputs": [
        {
          "output_type": "stream",
          "text": [
            "Nodo inicial:  RIMNICU VILCEA\n",
            "Nodo objetivo:  MEHADIA\n",
            "\n",
            "\n",
            "Ruta en la cola:  ['RIMNICU VILCEA']  - Último nodo de la ruta  RIMNICU VILCEA\n",
            "Nodo no explorado RIMNICU VILCEA \n",
            "Nodos vecinos de :  RIMNICU VILCEA  son:  {'SIBIU', 'CRAIOVA', 'PITESTI'}\n",
            "Nuevas Rutas ['RIMNICU VILCEA', 'SIBIU']\n",
            "Nuevas Rutas ['RIMNICU VILCEA', 'CRAIOVA']\n",
            "Nuevas Rutas ['RIMNICU VILCEA', 'PITESTI']\n",
            "No se encontro Objetivo\n",
            "Nuevas rutas agregada a la cola:  [['RIMNICU VILCEA', 'SIBIU'], ['RIMNICU VILCEA', 'CRAIOVA'], ['RIMNICU VILCEA', 'PITESTI']]\n",
            "-------------------------------------------------------------------------------------------------------------\n",
            "Ruta en la cola:  ['RIMNICU VILCEA', 'SIBIU']  - Último nodo de la ruta  SIBIU\n",
            "Nodo no explorado SIBIU \n",
            "Nodos vecinos de :  SIBIU  son:  {'RIMNICU VILCEA', 'ORADEA', 'ARAD', 'FAGARAS'}\n",
            "Nuevas Rutas ['RIMNICU VILCEA', 'SIBIU', 'RIMNICU VILCEA']\n",
            "Nuevas Rutas ['RIMNICU VILCEA', 'SIBIU', 'ORADEA']\n",
            "Nuevas Rutas ['RIMNICU VILCEA', 'SIBIU', 'ARAD']\n",
            "Nuevas Rutas ['RIMNICU VILCEA', 'SIBIU', 'FAGARAS']\n",
            "No se encontro Objetivo\n",
            "Nuevas rutas agregada a la cola:  [['RIMNICU VILCEA', 'CRAIOVA'], ['RIMNICU VILCEA', 'PITESTI'], ['RIMNICU VILCEA', 'SIBIU', 'RIMNICU VILCEA'], ['RIMNICU VILCEA', 'SIBIU', 'ORADEA'], ['RIMNICU VILCEA', 'SIBIU', 'ARAD'], ['RIMNICU VILCEA', 'SIBIU', 'FAGARAS']]\n",
            "-------------------------------------------------------------------------------------------------------------\n",
            "Ruta en la cola:  ['RIMNICU VILCEA', 'CRAIOVA']  - Último nodo de la ruta  CRAIOVA\n",
            "Nodo no explorado CRAIOVA \n",
            "Nodos vecinos de :  CRAIOVA  son:  {'DOBRETA', 'RIMNICU VILCEA', 'PITESTI'}\n",
            "Nuevas Rutas ['RIMNICU VILCEA', 'CRAIOVA', 'DOBRETA']\n",
            "Nuevas Rutas ['RIMNICU VILCEA', 'CRAIOVA', 'RIMNICU VILCEA']\n",
            "Nuevas Rutas ['RIMNICU VILCEA', 'CRAIOVA', 'PITESTI']\n",
            "No se encontro Objetivo\n",
            "Nuevas rutas agregada a la cola:  [['RIMNICU VILCEA', 'PITESTI'], ['RIMNICU VILCEA', 'SIBIU', 'RIMNICU VILCEA'], ['RIMNICU VILCEA', 'SIBIU', 'ORADEA'], ['RIMNICU VILCEA', 'SIBIU', 'ARAD'], ['RIMNICU VILCEA', 'SIBIU', 'FAGARAS'], ['RIMNICU VILCEA', 'CRAIOVA', 'DOBRETA'], ['RIMNICU VILCEA', 'CRAIOVA', 'RIMNICU VILCEA'], ['RIMNICU VILCEA', 'CRAIOVA', 'PITESTI']]\n",
            "-------------------------------------------------------------------------------------------------------------\n",
            "Ruta en la cola:  ['RIMNICU VILCEA', 'PITESTI']  - Último nodo de la ruta  PITESTI\n",
            "Nodo no explorado PITESTI \n",
            "Nodos vecinos de :  PITESTI  son:  {'CRAIOVA', 'BUCHAREST', 'RIMNICU VILCEA'}\n",
            "Nuevas Rutas ['RIMNICU VILCEA', 'PITESTI', 'CRAIOVA']\n",
            "Nuevas Rutas ['RIMNICU VILCEA', 'PITESTI', 'BUCHAREST']\n",
            "Nuevas Rutas ['RIMNICU VILCEA', 'PITESTI', 'RIMNICU VILCEA']\n",
            "No se encontro Objetivo\n",
            "Nuevas rutas agregada a la cola:  [['RIMNICU VILCEA', 'SIBIU', 'RIMNICU VILCEA'], ['RIMNICU VILCEA', 'SIBIU', 'ORADEA'], ['RIMNICU VILCEA', 'SIBIU', 'ARAD'], ['RIMNICU VILCEA', 'SIBIU', 'FAGARAS'], ['RIMNICU VILCEA', 'CRAIOVA', 'DOBRETA'], ['RIMNICU VILCEA', 'CRAIOVA', 'RIMNICU VILCEA'], ['RIMNICU VILCEA', 'CRAIOVA', 'PITESTI'], ['RIMNICU VILCEA', 'PITESTI', 'CRAIOVA'], ['RIMNICU VILCEA', 'PITESTI', 'BUCHAREST'], ['RIMNICU VILCEA', 'PITESTI', 'RIMNICU VILCEA']]\n",
            "-------------------------------------------------------------------------------------------------------------\n",
            "Ruta en la cola:  ['RIMNICU VILCEA', 'SIBIU', 'RIMNICU VILCEA']  - Último nodo de la ruta  RIMNICU VILCEA\n",
            "Ya ha sido explorado nodo: RIMNICU VILCEA\n",
            "Ruta en la cola:  ['RIMNICU VILCEA', 'SIBIU', 'ORADEA']  - Último nodo de la ruta  ORADEA\n",
            "Nodo no explorado ORADEA \n",
            "Nodos vecinos de :  ORADEA  son:  {'ZERIND', 'SIBIU'}\n",
            "Nuevas Rutas ['RIMNICU VILCEA', 'SIBIU', 'ORADEA', 'ZERIND']\n",
            "Nuevas Rutas ['RIMNICU VILCEA', 'SIBIU', 'ORADEA', 'SIBIU']\n",
            "No se encontro Objetivo\n",
            "Nuevas rutas agregada a la cola:  [['RIMNICU VILCEA', 'SIBIU', 'ARAD'], ['RIMNICU VILCEA', 'SIBIU', 'FAGARAS'], ['RIMNICU VILCEA', 'CRAIOVA', 'DOBRETA'], ['RIMNICU VILCEA', 'CRAIOVA', 'RIMNICU VILCEA'], ['RIMNICU VILCEA', 'CRAIOVA', 'PITESTI'], ['RIMNICU VILCEA', 'PITESTI', 'CRAIOVA'], ['RIMNICU VILCEA', 'PITESTI', 'BUCHAREST'], ['RIMNICU VILCEA', 'PITESTI', 'RIMNICU VILCEA'], ['RIMNICU VILCEA', 'SIBIU', 'ORADEA', 'ZERIND'], ['RIMNICU VILCEA', 'SIBIU', 'ORADEA', 'SIBIU']]\n",
            "-------------------------------------------------------------------------------------------------------------\n",
            "Ruta en la cola:  ['RIMNICU VILCEA', 'SIBIU', 'ARAD']  - Último nodo de la ruta  ARAD\n",
            "Nodo no explorado ARAD \n",
            "Nodos vecinos de :  ARAD  son:  {'ZERIND', 'SIBIU', 'TIMISOARA'}\n",
            "Nuevas Rutas ['RIMNICU VILCEA', 'SIBIU', 'ARAD', 'ZERIND']\n",
            "Nuevas Rutas ['RIMNICU VILCEA', 'SIBIU', 'ARAD', 'SIBIU']\n",
            "Nuevas Rutas ['RIMNICU VILCEA', 'SIBIU', 'ARAD', 'TIMISOARA']\n",
            "No se encontro Objetivo\n",
            "Nuevas rutas agregada a la cola:  [['RIMNICU VILCEA', 'SIBIU', 'FAGARAS'], ['RIMNICU VILCEA', 'CRAIOVA', 'DOBRETA'], ['RIMNICU VILCEA', 'CRAIOVA', 'RIMNICU VILCEA'], ['RIMNICU VILCEA', 'CRAIOVA', 'PITESTI'], ['RIMNICU VILCEA', 'PITESTI', 'CRAIOVA'], ['RIMNICU VILCEA', 'PITESTI', 'BUCHAREST'], ['RIMNICU VILCEA', 'PITESTI', 'RIMNICU VILCEA'], ['RIMNICU VILCEA', 'SIBIU', 'ORADEA', 'ZERIND'], ['RIMNICU VILCEA', 'SIBIU', 'ORADEA', 'SIBIU'], ['RIMNICU VILCEA', 'SIBIU', 'ARAD', 'ZERIND'], ['RIMNICU VILCEA', 'SIBIU', 'ARAD', 'SIBIU'], ['RIMNICU VILCEA', 'SIBIU', 'ARAD', 'TIMISOARA']]\n",
            "-------------------------------------------------------------------------------------------------------------\n",
            "Ruta en la cola:  ['RIMNICU VILCEA', 'SIBIU', 'FAGARAS']  - Último nodo de la ruta  FAGARAS\n",
            "Nodo no explorado FAGARAS \n",
            "Nodos vecinos de :  FAGARAS  son:  {'BUCHAREST', 'SIBIU'}\n",
            "Nuevas Rutas ['RIMNICU VILCEA', 'SIBIU', 'FAGARAS', 'BUCHAREST']\n",
            "Nuevas Rutas ['RIMNICU VILCEA', 'SIBIU', 'FAGARAS', 'SIBIU']\n",
            "No se encontro Objetivo\n",
            "Nuevas rutas agregada a la cola:  [['RIMNICU VILCEA', 'CRAIOVA', 'DOBRETA'], ['RIMNICU VILCEA', 'CRAIOVA', 'RIMNICU VILCEA'], ['RIMNICU VILCEA', 'CRAIOVA', 'PITESTI'], ['RIMNICU VILCEA', 'PITESTI', 'CRAIOVA'], ['RIMNICU VILCEA', 'PITESTI', 'BUCHAREST'], ['RIMNICU VILCEA', 'PITESTI', 'RIMNICU VILCEA'], ['RIMNICU VILCEA', 'SIBIU', 'ORADEA', 'ZERIND'], ['RIMNICU VILCEA', 'SIBIU', 'ORADEA', 'SIBIU'], ['RIMNICU VILCEA', 'SIBIU', 'ARAD', 'ZERIND'], ['RIMNICU VILCEA', 'SIBIU', 'ARAD', 'SIBIU'], ['RIMNICU VILCEA', 'SIBIU', 'ARAD', 'TIMISOARA'], ['RIMNICU VILCEA', 'SIBIU', 'FAGARAS', 'BUCHAREST'], ['RIMNICU VILCEA', 'SIBIU', 'FAGARAS', 'SIBIU']]\n",
            "-------------------------------------------------------------------------------------------------------------\n",
            "Ruta en la cola:  ['RIMNICU VILCEA', 'CRAIOVA', 'DOBRETA']  - Último nodo de la ruta  DOBRETA\n",
            "Nodo no explorado DOBRETA \n",
            "Nodos vecinos de :  DOBRETA  son:  {'MEHADIA', 'CRAIOVA'}\n",
            "Nuevas Rutas ['RIMNICU VILCEA', 'CRAIOVA', 'DOBRETA', 'MEHADIA']\n"
          ],
          "name": "stdout"
        },
        {
          "output_type": "execute_result",
          "data": {
            "text/plain": [
              "('Camino Escogido: ', ['RIMNICU VILCEA', 'CRAIOVA', 'DOBRETA', 'MEHADIA'])"
            ]
          },
          "metadata": {
            "tags": []
          },
          "execution_count": 63
        }
      ]
    },
    {
      "cell_type": "markdown",
      "metadata": {
        "id": "c7lJ3LnMu-lb",
        "colab_type": "text"
      },
      "source": [
        "**PRUEBA 10 BFS**"
      ]
    },
    {
      "cell_type": "markdown",
      "metadata": {
        "id": "OjTeYXdO7_If",
        "colab_type": "text"
      },
      "source": [
        "En la prueba 10 se puede observar que el nodo de inicio es SIBIU recorre el grafo en anchura y encuentra el camino más corto tal que queue va registrando las rutas posibles en lugar de nodos. Cuando el algoritmo verifica si hay un nodo vecino, debe verificar si el nodo vecino corresponde al nodo objetivo. Esta prueba el objetivo de GIURGIU si se encuentra ya no hay necesidad de seguir explorando el gráfo."
      ]
    },
    {
      "cell_type": "code",
      "metadata": {
        "id": "a-rBBARQvEye",
        "colab_type": "code",
        "outputId": "75330f52-0e40-4409-e51a-dd053d8ef6b8",
        "colab": {
          "base_uri": "https://localhost:8080/",
          "height": 1000
        }
      },
      "source": [
        "bfs_shortest_path(graph,'SIBIU','GIURGIU')"
      ],
      "execution_count": 0,
      "outputs": [
        {
          "output_type": "stream",
          "text": [
            "Nodo inicial:  SIBIU\n",
            "Nodo objetivo:  GIURGIU\n",
            "\n",
            "\n",
            "Ruta en la cola:  ['SIBIU']  - Último nodo de la ruta  SIBIU\n",
            "Nodo no explorado SIBIU \n",
            "Nodos vecinos de :  SIBIU  son:  {'RIMNICU VILCEA', 'ORADEA', 'ARAD', 'FAGARAS'}\n",
            "Nuevas Rutas ['SIBIU', 'RIMNICU VILCEA']\n",
            "Nuevas Rutas ['SIBIU', 'ORADEA']\n",
            "Nuevas Rutas ['SIBIU', 'ARAD']\n",
            "Nuevas Rutas ['SIBIU', 'FAGARAS']\n",
            "No se encontro Objetivo\n",
            "Nuevas rutas agregada a la cola:  [['SIBIU', 'RIMNICU VILCEA'], ['SIBIU', 'ORADEA'], ['SIBIU', 'ARAD'], ['SIBIU', 'FAGARAS']]\n",
            "-------------------------------------------------------------------------------------------------------------\n",
            "Ruta en la cola:  ['SIBIU', 'RIMNICU VILCEA']  - Último nodo de la ruta  RIMNICU VILCEA\n",
            "Nodo no explorado RIMNICU VILCEA \n",
            "Nodos vecinos de :  RIMNICU VILCEA  son:  {'SIBIU', 'CRAIOVA', 'PITESTI'}\n",
            "Nuevas Rutas ['SIBIU', 'RIMNICU VILCEA', 'SIBIU']\n",
            "Nuevas Rutas ['SIBIU', 'RIMNICU VILCEA', 'CRAIOVA']\n",
            "Nuevas Rutas ['SIBIU', 'RIMNICU VILCEA', 'PITESTI']\n",
            "No se encontro Objetivo\n",
            "Nuevas rutas agregada a la cola:  [['SIBIU', 'ORADEA'], ['SIBIU', 'ARAD'], ['SIBIU', 'FAGARAS'], ['SIBIU', 'RIMNICU VILCEA', 'SIBIU'], ['SIBIU', 'RIMNICU VILCEA', 'CRAIOVA'], ['SIBIU', 'RIMNICU VILCEA', 'PITESTI']]\n",
            "-------------------------------------------------------------------------------------------------------------\n",
            "Ruta en la cola:  ['SIBIU', 'ORADEA']  - Último nodo de la ruta  ORADEA\n",
            "Nodo no explorado ORADEA \n",
            "Nodos vecinos de :  ORADEA  son:  {'ZERIND', 'SIBIU'}\n",
            "Nuevas Rutas ['SIBIU', 'ORADEA', 'ZERIND']\n",
            "Nuevas Rutas ['SIBIU', 'ORADEA', 'SIBIU']\n",
            "No se encontro Objetivo\n",
            "Nuevas rutas agregada a la cola:  [['SIBIU', 'ARAD'], ['SIBIU', 'FAGARAS'], ['SIBIU', 'RIMNICU VILCEA', 'SIBIU'], ['SIBIU', 'RIMNICU VILCEA', 'CRAIOVA'], ['SIBIU', 'RIMNICU VILCEA', 'PITESTI'], ['SIBIU', 'ORADEA', 'ZERIND'], ['SIBIU', 'ORADEA', 'SIBIU']]\n",
            "-------------------------------------------------------------------------------------------------------------\n",
            "Ruta en la cola:  ['SIBIU', 'ARAD']  - Último nodo de la ruta  ARAD\n",
            "Nodo no explorado ARAD \n",
            "Nodos vecinos de :  ARAD  son:  {'ZERIND', 'SIBIU', 'TIMISOARA'}\n",
            "Nuevas Rutas ['SIBIU', 'ARAD', 'ZERIND']\n",
            "Nuevas Rutas ['SIBIU', 'ARAD', 'SIBIU']\n",
            "Nuevas Rutas ['SIBIU', 'ARAD', 'TIMISOARA']\n",
            "No se encontro Objetivo\n",
            "Nuevas rutas agregada a la cola:  [['SIBIU', 'FAGARAS'], ['SIBIU', 'RIMNICU VILCEA', 'SIBIU'], ['SIBIU', 'RIMNICU VILCEA', 'CRAIOVA'], ['SIBIU', 'RIMNICU VILCEA', 'PITESTI'], ['SIBIU', 'ORADEA', 'ZERIND'], ['SIBIU', 'ORADEA', 'SIBIU'], ['SIBIU', 'ARAD', 'ZERIND'], ['SIBIU', 'ARAD', 'SIBIU'], ['SIBIU', 'ARAD', 'TIMISOARA']]\n",
            "-------------------------------------------------------------------------------------------------------------\n",
            "Ruta en la cola:  ['SIBIU', 'FAGARAS']  - Último nodo de la ruta  FAGARAS\n",
            "Nodo no explorado FAGARAS \n",
            "Nodos vecinos de :  FAGARAS  son:  {'BUCHAREST', 'SIBIU'}\n",
            "Nuevas Rutas ['SIBIU', 'FAGARAS', 'BUCHAREST']\n",
            "Nuevas Rutas ['SIBIU', 'FAGARAS', 'SIBIU']\n",
            "No se encontro Objetivo\n",
            "Nuevas rutas agregada a la cola:  [['SIBIU', 'RIMNICU VILCEA', 'SIBIU'], ['SIBIU', 'RIMNICU VILCEA', 'CRAIOVA'], ['SIBIU', 'RIMNICU VILCEA', 'PITESTI'], ['SIBIU', 'ORADEA', 'ZERIND'], ['SIBIU', 'ORADEA', 'SIBIU'], ['SIBIU', 'ARAD', 'ZERIND'], ['SIBIU', 'ARAD', 'SIBIU'], ['SIBIU', 'ARAD', 'TIMISOARA'], ['SIBIU', 'FAGARAS', 'BUCHAREST'], ['SIBIU', 'FAGARAS', 'SIBIU']]\n",
            "-------------------------------------------------------------------------------------------------------------\n",
            "Ruta en la cola:  ['SIBIU', 'RIMNICU VILCEA', 'SIBIU']  - Último nodo de la ruta  SIBIU\n",
            "Ya ha sido explorado nodo: SIBIU\n",
            "Ruta en la cola:  ['SIBIU', 'RIMNICU VILCEA', 'CRAIOVA']  - Último nodo de la ruta  CRAIOVA\n",
            "Nodo no explorado CRAIOVA \n",
            "Nodos vecinos de :  CRAIOVA  son:  {'DOBRETA', 'RIMNICU VILCEA', 'PITESTI'}\n",
            "Nuevas Rutas ['SIBIU', 'RIMNICU VILCEA', 'CRAIOVA', 'DOBRETA']\n",
            "Nuevas Rutas ['SIBIU', 'RIMNICU VILCEA', 'CRAIOVA', 'RIMNICU VILCEA']\n",
            "Nuevas Rutas ['SIBIU', 'RIMNICU VILCEA', 'CRAIOVA', 'PITESTI']\n",
            "No se encontro Objetivo\n",
            "Nuevas rutas agregada a la cola:  [['SIBIU', 'RIMNICU VILCEA', 'PITESTI'], ['SIBIU', 'ORADEA', 'ZERIND'], ['SIBIU', 'ORADEA', 'SIBIU'], ['SIBIU', 'ARAD', 'ZERIND'], ['SIBIU', 'ARAD', 'SIBIU'], ['SIBIU', 'ARAD', 'TIMISOARA'], ['SIBIU', 'FAGARAS', 'BUCHAREST'], ['SIBIU', 'FAGARAS', 'SIBIU'], ['SIBIU', 'RIMNICU VILCEA', 'CRAIOVA', 'DOBRETA'], ['SIBIU', 'RIMNICU VILCEA', 'CRAIOVA', 'RIMNICU VILCEA'], ['SIBIU', 'RIMNICU VILCEA', 'CRAIOVA', 'PITESTI']]\n",
            "-------------------------------------------------------------------------------------------------------------\n",
            "Ruta en la cola:  ['SIBIU', 'RIMNICU VILCEA', 'PITESTI']  - Último nodo de la ruta  PITESTI\n",
            "Nodo no explorado PITESTI \n",
            "Nodos vecinos de :  PITESTI  son:  {'CRAIOVA', 'BUCHAREST', 'RIMNICU VILCEA'}\n",
            "Nuevas Rutas ['SIBIU', 'RIMNICU VILCEA', 'PITESTI', 'CRAIOVA']\n",
            "Nuevas Rutas ['SIBIU', 'RIMNICU VILCEA', 'PITESTI', 'BUCHAREST']\n",
            "Nuevas Rutas ['SIBIU', 'RIMNICU VILCEA', 'PITESTI', 'RIMNICU VILCEA']\n",
            "No se encontro Objetivo\n",
            "Nuevas rutas agregada a la cola:  [['SIBIU', 'ORADEA', 'ZERIND'], ['SIBIU', 'ORADEA', 'SIBIU'], ['SIBIU', 'ARAD', 'ZERIND'], ['SIBIU', 'ARAD', 'SIBIU'], ['SIBIU', 'ARAD', 'TIMISOARA'], ['SIBIU', 'FAGARAS', 'BUCHAREST'], ['SIBIU', 'FAGARAS', 'SIBIU'], ['SIBIU', 'RIMNICU VILCEA', 'CRAIOVA', 'DOBRETA'], ['SIBIU', 'RIMNICU VILCEA', 'CRAIOVA', 'RIMNICU VILCEA'], ['SIBIU', 'RIMNICU VILCEA', 'CRAIOVA', 'PITESTI'], ['SIBIU', 'RIMNICU VILCEA', 'PITESTI', 'CRAIOVA'], ['SIBIU', 'RIMNICU VILCEA', 'PITESTI', 'BUCHAREST'], ['SIBIU', 'RIMNICU VILCEA', 'PITESTI', 'RIMNICU VILCEA']]\n",
            "-------------------------------------------------------------------------------------------------------------\n",
            "Ruta en la cola:  ['SIBIU', 'ORADEA', 'ZERIND']  - Último nodo de la ruta  ZERIND\n",
            "Nodo no explorado ZERIND \n",
            "Nodos vecinos de :  ZERIND  son:  {'ORADEA', 'ARAD'}\n",
            "Nuevas Rutas ['SIBIU', 'ORADEA', 'ZERIND', 'ORADEA']\n",
            "Nuevas Rutas ['SIBIU', 'ORADEA', 'ZERIND', 'ARAD']\n",
            "No se encontro Objetivo\n",
            "Nuevas rutas agregada a la cola:  [['SIBIU', 'ORADEA', 'SIBIU'], ['SIBIU', 'ARAD', 'ZERIND'], ['SIBIU', 'ARAD', 'SIBIU'], ['SIBIU', 'ARAD', 'TIMISOARA'], ['SIBIU', 'FAGARAS', 'BUCHAREST'], ['SIBIU', 'FAGARAS', 'SIBIU'], ['SIBIU', 'RIMNICU VILCEA', 'CRAIOVA', 'DOBRETA'], ['SIBIU', 'RIMNICU VILCEA', 'CRAIOVA', 'RIMNICU VILCEA'], ['SIBIU', 'RIMNICU VILCEA', 'CRAIOVA', 'PITESTI'], ['SIBIU', 'RIMNICU VILCEA', 'PITESTI', 'CRAIOVA'], ['SIBIU', 'RIMNICU VILCEA', 'PITESTI', 'BUCHAREST'], ['SIBIU', 'RIMNICU VILCEA', 'PITESTI', 'RIMNICU VILCEA'], ['SIBIU', 'ORADEA', 'ZERIND', 'ORADEA'], ['SIBIU', 'ORADEA', 'ZERIND', 'ARAD']]\n",
            "-------------------------------------------------------------------------------------------------------------\n",
            "Ruta en la cola:  ['SIBIU', 'ORADEA', 'SIBIU']  - Último nodo de la ruta  SIBIU\n",
            "Ya ha sido explorado nodo: SIBIU\n",
            "Ruta en la cola:  ['SIBIU', 'ARAD', 'ZERIND']  - Último nodo de la ruta  ZERIND\n",
            "Ya ha sido explorado nodo: ZERIND\n",
            "Ruta en la cola:  ['SIBIU', 'ARAD', 'SIBIU']  - Último nodo de la ruta  SIBIU\n",
            "Ya ha sido explorado nodo: SIBIU\n",
            "Ruta en la cola:  ['SIBIU', 'ARAD', 'TIMISOARA']  - Último nodo de la ruta  TIMISOARA\n",
            "Nodo no explorado TIMISOARA \n",
            "Nodos vecinos de :  TIMISOARA  son:  {'ARAD', 'LUGOJ'}\n",
            "Nuevas Rutas ['SIBIU', 'ARAD', 'TIMISOARA', 'ARAD']\n",
            "Nuevas Rutas ['SIBIU', 'ARAD', 'TIMISOARA', 'LUGOJ']\n",
            "No se encontro Objetivo\n",
            "Nuevas rutas agregada a la cola:  [['SIBIU', 'FAGARAS', 'BUCHAREST'], ['SIBIU', 'FAGARAS', 'SIBIU'], ['SIBIU', 'RIMNICU VILCEA', 'CRAIOVA', 'DOBRETA'], ['SIBIU', 'RIMNICU VILCEA', 'CRAIOVA', 'RIMNICU VILCEA'], ['SIBIU', 'RIMNICU VILCEA', 'CRAIOVA', 'PITESTI'], ['SIBIU', 'RIMNICU VILCEA', 'PITESTI', 'CRAIOVA'], ['SIBIU', 'RIMNICU VILCEA', 'PITESTI', 'BUCHAREST'], ['SIBIU', 'RIMNICU VILCEA', 'PITESTI', 'RIMNICU VILCEA'], ['SIBIU', 'ORADEA', 'ZERIND', 'ORADEA'], ['SIBIU', 'ORADEA', 'ZERIND', 'ARAD'], ['SIBIU', 'ARAD', 'TIMISOARA', 'ARAD'], ['SIBIU', 'ARAD', 'TIMISOARA', 'LUGOJ']]\n",
            "-------------------------------------------------------------------------------------------------------------\n",
            "Ruta en la cola:  ['SIBIU', 'FAGARAS', 'BUCHAREST']  - Último nodo de la ruta  BUCHAREST\n",
            "Nodo no explorado BUCHAREST \n",
            "Nodos vecinos de :  BUCHAREST  son:  {'URZICENI', 'GIURGIU', 'FAGARAS', 'PITESTI'}\n",
            "Nuevas Rutas ['SIBIU', 'FAGARAS', 'BUCHAREST', 'URZICENI']\n",
            "Nuevas Rutas ['SIBIU', 'FAGARAS', 'BUCHAREST', 'GIURGIU']\n"
          ],
          "name": "stdout"
        },
        {
          "output_type": "execute_result",
          "data": {
            "text/plain": [
              "('Camino Escogido: ', ['SIBIU', 'FAGARAS', 'BUCHAREST', 'GIURGIU'])"
            ]
          },
          "metadata": {
            "tags": []
          },
          "execution_count": 64
        }
      ]
    },
    {
      "cell_type": "markdown",
      "metadata": {
        "id": "RtXQmkZf9bbX",
        "colab_type": "text"
      },
      "source": [
        "# ALGORITMO DSF"
      ]
    },
    {
      "cell_type": "markdown",
      "metadata": {
        "id": "eeZ0kuw0azwg",
        "colab_type": "text"
      },
      "source": [
        "Se realizó la función dfs la cual implementa una búsqueda en profundidad. Su funcionamiento consiste en ir expandiendo todos y cada uno de los nodos que va localizando, de forma recurrente, en un camino concreto. Cuando ya no quedan más nodos que visitar en dicho camino, regresa de modo que repite el mismo proceso con cada uno de los nodos vecinos ya procesado."
      ]
    },
    {
      "cell_type": "markdown",
      "metadata": {
        "id": "_2KQ0etW4vra",
        "colab_type": "text"
      },
      "source": [
        "**PRUEBA 1 DFS**"
      ]
    },
    {
      "cell_type": "code",
      "metadata": {
        "id": "rtGVctbe9ouo",
        "colab_type": "code",
        "colab": {}
      },
      "source": [
        "def dfs_paths(graph, start, goal):\n",
        "  \n",
        "    print('Nodo inicial: ',start)\n",
        "    print ('Nodo objetivo: ',goal)\n",
        "    print('\\n')\n",
        "  \n",
        "    # Define stack variable\n",
        "    stack = [[start]]\n",
        "    # Do the process while there are paths to follow\n",
        "    while stack:\n",
        "        path = stack.pop()\n",
        "        node = path[-1]\n",
        "        \n",
        "        print('Ruta en la cola: ',path, 'Último nodo en la ruta: ',node)\n",
        "        for next in graph[node] - set(path):\n",
        "            # If a correct path is founded, then return the path with the generator\n",
        "            # else write a new path and follow iterating.\n",
        "            if next == goal:\n",
        "                print('Camino Escogido: ', path + [next], ' - Objetivo Encontrado: ',next)\n",
        "                print('------------------------------------------------------------------------------------------------------------------------')\n",
        "                path + [next]\n",
        "            else:\n",
        "                stack.append(path + [next])"
      ],
      "execution_count": 0,
      "outputs": []
    },
    {
      "cell_type": "markdown",
      "metadata": {
        "id": "hMacMCp1fd9K",
        "colab_type": "text"
      },
      "source": [
        "En la prueba 1 se puede visualizar que el nodo de inicio es ORADEA este a diferencia del BFS recorre el grafo en profundidad va expandiendo todos y cada uno de los nodos que va localizando de forma repetitivo en un camino en concreto. Si ya no quedan mas nodos que visitar por ese camino, se regresa al anterior y este vuelve a repite el mismo proceso con todos los nodos vecinos ya explorado.\n"
      ]
    },
    {
      "cell_type": "code",
      "metadata": {
        "id": "719d4cuDfakA",
        "colab_type": "code",
        "outputId": "26836511-3942-4438-ce50-569c515f54d3",
        "colab": {
          "base_uri": "https://localhost:8080/",
          "height": 835
        }
      },
      "source": [
        "  dfs_paths(graph,'ORADEA','SIBIU')"
      ],
      "execution_count": 0,
      "outputs": [
        {
          "output_type": "stream",
          "text": [
            "Nodo inicial:  ORADEA\n",
            "Nodo objetivo:  SIBIU\n",
            "\n",
            "\n",
            "Ruta en la cola:  ['ORADEA'] Último nodo en la ruta:  ORADEA\n",
            "Camino Escogido:  ['ORADEA', 'SIBIU']  - Objetivo Encontrado:  SIBIU\n",
            "------------------------------------------------------------------------------------------------------------------------\n",
            "Ruta en la cola:  ['ORADEA', 'ZERIND'] Último nodo en la ruta:  ZERIND\n",
            "Ruta en la cola:  ['ORADEA', 'ZERIND', 'ARAD'] Último nodo en la ruta:  ARAD\n",
            "Camino Escogido:  ['ORADEA', 'ZERIND', 'ARAD', 'SIBIU']  - Objetivo Encontrado:  SIBIU\n",
            "------------------------------------------------------------------------------------------------------------------------\n",
            "Ruta en la cola:  ['ORADEA', 'ZERIND', 'ARAD', 'TIMISOARA'] Último nodo en la ruta:  TIMISOARA\n",
            "Ruta en la cola:  ['ORADEA', 'ZERIND', 'ARAD', 'TIMISOARA', 'LUGOJ'] Último nodo en la ruta:  LUGOJ\n",
            "Ruta en la cola:  ['ORADEA', 'ZERIND', 'ARAD', 'TIMISOARA', 'LUGOJ', 'MEHADIA'] Último nodo en la ruta:  MEHADIA\n",
            "Ruta en la cola:  ['ORADEA', 'ZERIND', 'ARAD', 'TIMISOARA', 'LUGOJ', 'MEHADIA', 'DOBRETA'] Último nodo en la ruta:  DOBRETA\n",
            "Ruta en la cola:  ['ORADEA', 'ZERIND', 'ARAD', 'TIMISOARA', 'LUGOJ', 'MEHADIA', 'DOBRETA', 'CRAIOVA'] Último nodo en la ruta:  CRAIOVA\n",
            "Ruta en la cola:  ['ORADEA', 'ZERIND', 'ARAD', 'TIMISOARA', 'LUGOJ', 'MEHADIA', 'DOBRETA', 'CRAIOVA', 'PITESTI'] Último nodo en la ruta:  PITESTI\n",
            "Ruta en la cola:  ['ORADEA', 'ZERIND', 'ARAD', 'TIMISOARA', 'LUGOJ', 'MEHADIA', 'DOBRETA', 'CRAIOVA', 'PITESTI', 'RIMNICU VILCEA'] Último nodo en la ruta:  RIMNICU VILCEA\n",
            "Camino Escogido:  ['ORADEA', 'ZERIND', 'ARAD', 'TIMISOARA', 'LUGOJ', 'MEHADIA', 'DOBRETA', 'CRAIOVA', 'PITESTI', 'RIMNICU VILCEA', 'SIBIU']  - Objetivo Encontrado:  SIBIU\n",
            "------------------------------------------------------------------------------------------------------------------------\n",
            "Ruta en la cola:  ['ORADEA', 'ZERIND', 'ARAD', 'TIMISOARA', 'LUGOJ', 'MEHADIA', 'DOBRETA', 'CRAIOVA', 'PITESTI', 'BUCHAREST'] Último nodo en la ruta:  BUCHAREST\n",
            "Ruta en la cola:  ['ORADEA', 'ZERIND', 'ARAD', 'TIMISOARA', 'LUGOJ', 'MEHADIA', 'DOBRETA', 'CRAIOVA', 'PITESTI', 'BUCHAREST', 'FAGARAS'] Último nodo en la ruta:  FAGARAS\n",
            "Camino Escogido:  ['ORADEA', 'ZERIND', 'ARAD', 'TIMISOARA', 'LUGOJ', 'MEHADIA', 'DOBRETA', 'CRAIOVA', 'PITESTI', 'BUCHAREST', 'FAGARAS', 'SIBIU']  - Objetivo Encontrado:  SIBIU\n",
            "------------------------------------------------------------------------------------------------------------------------\n",
            "Ruta en la cola:  ['ORADEA', 'ZERIND', 'ARAD', 'TIMISOARA', 'LUGOJ', 'MEHADIA', 'DOBRETA', 'CRAIOVA', 'PITESTI', 'BUCHAREST', 'URZICENI'] Último nodo en la ruta:  URZICENI\n",
            "Ruta en la cola:  ['ORADEA', 'ZERIND', 'ARAD', 'TIMISOARA', 'LUGOJ', 'MEHADIA', 'DOBRETA', 'CRAIOVA', 'PITESTI', 'BUCHAREST', 'URZICENI', 'VASLUI'] Último nodo en la ruta:  VASLUI\n",
            "Ruta en la cola:  ['ORADEA', 'ZERIND', 'ARAD', 'TIMISOARA', 'LUGOJ', 'MEHADIA', 'DOBRETA', 'CRAIOVA', 'PITESTI', 'BUCHAREST', 'URZICENI', 'VASLUI', 'IASI'] Último nodo en la ruta:  IASI\n",
            "Ruta en la cola:  ['ORADEA', 'ZERIND', 'ARAD', 'TIMISOARA', 'LUGOJ', 'MEHADIA', 'DOBRETA', 'CRAIOVA', 'PITESTI', 'BUCHAREST', 'URZICENI', 'VASLUI', 'IASI', 'NEAMT'] Último nodo en la ruta:  NEAMT\n",
            "Ruta en la cola:  ['ORADEA', 'ZERIND', 'ARAD', 'TIMISOARA', 'LUGOJ', 'MEHADIA', 'DOBRETA', 'CRAIOVA', 'PITESTI', 'BUCHAREST', 'URZICENI', 'HIRSOVA'] Último nodo en la ruta:  HIRSOVA\n",
            "Ruta en la cola:  ['ORADEA', 'ZERIND', 'ARAD', 'TIMISOARA', 'LUGOJ', 'MEHADIA', 'DOBRETA', 'CRAIOVA', 'PITESTI', 'BUCHAREST', 'URZICENI', 'HIRSOVA', 'EFORIE'] Último nodo en la ruta:  EFORIE\n",
            "Ruta en la cola:  ['ORADEA', 'ZERIND', 'ARAD', 'TIMISOARA', 'LUGOJ', 'MEHADIA', 'DOBRETA', 'CRAIOVA', 'PITESTI', 'BUCHAREST', 'GIURGIU'] Último nodo en la ruta:  GIURGIU\n",
            "Ruta en la cola:  ['ORADEA', 'ZERIND', 'ARAD', 'TIMISOARA', 'LUGOJ', 'MEHADIA', 'DOBRETA', 'CRAIOVA', 'RIMNICU VILCEA'] Último nodo en la ruta:  RIMNICU VILCEA\n",
            "Camino Escogido:  ['ORADEA', 'ZERIND', 'ARAD', 'TIMISOARA', 'LUGOJ', 'MEHADIA', 'DOBRETA', 'CRAIOVA', 'RIMNICU VILCEA', 'SIBIU']  - Objetivo Encontrado:  SIBIU\n",
            "------------------------------------------------------------------------------------------------------------------------\n",
            "Ruta en la cola:  ['ORADEA', 'ZERIND', 'ARAD', 'TIMISOARA', 'LUGOJ', 'MEHADIA', 'DOBRETA', 'CRAIOVA', 'RIMNICU VILCEA', 'PITESTI'] Último nodo en la ruta:  PITESTI\n",
            "Ruta en la cola:  ['ORADEA', 'ZERIND', 'ARAD', 'TIMISOARA', 'LUGOJ', 'MEHADIA', 'DOBRETA', 'CRAIOVA', 'RIMNICU VILCEA', 'PITESTI', 'BUCHAREST'] Último nodo en la ruta:  BUCHAREST\n",
            "Ruta en la cola:  ['ORADEA', 'ZERIND', 'ARAD', 'TIMISOARA', 'LUGOJ', 'MEHADIA', 'DOBRETA', 'CRAIOVA', 'RIMNICU VILCEA', 'PITESTI', 'BUCHAREST', 'FAGARAS'] Último nodo en la ruta:  FAGARAS\n",
            "Camino Escogido:  ['ORADEA', 'ZERIND', 'ARAD', 'TIMISOARA', 'LUGOJ', 'MEHADIA', 'DOBRETA', 'CRAIOVA', 'RIMNICU VILCEA', 'PITESTI', 'BUCHAREST', 'FAGARAS', 'SIBIU']  - Objetivo Encontrado:  SIBIU\n",
            "------------------------------------------------------------------------------------------------------------------------\n",
            "Ruta en la cola:  ['ORADEA', 'ZERIND', 'ARAD', 'TIMISOARA', 'LUGOJ', 'MEHADIA', 'DOBRETA', 'CRAIOVA', 'RIMNICU VILCEA', 'PITESTI', 'BUCHAREST', 'URZICENI'] Último nodo en la ruta:  URZICENI\n",
            "Ruta en la cola:  ['ORADEA', 'ZERIND', 'ARAD', 'TIMISOARA', 'LUGOJ', 'MEHADIA', 'DOBRETA', 'CRAIOVA', 'RIMNICU VILCEA', 'PITESTI', 'BUCHAREST', 'URZICENI', 'VASLUI'] Último nodo en la ruta:  VASLUI\n",
            "Ruta en la cola:  ['ORADEA', 'ZERIND', 'ARAD', 'TIMISOARA', 'LUGOJ', 'MEHADIA', 'DOBRETA', 'CRAIOVA', 'RIMNICU VILCEA', 'PITESTI', 'BUCHAREST', 'URZICENI', 'VASLUI', 'IASI'] Último nodo en la ruta:  IASI\n",
            "Ruta en la cola:  ['ORADEA', 'ZERIND', 'ARAD', 'TIMISOARA', 'LUGOJ', 'MEHADIA', 'DOBRETA', 'CRAIOVA', 'RIMNICU VILCEA', 'PITESTI', 'BUCHAREST', 'URZICENI', 'VASLUI', 'IASI', 'NEAMT'] Último nodo en la ruta:  NEAMT\n",
            "Ruta en la cola:  ['ORADEA', 'ZERIND', 'ARAD', 'TIMISOARA', 'LUGOJ', 'MEHADIA', 'DOBRETA', 'CRAIOVA', 'RIMNICU VILCEA', 'PITESTI', 'BUCHAREST', 'URZICENI', 'HIRSOVA'] Último nodo en la ruta:  HIRSOVA\n",
            "Ruta en la cola:  ['ORADEA', 'ZERIND', 'ARAD', 'TIMISOARA', 'LUGOJ', 'MEHADIA', 'DOBRETA', 'CRAIOVA', 'RIMNICU VILCEA', 'PITESTI', 'BUCHAREST', 'URZICENI', 'HIRSOVA', 'EFORIE'] Último nodo en la ruta:  EFORIE\n",
            "Ruta en la cola:  ['ORADEA', 'ZERIND', 'ARAD', 'TIMISOARA', 'LUGOJ', 'MEHADIA', 'DOBRETA', 'CRAIOVA', 'RIMNICU VILCEA', 'PITESTI', 'BUCHAREST', 'GIURGIU'] Último nodo en la ruta:  GIURGIU\n"
          ],
          "name": "stdout"
        }
      ]
    },
    {
      "cell_type": "markdown",
      "metadata": {
        "id": "OowSsQOZvhs1",
        "colab_type": "text"
      },
      "source": [
        "**PRUEBA 2 DFS**"
      ]
    },
    {
      "cell_type": "markdown",
      "metadata": {
        "id": "jwCfIu2aAKbe",
        "colab_type": "text"
      },
      "source": [
        "En la prueba 2 se puede visualizar que el nodo de inicio es HIRSOVA este a diferencia del BFS recorre el grafo en profundidad va expandiendo todos y cada uno de los nodos que va localizando de forma repetitivo en un camino en concreto. Si ya no quedan mas nodos que visitar por ese camino, se regresa al anterior y este vuelve a repite el mismo proceso con todos los nodos vecinos ya explorado.\n"
      ]
    },
    {
      "cell_type": "code",
      "metadata": {
        "id": "NR6tTJHewBit",
        "colab_type": "code",
        "outputId": "50222c18-3bf4-41bf-cd0e-c8ab41263a55",
        "colab": {
          "base_uri": "https://localhost:8080/",
          "height": 156
        }
      },
      "source": [
        "  dfs_paths(graph,'HIRSOVA','URZICENI')"
      ],
      "execution_count": 0,
      "outputs": [
        {
          "output_type": "stream",
          "text": [
            "Nodo inicial:  HIRSOVA\n",
            "Nodo objetivo:  URZICENI\n",
            "\n",
            "\n",
            "Ruta en la cola:  ['HIRSOVA'] Último nodo en la ruta:  HIRSOVA\n",
            "Camino Escogido:  ['HIRSOVA', 'URZICENI']  - Objetivo Encontrado:  URZICENI\n",
            "------------------------------------------------------------------------------------------------------------------------\n",
            "Ruta en la cola:  ['HIRSOVA', 'EFORIE'] Último nodo en la ruta:  EFORIE\n"
          ],
          "name": "stdout"
        }
      ]
    },
    {
      "cell_type": "markdown",
      "metadata": {
        "id": "-9IAgPMYwgSD",
        "colab_type": "text"
      },
      "source": [
        "**PRUEBA 3 DFS**"
      ]
    },
    {
      "cell_type": "markdown",
      "metadata": {
        "id": "gmD0qfDRAaBn",
        "colab_type": "text"
      },
      "source": [
        "En la prueba 3 se puede visualizar que el nodo de inicio es EFORIE este a diferencia del BFS recorre el grafo en profundidad va expandiendo todos y cada uno de los nodos que va localizando de forma repetitivo en un camino en concreto. Si ya no quedan mas nodos que visitar por ese camino, se regresa al anterior y este vuelve a repite el mismo proceso con todos los nodos vecinos ya explorado.\n"
      ]
    },
    {
      "cell_type": "code",
      "metadata": {
        "id": "I6fBp7Hew5L2",
        "colab_type": "code",
        "outputId": "7733b7de-94fa-4a24-a6b6-22032b5b31c1",
        "colab": {
          "base_uri": "https://localhost:8080/",
          "height": 835
        }
      },
      "source": [
        "  dfs_paths(graph,'EFORIE','SIBIU')"
      ],
      "execution_count": 0,
      "outputs": [
        {
          "output_type": "stream",
          "text": [
            "Nodo inicial:  EFORIE\n",
            "Nodo objetivo:  SIBIU\n",
            "\n",
            "\n",
            "Ruta en la cola:  ['EFORIE'] Último nodo en la ruta:  EFORIE\n",
            "Ruta en la cola:  ['EFORIE', 'HIRSOVA'] Último nodo en la ruta:  HIRSOVA\n",
            "Ruta en la cola:  ['EFORIE', 'HIRSOVA', 'URZICENI'] Último nodo en la ruta:  URZICENI\n",
            "Ruta en la cola:  ['EFORIE', 'HIRSOVA', 'URZICENI', 'VASLUI'] Último nodo en la ruta:  VASLUI\n",
            "Ruta en la cola:  ['EFORIE', 'HIRSOVA', 'URZICENI', 'VASLUI', 'IASI'] Último nodo en la ruta:  IASI\n",
            "Ruta en la cola:  ['EFORIE', 'HIRSOVA', 'URZICENI', 'VASLUI', 'IASI', 'NEAMT'] Último nodo en la ruta:  NEAMT\n",
            "Ruta en la cola:  ['EFORIE', 'HIRSOVA', 'URZICENI', 'BUCHAREST'] Último nodo en la ruta:  BUCHAREST\n",
            "Ruta en la cola:  ['EFORIE', 'HIRSOVA', 'URZICENI', 'BUCHAREST', 'PITESTI'] Último nodo en la ruta:  PITESTI\n",
            "Ruta en la cola:  ['EFORIE', 'HIRSOVA', 'URZICENI', 'BUCHAREST', 'PITESTI', 'CRAIOVA'] Último nodo en la ruta:  CRAIOVA\n",
            "Ruta en la cola:  ['EFORIE', 'HIRSOVA', 'URZICENI', 'BUCHAREST', 'PITESTI', 'CRAIOVA', 'RIMNICU VILCEA'] Último nodo en la ruta:  RIMNICU VILCEA\n",
            "Camino Escogido:  ['EFORIE', 'HIRSOVA', 'URZICENI', 'BUCHAREST', 'PITESTI', 'CRAIOVA', 'RIMNICU VILCEA', 'SIBIU']  - Objetivo Encontrado:  SIBIU\n",
            "------------------------------------------------------------------------------------------------------------------------\n",
            "Ruta en la cola:  ['EFORIE', 'HIRSOVA', 'URZICENI', 'BUCHAREST', 'PITESTI', 'CRAIOVA', 'DOBRETA'] Último nodo en la ruta:  DOBRETA\n",
            "Ruta en la cola:  ['EFORIE', 'HIRSOVA', 'URZICENI', 'BUCHAREST', 'PITESTI', 'CRAIOVA', 'DOBRETA', 'MEHADIA'] Último nodo en la ruta:  MEHADIA\n",
            "Ruta en la cola:  ['EFORIE', 'HIRSOVA', 'URZICENI', 'BUCHAREST', 'PITESTI', 'CRAIOVA', 'DOBRETA', 'MEHADIA', 'LUGOJ'] Último nodo en la ruta:  LUGOJ\n",
            "Ruta en la cola:  ['EFORIE', 'HIRSOVA', 'URZICENI', 'BUCHAREST', 'PITESTI', 'CRAIOVA', 'DOBRETA', 'MEHADIA', 'LUGOJ', 'TIMISOARA'] Último nodo en la ruta:  TIMISOARA\n",
            "Ruta en la cola:  ['EFORIE', 'HIRSOVA', 'URZICENI', 'BUCHAREST', 'PITESTI', 'CRAIOVA', 'DOBRETA', 'MEHADIA', 'LUGOJ', 'TIMISOARA', 'ARAD'] Último nodo en la ruta:  ARAD\n",
            "Camino Escogido:  ['EFORIE', 'HIRSOVA', 'URZICENI', 'BUCHAREST', 'PITESTI', 'CRAIOVA', 'DOBRETA', 'MEHADIA', 'LUGOJ', 'TIMISOARA', 'ARAD', 'SIBIU']  - Objetivo Encontrado:  SIBIU\n",
            "------------------------------------------------------------------------------------------------------------------------\n",
            "Ruta en la cola:  ['EFORIE', 'HIRSOVA', 'URZICENI', 'BUCHAREST', 'PITESTI', 'CRAIOVA', 'DOBRETA', 'MEHADIA', 'LUGOJ', 'TIMISOARA', 'ARAD', 'ZERIND'] Último nodo en la ruta:  ZERIND\n",
            "Ruta en la cola:  ['EFORIE', 'HIRSOVA', 'URZICENI', 'BUCHAREST', 'PITESTI', 'CRAIOVA', 'DOBRETA', 'MEHADIA', 'LUGOJ', 'TIMISOARA', 'ARAD', 'ZERIND', 'ORADEA'] Último nodo en la ruta:  ORADEA\n",
            "Camino Escogido:  ['EFORIE', 'HIRSOVA', 'URZICENI', 'BUCHAREST', 'PITESTI', 'CRAIOVA', 'DOBRETA', 'MEHADIA', 'LUGOJ', 'TIMISOARA', 'ARAD', 'ZERIND', 'ORADEA', 'SIBIU']  - Objetivo Encontrado:  SIBIU\n",
            "------------------------------------------------------------------------------------------------------------------------\n",
            "Ruta en la cola:  ['EFORIE', 'HIRSOVA', 'URZICENI', 'BUCHAREST', 'PITESTI', 'RIMNICU VILCEA'] Último nodo en la ruta:  RIMNICU VILCEA\n",
            "Camino Escogido:  ['EFORIE', 'HIRSOVA', 'URZICENI', 'BUCHAREST', 'PITESTI', 'RIMNICU VILCEA', 'SIBIU']  - Objetivo Encontrado:  SIBIU\n",
            "------------------------------------------------------------------------------------------------------------------------\n",
            "Ruta en la cola:  ['EFORIE', 'HIRSOVA', 'URZICENI', 'BUCHAREST', 'PITESTI', 'RIMNICU VILCEA', 'CRAIOVA'] Último nodo en la ruta:  CRAIOVA\n",
            "Ruta en la cola:  ['EFORIE', 'HIRSOVA', 'URZICENI', 'BUCHAREST', 'PITESTI', 'RIMNICU VILCEA', 'CRAIOVA', 'DOBRETA'] Último nodo en la ruta:  DOBRETA\n",
            "Ruta en la cola:  ['EFORIE', 'HIRSOVA', 'URZICENI', 'BUCHAREST', 'PITESTI', 'RIMNICU VILCEA', 'CRAIOVA', 'DOBRETA', 'MEHADIA'] Último nodo en la ruta:  MEHADIA\n",
            "Ruta en la cola:  ['EFORIE', 'HIRSOVA', 'URZICENI', 'BUCHAREST', 'PITESTI', 'RIMNICU VILCEA', 'CRAIOVA', 'DOBRETA', 'MEHADIA', 'LUGOJ'] Último nodo en la ruta:  LUGOJ\n",
            "Ruta en la cola:  ['EFORIE', 'HIRSOVA', 'URZICENI', 'BUCHAREST', 'PITESTI', 'RIMNICU VILCEA', 'CRAIOVA', 'DOBRETA', 'MEHADIA', 'LUGOJ', 'TIMISOARA'] Último nodo en la ruta:  TIMISOARA\n",
            "Ruta en la cola:  ['EFORIE', 'HIRSOVA', 'URZICENI', 'BUCHAREST', 'PITESTI', 'RIMNICU VILCEA', 'CRAIOVA', 'DOBRETA', 'MEHADIA', 'LUGOJ', 'TIMISOARA', 'ARAD'] Último nodo en la ruta:  ARAD\n",
            "Camino Escogido:  ['EFORIE', 'HIRSOVA', 'URZICENI', 'BUCHAREST', 'PITESTI', 'RIMNICU VILCEA', 'CRAIOVA', 'DOBRETA', 'MEHADIA', 'LUGOJ', 'TIMISOARA', 'ARAD', 'SIBIU']  - Objetivo Encontrado:  SIBIU\n",
            "------------------------------------------------------------------------------------------------------------------------\n",
            "Ruta en la cola:  ['EFORIE', 'HIRSOVA', 'URZICENI', 'BUCHAREST', 'PITESTI', 'RIMNICU VILCEA', 'CRAIOVA', 'DOBRETA', 'MEHADIA', 'LUGOJ', 'TIMISOARA', 'ARAD', 'ZERIND'] Último nodo en la ruta:  ZERIND\n",
            "Ruta en la cola:  ['EFORIE', 'HIRSOVA', 'URZICENI', 'BUCHAREST', 'PITESTI', 'RIMNICU VILCEA', 'CRAIOVA', 'DOBRETA', 'MEHADIA', 'LUGOJ', 'TIMISOARA', 'ARAD', 'ZERIND', 'ORADEA'] Último nodo en la ruta:  ORADEA\n",
            "Camino Escogido:  ['EFORIE', 'HIRSOVA', 'URZICENI', 'BUCHAREST', 'PITESTI', 'RIMNICU VILCEA', 'CRAIOVA', 'DOBRETA', 'MEHADIA', 'LUGOJ', 'TIMISOARA', 'ARAD', 'ZERIND', 'ORADEA', 'SIBIU']  - Objetivo Encontrado:  SIBIU\n",
            "------------------------------------------------------------------------------------------------------------------------\n",
            "Ruta en la cola:  ['EFORIE', 'HIRSOVA', 'URZICENI', 'BUCHAREST', 'FAGARAS'] Último nodo en la ruta:  FAGARAS\n",
            "Camino Escogido:  ['EFORIE', 'HIRSOVA', 'URZICENI', 'BUCHAREST', 'FAGARAS', 'SIBIU']  - Objetivo Encontrado:  SIBIU\n",
            "------------------------------------------------------------------------------------------------------------------------\n",
            "Ruta en la cola:  ['EFORIE', 'HIRSOVA', 'URZICENI', 'BUCHAREST', 'GIURGIU'] Último nodo en la ruta:  GIURGIU\n"
          ],
          "name": "stdout"
        }
      ]
    },
    {
      "cell_type": "markdown",
      "metadata": {
        "id": "bTilieUGwghM",
        "colab_type": "text"
      },
      "source": [
        "**PRUEBA 4 DFS**"
      ]
    },
    {
      "cell_type": "markdown",
      "metadata": {
        "id": "QTUPX4wNAq92",
        "colab_type": "text"
      },
      "source": [
        "En la prueba 4 se puede visualizar que el nodo de inicio es DOBRETA este a diferencia del BFS recorre el grafo en profundidad va expandiendo todos y cada uno de los nodos que va localizando de forma repetitivo en un camino en concreto. Si ya no quedan mas nodos que visitar por ese camino, se regresa al anterior y este vuelve a repite el mismo proceso con todos los nodos vecinos ya explorado.\n"
      ]
    },
    {
      "cell_type": "code",
      "metadata": {
        "id": "46rVI7hMxPVc",
        "colab_type": "code",
        "outputId": "06219628-44d3-44de-f73c-186cd92c7d16",
        "colab": {
          "base_uri": "https://localhost:8080/",
          "height": 1000
        }
      },
      "source": [
        "  dfs_paths(graph,'DOBRETA','BUCHAREST')"
      ],
      "execution_count": 0,
      "outputs": [
        {
          "output_type": "stream",
          "text": [
            "Nodo inicial:  DOBRETA\n",
            "Nodo objetivo:  BUCHAREST\n",
            "\n",
            "\n",
            "Ruta en la cola:  ['DOBRETA'] Último nodo en la ruta:  DOBRETA\n",
            "Ruta en la cola:  ['DOBRETA', 'CRAIOVA'] Último nodo en la ruta:  CRAIOVA\n",
            "Ruta en la cola:  ['DOBRETA', 'CRAIOVA', 'PITESTI'] Último nodo en la ruta:  PITESTI\n",
            "Camino Escogido:  ['DOBRETA', 'CRAIOVA', 'PITESTI', 'BUCHAREST']  - Objetivo Encontrado:  BUCHAREST\n",
            "------------------------------------------------------------------------------------------------------------------------\n",
            "Ruta en la cola:  ['DOBRETA', 'CRAIOVA', 'PITESTI', 'RIMNICU VILCEA'] Último nodo en la ruta:  RIMNICU VILCEA\n",
            "Ruta en la cola:  ['DOBRETA', 'CRAIOVA', 'PITESTI', 'RIMNICU VILCEA', 'SIBIU'] Último nodo en la ruta:  SIBIU\n",
            "Ruta en la cola:  ['DOBRETA', 'CRAIOVA', 'PITESTI', 'RIMNICU VILCEA', 'SIBIU', 'FAGARAS'] Último nodo en la ruta:  FAGARAS\n",
            "Camino Escogido:  ['DOBRETA', 'CRAIOVA', 'PITESTI', 'RIMNICU VILCEA', 'SIBIU', 'FAGARAS', 'BUCHAREST']  - Objetivo Encontrado:  BUCHAREST\n",
            "------------------------------------------------------------------------------------------------------------------------\n",
            "Ruta en la cola:  ['DOBRETA', 'CRAIOVA', 'PITESTI', 'RIMNICU VILCEA', 'SIBIU', 'ARAD'] Último nodo en la ruta:  ARAD\n",
            "Ruta en la cola:  ['DOBRETA', 'CRAIOVA', 'PITESTI', 'RIMNICU VILCEA', 'SIBIU', 'ARAD', 'TIMISOARA'] Último nodo en la ruta:  TIMISOARA\n",
            "Ruta en la cola:  ['DOBRETA', 'CRAIOVA', 'PITESTI', 'RIMNICU VILCEA', 'SIBIU', 'ARAD', 'TIMISOARA', 'LUGOJ'] Último nodo en la ruta:  LUGOJ\n",
            "Ruta en la cola:  ['DOBRETA', 'CRAIOVA', 'PITESTI', 'RIMNICU VILCEA', 'SIBIU', 'ARAD', 'TIMISOARA', 'LUGOJ', 'MEHADIA'] Último nodo en la ruta:  MEHADIA\n",
            "Ruta en la cola:  ['DOBRETA', 'CRAIOVA', 'PITESTI', 'RIMNICU VILCEA', 'SIBIU', 'ARAD', 'ZERIND'] Último nodo en la ruta:  ZERIND\n",
            "Ruta en la cola:  ['DOBRETA', 'CRAIOVA', 'PITESTI', 'RIMNICU VILCEA', 'SIBIU', 'ARAD', 'ZERIND', 'ORADEA'] Último nodo en la ruta:  ORADEA\n",
            "Ruta en la cola:  ['DOBRETA', 'CRAIOVA', 'PITESTI', 'RIMNICU VILCEA', 'SIBIU', 'ORADEA'] Último nodo en la ruta:  ORADEA\n",
            "Ruta en la cola:  ['DOBRETA', 'CRAIOVA', 'PITESTI', 'RIMNICU VILCEA', 'SIBIU', 'ORADEA', 'ZERIND'] Último nodo en la ruta:  ZERIND\n",
            "Ruta en la cola:  ['DOBRETA', 'CRAIOVA', 'PITESTI', 'RIMNICU VILCEA', 'SIBIU', 'ORADEA', 'ZERIND', 'ARAD'] Último nodo en la ruta:  ARAD\n",
            "Ruta en la cola:  ['DOBRETA', 'CRAIOVA', 'PITESTI', 'RIMNICU VILCEA', 'SIBIU', 'ORADEA', 'ZERIND', 'ARAD', 'TIMISOARA'] Último nodo en la ruta:  TIMISOARA\n",
            "Ruta en la cola:  ['DOBRETA', 'CRAIOVA', 'PITESTI', 'RIMNICU VILCEA', 'SIBIU', 'ORADEA', 'ZERIND', 'ARAD', 'TIMISOARA', 'LUGOJ'] Último nodo en la ruta:  LUGOJ\n",
            "Ruta en la cola:  ['DOBRETA', 'CRAIOVA', 'PITESTI', 'RIMNICU VILCEA', 'SIBIU', 'ORADEA', 'ZERIND', 'ARAD', 'TIMISOARA', 'LUGOJ', 'MEHADIA'] Último nodo en la ruta:  MEHADIA\n",
            "Ruta en la cola:  ['DOBRETA', 'CRAIOVA', 'RIMNICU VILCEA'] Último nodo en la ruta:  RIMNICU VILCEA\n",
            "Ruta en la cola:  ['DOBRETA', 'CRAIOVA', 'RIMNICU VILCEA', 'PITESTI'] Último nodo en la ruta:  PITESTI\n",
            "Camino Escogido:  ['DOBRETA', 'CRAIOVA', 'RIMNICU VILCEA', 'PITESTI', 'BUCHAREST']  - Objetivo Encontrado:  BUCHAREST\n",
            "------------------------------------------------------------------------------------------------------------------------\n",
            "Ruta en la cola:  ['DOBRETA', 'CRAIOVA', 'RIMNICU VILCEA', 'SIBIU'] Último nodo en la ruta:  SIBIU\n",
            "Ruta en la cola:  ['DOBRETA', 'CRAIOVA', 'RIMNICU VILCEA', 'SIBIU', 'FAGARAS'] Último nodo en la ruta:  FAGARAS\n",
            "Camino Escogido:  ['DOBRETA', 'CRAIOVA', 'RIMNICU VILCEA', 'SIBIU', 'FAGARAS', 'BUCHAREST']  - Objetivo Encontrado:  BUCHAREST\n",
            "------------------------------------------------------------------------------------------------------------------------\n",
            "Ruta en la cola:  ['DOBRETA', 'CRAIOVA', 'RIMNICU VILCEA', 'SIBIU', 'ARAD'] Último nodo en la ruta:  ARAD\n",
            "Ruta en la cola:  ['DOBRETA', 'CRAIOVA', 'RIMNICU VILCEA', 'SIBIU', 'ARAD', 'TIMISOARA'] Último nodo en la ruta:  TIMISOARA\n",
            "Ruta en la cola:  ['DOBRETA', 'CRAIOVA', 'RIMNICU VILCEA', 'SIBIU', 'ARAD', 'TIMISOARA', 'LUGOJ'] Último nodo en la ruta:  LUGOJ\n",
            "Ruta en la cola:  ['DOBRETA', 'CRAIOVA', 'RIMNICU VILCEA', 'SIBIU', 'ARAD', 'TIMISOARA', 'LUGOJ', 'MEHADIA'] Último nodo en la ruta:  MEHADIA\n",
            "Ruta en la cola:  ['DOBRETA', 'CRAIOVA', 'RIMNICU VILCEA', 'SIBIU', 'ARAD', 'ZERIND'] Último nodo en la ruta:  ZERIND\n",
            "Ruta en la cola:  ['DOBRETA', 'CRAIOVA', 'RIMNICU VILCEA', 'SIBIU', 'ARAD', 'ZERIND', 'ORADEA'] Último nodo en la ruta:  ORADEA\n",
            "Ruta en la cola:  ['DOBRETA', 'CRAIOVA', 'RIMNICU VILCEA', 'SIBIU', 'ORADEA'] Último nodo en la ruta:  ORADEA\n",
            "Ruta en la cola:  ['DOBRETA', 'CRAIOVA', 'RIMNICU VILCEA', 'SIBIU', 'ORADEA', 'ZERIND'] Último nodo en la ruta:  ZERIND\n",
            "Ruta en la cola:  ['DOBRETA', 'CRAIOVA', 'RIMNICU VILCEA', 'SIBIU', 'ORADEA', 'ZERIND', 'ARAD'] Último nodo en la ruta:  ARAD\n",
            "Ruta en la cola:  ['DOBRETA', 'CRAIOVA', 'RIMNICU VILCEA', 'SIBIU', 'ORADEA', 'ZERIND', 'ARAD', 'TIMISOARA'] Último nodo en la ruta:  TIMISOARA\n",
            "Ruta en la cola:  ['DOBRETA', 'CRAIOVA', 'RIMNICU VILCEA', 'SIBIU', 'ORADEA', 'ZERIND', 'ARAD', 'TIMISOARA', 'LUGOJ'] Último nodo en la ruta:  LUGOJ\n",
            "Ruta en la cola:  ['DOBRETA', 'CRAIOVA', 'RIMNICU VILCEA', 'SIBIU', 'ORADEA', 'ZERIND', 'ARAD', 'TIMISOARA', 'LUGOJ', 'MEHADIA'] Último nodo en la ruta:  MEHADIA\n",
            "Ruta en la cola:  ['DOBRETA', 'MEHADIA'] Último nodo en la ruta:  MEHADIA\n",
            "Ruta en la cola:  ['DOBRETA', 'MEHADIA', 'LUGOJ'] Último nodo en la ruta:  LUGOJ\n",
            "Ruta en la cola:  ['DOBRETA', 'MEHADIA', 'LUGOJ', 'TIMISOARA'] Último nodo en la ruta:  TIMISOARA\n",
            "Ruta en la cola:  ['DOBRETA', 'MEHADIA', 'LUGOJ', 'TIMISOARA', 'ARAD'] Último nodo en la ruta:  ARAD\n",
            "Ruta en la cola:  ['DOBRETA', 'MEHADIA', 'LUGOJ', 'TIMISOARA', 'ARAD', 'SIBIU'] Último nodo en la ruta:  SIBIU\n",
            "Ruta en la cola:  ['DOBRETA', 'MEHADIA', 'LUGOJ', 'TIMISOARA', 'ARAD', 'SIBIU', 'RIMNICU VILCEA'] Último nodo en la ruta:  RIMNICU VILCEA\n",
            "Ruta en la cola:  ['DOBRETA', 'MEHADIA', 'LUGOJ', 'TIMISOARA', 'ARAD', 'SIBIU', 'RIMNICU VILCEA', 'PITESTI'] Último nodo en la ruta:  PITESTI\n",
            "Camino Escogido:  ['DOBRETA', 'MEHADIA', 'LUGOJ', 'TIMISOARA', 'ARAD', 'SIBIU', 'RIMNICU VILCEA', 'PITESTI', 'BUCHAREST']  - Objetivo Encontrado:  BUCHAREST\n",
            "------------------------------------------------------------------------------------------------------------------------\n",
            "Ruta en la cola:  ['DOBRETA', 'MEHADIA', 'LUGOJ', 'TIMISOARA', 'ARAD', 'SIBIU', 'RIMNICU VILCEA', 'PITESTI', 'CRAIOVA'] Último nodo en la ruta:  CRAIOVA\n",
            "Ruta en la cola:  ['DOBRETA', 'MEHADIA', 'LUGOJ', 'TIMISOARA', 'ARAD', 'SIBIU', 'RIMNICU VILCEA', 'CRAIOVA'] Último nodo en la ruta:  CRAIOVA\n",
            "Ruta en la cola:  ['DOBRETA', 'MEHADIA', 'LUGOJ', 'TIMISOARA', 'ARAD', 'SIBIU', 'RIMNICU VILCEA', 'CRAIOVA', 'PITESTI'] Último nodo en la ruta:  PITESTI\n",
            "Camino Escogido:  ['DOBRETA', 'MEHADIA', 'LUGOJ', 'TIMISOARA', 'ARAD', 'SIBIU', 'RIMNICU VILCEA', 'CRAIOVA', 'PITESTI', 'BUCHAREST']  - Objetivo Encontrado:  BUCHAREST\n",
            "------------------------------------------------------------------------------------------------------------------------\n",
            "Ruta en la cola:  ['DOBRETA', 'MEHADIA', 'LUGOJ', 'TIMISOARA', 'ARAD', 'SIBIU', 'FAGARAS'] Último nodo en la ruta:  FAGARAS\n",
            "Camino Escogido:  ['DOBRETA', 'MEHADIA', 'LUGOJ', 'TIMISOARA', 'ARAD', 'SIBIU', 'FAGARAS', 'BUCHAREST']  - Objetivo Encontrado:  BUCHAREST\n",
            "------------------------------------------------------------------------------------------------------------------------\n",
            "Ruta en la cola:  ['DOBRETA', 'MEHADIA', 'LUGOJ', 'TIMISOARA', 'ARAD', 'SIBIU', 'ORADEA'] Último nodo en la ruta:  ORADEA\n",
            "Ruta en la cola:  ['DOBRETA', 'MEHADIA', 'LUGOJ', 'TIMISOARA', 'ARAD', 'SIBIU', 'ORADEA', 'ZERIND'] Último nodo en la ruta:  ZERIND\n",
            "Ruta en la cola:  ['DOBRETA', 'MEHADIA', 'LUGOJ', 'TIMISOARA', 'ARAD', 'ZERIND'] Último nodo en la ruta:  ZERIND\n",
            "Ruta en la cola:  ['DOBRETA', 'MEHADIA', 'LUGOJ', 'TIMISOARA', 'ARAD', 'ZERIND', 'ORADEA'] Último nodo en la ruta:  ORADEA\n",
            "Ruta en la cola:  ['DOBRETA', 'MEHADIA', 'LUGOJ', 'TIMISOARA', 'ARAD', 'ZERIND', 'ORADEA', 'SIBIU'] Último nodo en la ruta:  SIBIU\n",
            "Ruta en la cola:  ['DOBRETA', 'MEHADIA', 'LUGOJ', 'TIMISOARA', 'ARAD', 'ZERIND', 'ORADEA', 'SIBIU', 'RIMNICU VILCEA'] Último nodo en la ruta:  RIMNICU VILCEA\n",
            "Ruta en la cola:  ['DOBRETA', 'MEHADIA', 'LUGOJ', 'TIMISOARA', 'ARAD', 'ZERIND', 'ORADEA', 'SIBIU', 'RIMNICU VILCEA', 'PITESTI'] Último nodo en la ruta:  PITESTI\n",
            "Camino Escogido:  ['DOBRETA', 'MEHADIA', 'LUGOJ', 'TIMISOARA', 'ARAD', 'ZERIND', 'ORADEA', 'SIBIU', 'RIMNICU VILCEA', 'PITESTI', 'BUCHAREST']  - Objetivo Encontrado:  BUCHAREST\n",
            "------------------------------------------------------------------------------------------------------------------------\n",
            "Ruta en la cola:  ['DOBRETA', 'MEHADIA', 'LUGOJ', 'TIMISOARA', 'ARAD', 'ZERIND', 'ORADEA', 'SIBIU', 'RIMNICU VILCEA', 'PITESTI', 'CRAIOVA'] Último nodo en la ruta:  CRAIOVA\n",
            "Ruta en la cola:  ['DOBRETA', 'MEHADIA', 'LUGOJ', 'TIMISOARA', 'ARAD', 'ZERIND', 'ORADEA', 'SIBIU', 'RIMNICU VILCEA', 'CRAIOVA'] Último nodo en la ruta:  CRAIOVA\n",
            "Ruta en la cola:  ['DOBRETA', 'MEHADIA', 'LUGOJ', 'TIMISOARA', 'ARAD', 'ZERIND', 'ORADEA', 'SIBIU', 'RIMNICU VILCEA', 'CRAIOVA', 'PITESTI'] Último nodo en la ruta:  PITESTI\n",
            "Camino Escogido:  ['DOBRETA', 'MEHADIA', 'LUGOJ', 'TIMISOARA', 'ARAD', 'ZERIND', 'ORADEA', 'SIBIU', 'RIMNICU VILCEA', 'CRAIOVA', 'PITESTI', 'BUCHAREST']  - Objetivo Encontrado:  BUCHAREST\n",
            "------------------------------------------------------------------------------------------------------------------------\n",
            "Ruta en la cola:  ['DOBRETA', 'MEHADIA', 'LUGOJ', 'TIMISOARA', 'ARAD', 'ZERIND', 'ORADEA', 'SIBIU', 'FAGARAS'] Último nodo en la ruta:  FAGARAS\n",
            "Camino Escogido:  ['DOBRETA', 'MEHADIA', 'LUGOJ', 'TIMISOARA', 'ARAD', 'ZERIND', 'ORADEA', 'SIBIU', 'FAGARAS', 'BUCHAREST']  - Objetivo Encontrado:  BUCHAREST\n",
            "------------------------------------------------------------------------------------------------------------------------\n"
          ],
          "name": "stdout"
        }
      ]
    },
    {
      "cell_type": "markdown",
      "metadata": {
        "id": "ifNyE5fuwgrq",
        "colab_type": "text"
      },
      "source": [
        "**PRUEBA 5 DFS**"
      ]
    },
    {
      "cell_type": "markdown",
      "metadata": {
        "id": "W33LLW2sA3qf",
        "colab_type": "text"
      },
      "source": [
        "En la prueba 5 se puede visualizar que el nodo de inicio es DOBRETA este a diferencia del BFS recorre el grafo en profundidad va expandiendo todos y cada uno de los nodos que va localizando de forma repetitivo en un camino en concreto. Si ya no quedan mas nodos que visitar por ese camino, se regresa al anterior y este vuelve a repite el mismo proceso con todos los nodos vecinos ya explorado.\n"
      ]
    },
    {
      "cell_type": "code",
      "metadata": {
        "id": "716sL1s4xQFq",
        "colab_type": "code",
        "outputId": "08cf066a-718a-4c83-af86-a8a0290d8332",
        "colab": {
          "base_uri": "https://localhost:8080/",
          "height": 1000
        }
      },
      "source": [
        "  dfs_paths(graph,'DOBRETA','PITESTI')"
      ],
      "execution_count": 0,
      "outputs": [
        {
          "output_type": "stream",
          "text": [
            "Nodo inicial:  DOBRETA\n",
            "Nodo objetivo:  PITESTI\n",
            "\n",
            "\n",
            "Ruta en la cola:  ['DOBRETA'] Último nodo en la ruta:  DOBRETA\n",
            "Ruta en la cola:  ['DOBRETA', 'CRAIOVA'] Último nodo en la ruta:  CRAIOVA\n",
            "Camino Escogido:  ['DOBRETA', 'CRAIOVA', 'PITESTI']  - Objetivo Encontrado:  PITESTI\n",
            "------------------------------------------------------------------------------------------------------------------------\n",
            "Ruta en la cola:  ['DOBRETA', 'CRAIOVA', 'RIMNICU VILCEA'] Último nodo en la ruta:  RIMNICU VILCEA\n",
            "Camino Escogido:  ['DOBRETA', 'CRAIOVA', 'RIMNICU VILCEA', 'PITESTI']  - Objetivo Encontrado:  PITESTI\n",
            "------------------------------------------------------------------------------------------------------------------------\n",
            "Ruta en la cola:  ['DOBRETA', 'CRAIOVA', 'RIMNICU VILCEA', 'SIBIU'] Último nodo en la ruta:  SIBIU\n",
            "Ruta en la cola:  ['DOBRETA', 'CRAIOVA', 'RIMNICU VILCEA', 'SIBIU', 'FAGARAS'] Último nodo en la ruta:  FAGARAS\n",
            "Ruta en la cola:  ['DOBRETA', 'CRAIOVA', 'RIMNICU VILCEA', 'SIBIU', 'FAGARAS', 'BUCHAREST'] Último nodo en la ruta:  BUCHAREST\n",
            "Camino Escogido:  ['DOBRETA', 'CRAIOVA', 'RIMNICU VILCEA', 'SIBIU', 'FAGARAS', 'BUCHAREST', 'PITESTI']  - Objetivo Encontrado:  PITESTI\n",
            "------------------------------------------------------------------------------------------------------------------------\n",
            "Ruta en la cola:  ['DOBRETA', 'CRAIOVA', 'RIMNICU VILCEA', 'SIBIU', 'FAGARAS', 'BUCHAREST', 'URZICENI'] Último nodo en la ruta:  URZICENI\n",
            "Ruta en la cola:  ['DOBRETA', 'CRAIOVA', 'RIMNICU VILCEA', 'SIBIU', 'FAGARAS', 'BUCHAREST', 'URZICENI', 'VASLUI'] Último nodo en la ruta:  VASLUI\n",
            "Ruta en la cola:  ['DOBRETA', 'CRAIOVA', 'RIMNICU VILCEA', 'SIBIU', 'FAGARAS', 'BUCHAREST', 'URZICENI', 'VASLUI', 'IASI'] Último nodo en la ruta:  IASI\n",
            "Ruta en la cola:  ['DOBRETA', 'CRAIOVA', 'RIMNICU VILCEA', 'SIBIU', 'FAGARAS', 'BUCHAREST', 'URZICENI', 'VASLUI', 'IASI', 'NEAMT'] Último nodo en la ruta:  NEAMT\n",
            "Ruta en la cola:  ['DOBRETA', 'CRAIOVA', 'RIMNICU VILCEA', 'SIBIU', 'FAGARAS', 'BUCHAREST', 'URZICENI', 'HIRSOVA'] Último nodo en la ruta:  HIRSOVA\n",
            "Ruta en la cola:  ['DOBRETA', 'CRAIOVA', 'RIMNICU VILCEA', 'SIBIU', 'FAGARAS', 'BUCHAREST', 'URZICENI', 'HIRSOVA', 'EFORIE'] Último nodo en la ruta:  EFORIE\n",
            "Ruta en la cola:  ['DOBRETA', 'CRAIOVA', 'RIMNICU VILCEA', 'SIBIU', 'FAGARAS', 'BUCHAREST', 'GIURGIU'] Último nodo en la ruta:  GIURGIU\n",
            "Ruta en la cola:  ['DOBRETA', 'CRAIOVA', 'RIMNICU VILCEA', 'SIBIU', 'ARAD'] Último nodo en la ruta:  ARAD\n",
            "Ruta en la cola:  ['DOBRETA', 'CRAIOVA', 'RIMNICU VILCEA', 'SIBIU', 'ARAD', 'TIMISOARA'] Último nodo en la ruta:  TIMISOARA\n",
            "Ruta en la cola:  ['DOBRETA', 'CRAIOVA', 'RIMNICU VILCEA', 'SIBIU', 'ARAD', 'TIMISOARA', 'LUGOJ'] Último nodo en la ruta:  LUGOJ\n",
            "Ruta en la cola:  ['DOBRETA', 'CRAIOVA', 'RIMNICU VILCEA', 'SIBIU', 'ARAD', 'TIMISOARA', 'LUGOJ', 'MEHADIA'] Último nodo en la ruta:  MEHADIA\n",
            "Ruta en la cola:  ['DOBRETA', 'CRAIOVA', 'RIMNICU VILCEA', 'SIBIU', 'ARAD', 'ZERIND'] Último nodo en la ruta:  ZERIND\n",
            "Ruta en la cola:  ['DOBRETA', 'CRAIOVA', 'RIMNICU VILCEA', 'SIBIU', 'ARAD', 'ZERIND', 'ORADEA'] Último nodo en la ruta:  ORADEA\n",
            "Ruta en la cola:  ['DOBRETA', 'CRAIOVA', 'RIMNICU VILCEA', 'SIBIU', 'ORADEA'] Último nodo en la ruta:  ORADEA\n",
            "Ruta en la cola:  ['DOBRETA', 'CRAIOVA', 'RIMNICU VILCEA', 'SIBIU', 'ORADEA', 'ZERIND'] Último nodo en la ruta:  ZERIND\n",
            "Ruta en la cola:  ['DOBRETA', 'CRAIOVA', 'RIMNICU VILCEA', 'SIBIU', 'ORADEA', 'ZERIND', 'ARAD'] Último nodo en la ruta:  ARAD\n",
            "Ruta en la cola:  ['DOBRETA', 'CRAIOVA', 'RIMNICU VILCEA', 'SIBIU', 'ORADEA', 'ZERIND', 'ARAD', 'TIMISOARA'] Último nodo en la ruta:  TIMISOARA\n",
            "Ruta en la cola:  ['DOBRETA', 'CRAIOVA', 'RIMNICU VILCEA', 'SIBIU', 'ORADEA', 'ZERIND', 'ARAD', 'TIMISOARA', 'LUGOJ'] Último nodo en la ruta:  LUGOJ\n",
            "Ruta en la cola:  ['DOBRETA', 'CRAIOVA', 'RIMNICU VILCEA', 'SIBIU', 'ORADEA', 'ZERIND', 'ARAD', 'TIMISOARA', 'LUGOJ', 'MEHADIA'] Último nodo en la ruta:  MEHADIA\n",
            "Ruta en la cola:  ['DOBRETA', 'MEHADIA'] Último nodo en la ruta:  MEHADIA\n",
            "Ruta en la cola:  ['DOBRETA', 'MEHADIA', 'LUGOJ'] Último nodo en la ruta:  LUGOJ\n",
            "Ruta en la cola:  ['DOBRETA', 'MEHADIA', 'LUGOJ', 'TIMISOARA'] Último nodo en la ruta:  TIMISOARA\n",
            "Ruta en la cola:  ['DOBRETA', 'MEHADIA', 'LUGOJ', 'TIMISOARA', 'ARAD'] Último nodo en la ruta:  ARAD\n",
            "Ruta en la cola:  ['DOBRETA', 'MEHADIA', 'LUGOJ', 'TIMISOARA', 'ARAD', 'SIBIU'] Último nodo en la ruta:  SIBIU\n",
            "Ruta en la cola:  ['DOBRETA', 'MEHADIA', 'LUGOJ', 'TIMISOARA', 'ARAD', 'SIBIU', 'RIMNICU VILCEA'] Último nodo en la ruta:  RIMNICU VILCEA\n",
            "Camino Escogido:  ['DOBRETA', 'MEHADIA', 'LUGOJ', 'TIMISOARA', 'ARAD', 'SIBIU', 'RIMNICU VILCEA', 'PITESTI']  - Objetivo Encontrado:  PITESTI\n",
            "------------------------------------------------------------------------------------------------------------------------\n",
            "Ruta en la cola:  ['DOBRETA', 'MEHADIA', 'LUGOJ', 'TIMISOARA', 'ARAD', 'SIBIU', 'RIMNICU VILCEA', 'CRAIOVA'] Último nodo en la ruta:  CRAIOVA\n",
            "Camino Escogido:  ['DOBRETA', 'MEHADIA', 'LUGOJ', 'TIMISOARA', 'ARAD', 'SIBIU', 'RIMNICU VILCEA', 'CRAIOVA', 'PITESTI']  - Objetivo Encontrado:  PITESTI\n",
            "------------------------------------------------------------------------------------------------------------------------\n",
            "Ruta en la cola:  ['DOBRETA', 'MEHADIA', 'LUGOJ', 'TIMISOARA', 'ARAD', 'SIBIU', 'FAGARAS'] Último nodo en la ruta:  FAGARAS\n",
            "Ruta en la cola:  ['DOBRETA', 'MEHADIA', 'LUGOJ', 'TIMISOARA', 'ARAD', 'SIBIU', 'FAGARAS', 'BUCHAREST'] Último nodo en la ruta:  BUCHAREST\n",
            "Camino Escogido:  ['DOBRETA', 'MEHADIA', 'LUGOJ', 'TIMISOARA', 'ARAD', 'SIBIU', 'FAGARAS', 'BUCHAREST', 'PITESTI']  - Objetivo Encontrado:  PITESTI\n",
            "------------------------------------------------------------------------------------------------------------------------\n",
            "Ruta en la cola:  ['DOBRETA', 'MEHADIA', 'LUGOJ', 'TIMISOARA', 'ARAD', 'SIBIU', 'FAGARAS', 'BUCHAREST', 'URZICENI'] Último nodo en la ruta:  URZICENI\n",
            "Ruta en la cola:  ['DOBRETA', 'MEHADIA', 'LUGOJ', 'TIMISOARA', 'ARAD', 'SIBIU', 'FAGARAS', 'BUCHAREST', 'URZICENI', 'VASLUI'] Último nodo en la ruta:  VASLUI\n",
            "Ruta en la cola:  ['DOBRETA', 'MEHADIA', 'LUGOJ', 'TIMISOARA', 'ARAD', 'SIBIU', 'FAGARAS', 'BUCHAREST', 'URZICENI', 'VASLUI', 'IASI'] Último nodo en la ruta:  IASI\n",
            "Ruta en la cola:  ['DOBRETA', 'MEHADIA', 'LUGOJ', 'TIMISOARA', 'ARAD', 'SIBIU', 'FAGARAS', 'BUCHAREST', 'URZICENI', 'VASLUI', 'IASI', 'NEAMT'] Último nodo en la ruta:  NEAMT\n",
            "Ruta en la cola:  ['DOBRETA', 'MEHADIA', 'LUGOJ', 'TIMISOARA', 'ARAD', 'SIBIU', 'FAGARAS', 'BUCHAREST', 'URZICENI', 'HIRSOVA'] Último nodo en la ruta:  HIRSOVA\n",
            "Ruta en la cola:  ['DOBRETA', 'MEHADIA', 'LUGOJ', 'TIMISOARA', 'ARAD', 'SIBIU', 'FAGARAS', 'BUCHAREST', 'URZICENI', 'HIRSOVA', 'EFORIE'] Último nodo en la ruta:  EFORIE\n",
            "Ruta en la cola:  ['DOBRETA', 'MEHADIA', 'LUGOJ', 'TIMISOARA', 'ARAD', 'SIBIU', 'FAGARAS', 'BUCHAREST', 'GIURGIU'] Último nodo en la ruta:  GIURGIU\n",
            "Ruta en la cola:  ['DOBRETA', 'MEHADIA', 'LUGOJ', 'TIMISOARA', 'ARAD', 'SIBIU', 'ORADEA'] Último nodo en la ruta:  ORADEA\n",
            "Ruta en la cola:  ['DOBRETA', 'MEHADIA', 'LUGOJ', 'TIMISOARA', 'ARAD', 'SIBIU', 'ORADEA', 'ZERIND'] Último nodo en la ruta:  ZERIND\n",
            "Ruta en la cola:  ['DOBRETA', 'MEHADIA', 'LUGOJ', 'TIMISOARA', 'ARAD', 'ZERIND'] Último nodo en la ruta:  ZERIND\n",
            "Ruta en la cola:  ['DOBRETA', 'MEHADIA', 'LUGOJ', 'TIMISOARA', 'ARAD', 'ZERIND', 'ORADEA'] Último nodo en la ruta:  ORADEA\n",
            "Ruta en la cola:  ['DOBRETA', 'MEHADIA', 'LUGOJ', 'TIMISOARA', 'ARAD', 'ZERIND', 'ORADEA', 'SIBIU'] Último nodo en la ruta:  SIBIU\n",
            "Ruta en la cola:  ['DOBRETA', 'MEHADIA', 'LUGOJ', 'TIMISOARA', 'ARAD', 'ZERIND', 'ORADEA', 'SIBIU', 'RIMNICU VILCEA'] Último nodo en la ruta:  RIMNICU VILCEA\n",
            "Camino Escogido:  ['DOBRETA', 'MEHADIA', 'LUGOJ', 'TIMISOARA', 'ARAD', 'ZERIND', 'ORADEA', 'SIBIU', 'RIMNICU VILCEA', 'PITESTI']  - Objetivo Encontrado:  PITESTI\n",
            "------------------------------------------------------------------------------------------------------------------------\n",
            "Ruta en la cola:  ['DOBRETA', 'MEHADIA', 'LUGOJ', 'TIMISOARA', 'ARAD', 'ZERIND', 'ORADEA', 'SIBIU', 'RIMNICU VILCEA', 'CRAIOVA'] Último nodo en la ruta:  CRAIOVA\n",
            "Camino Escogido:  ['DOBRETA', 'MEHADIA', 'LUGOJ', 'TIMISOARA', 'ARAD', 'ZERIND', 'ORADEA', 'SIBIU', 'RIMNICU VILCEA', 'CRAIOVA', 'PITESTI']  - Objetivo Encontrado:  PITESTI\n",
            "------------------------------------------------------------------------------------------------------------------------\n",
            "Ruta en la cola:  ['DOBRETA', 'MEHADIA', 'LUGOJ', 'TIMISOARA', 'ARAD', 'ZERIND', 'ORADEA', 'SIBIU', 'FAGARAS'] Último nodo en la ruta:  FAGARAS\n",
            "Ruta en la cola:  ['DOBRETA', 'MEHADIA', 'LUGOJ', 'TIMISOARA', 'ARAD', 'ZERIND', 'ORADEA', 'SIBIU', 'FAGARAS', 'BUCHAREST'] Último nodo en la ruta:  BUCHAREST\n",
            "Camino Escogido:  ['DOBRETA', 'MEHADIA', 'LUGOJ', 'TIMISOARA', 'ARAD', 'ZERIND', 'ORADEA', 'SIBIU', 'FAGARAS', 'BUCHAREST', 'PITESTI']  - Objetivo Encontrado:  PITESTI\n",
            "------------------------------------------------------------------------------------------------------------------------\n",
            "Ruta en la cola:  ['DOBRETA', 'MEHADIA', 'LUGOJ', 'TIMISOARA', 'ARAD', 'ZERIND', 'ORADEA', 'SIBIU', 'FAGARAS', 'BUCHAREST', 'URZICENI'] Último nodo en la ruta:  URZICENI\n",
            "Ruta en la cola:  ['DOBRETA', 'MEHADIA', 'LUGOJ', 'TIMISOARA', 'ARAD', 'ZERIND', 'ORADEA', 'SIBIU', 'FAGARAS', 'BUCHAREST', 'URZICENI', 'VASLUI'] Último nodo en la ruta:  VASLUI\n",
            "Ruta en la cola:  ['DOBRETA', 'MEHADIA', 'LUGOJ', 'TIMISOARA', 'ARAD', 'ZERIND', 'ORADEA', 'SIBIU', 'FAGARAS', 'BUCHAREST', 'URZICENI', 'VASLUI', 'IASI'] Último nodo en la ruta:  IASI\n",
            "Ruta en la cola:  ['DOBRETA', 'MEHADIA', 'LUGOJ', 'TIMISOARA', 'ARAD', 'ZERIND', 'ORADEA', 'SIBIU', 'FAGARAS', 'BUCHAREST', 'URZICENI', 'VASLUI', 'IASI', 'NEAMT'] Último nodo en la ruta:  NEAMT\n",
            "Ruta en la cola:  ['DOBRETA', 'MEHADIA', 'LUGOJ', 'TIMISOARA', 'ARAD', 'ZERIND', 'ORADEA', 'SIBIU', 'FAGARAS', 'BUCHAREST', 'URZICENI', 'HIRSOVA'] Último nodo en la ruta:  HIRSOVA\n",
            "Ruta en la cola:  ['DOBRETA', 'MEHADIA', 'LUGOJ', 'TIMISOARA', 'ARAD', 'ZERIND', 'ORADEA', 'SIBIU', 'FAGARAS', 'BUCHAREST', 'URZICENI', 'HIRSOVA', 'EFORIE'] Último nodo en la ruta:  EFORIE\n",
            "Ruta en la cola:  ['DOBRETA', 'MEHADIA', 'LUGOJ', 'TIMISOARA', 'ARAD', 'ZERIND', 'ORADEA', 'SIBIU', 'FAGARAS', 'BUCHAREST', 'GIURGIU'] Último nodo en la ruta:  GIURGIU\n"
          ],
          "name": "stdout"
        }
      ]
    },
    {
      "cell_type": "markdown",
      "metadata": {
        "id": "GAbguHB3wgzC",
        "colab_type": "text"
      },
      "source": [
        "**PRUEBA 6 DFS**"
      ]
    },
    {
      "cell_type": "markdown",
      "metadata": {
        "id": "0_j7pGTUA-SW",
        "colab_type": "text"
      },
      "source": [
        "En la prueba 6 se puede visualizar que el nodo de inicio es EFORIE este a diferencia del BFS recorre el grafo en profundidad va expandiendo todos y cada uno de los nodos que va localizando de forma repetitivo en un camino en concreto. Si ya no quedan mas nodos que visitar por ese camino, se regresa al anterior y este vuelve a repite el mismo proceso con todos los nodos vecinos ya explorado.\n"
      ]
    },
    {
      "cell_type": "code",
      "metadata": {
        "id": "upDnVyrLxRAl",
        "colab_type": "code",
        "outputId": "b735883a-ecb1-4073-d2ad-61484ffefa9c",
        "colab": {
          "base_uri": "https://localhost:8080/",
          "height": 225
        }
      },
      "source": [
        "  dfs_paths(graph,'EFORIE','BUCHAREST')"
      ],
      "execution_count": 0,
      "outputs": [
        {
          "output_type": "stream",
          "text": [
            "Nodo inicial:  EFORIE\n",
            "Nodo objetivo:  BUCHAREST\n",
            "\n",
            "\n",
            "Ruta en la cola:  ['EFORIE'] Último nodo en la ruta:  EFORIE\n",
            "Ruta en la cola:  ['EFORIE', 'HIRSOVA'] Último nodo en la ruta:  HIRSOVA\n",
            "Ruta en la cola:  ['EFORIE', 'HIRSOVA', 'URZICENI'] Último nodo en la ruta:  URZICENI\n",
            "Camino Escogido:  ['EFORIE', 'HIRSOVA', 'URZICENI', 'BUCHAREST']  - Objetivo Encontrado:  BUCHAREST\n",
            "------------------------------------------------------------------------------------------------------------------------\n",
            "Ruta en la cola:  ['EFORIE', 'HIRSOVA', 'URZICENI', 'VASLUI'] Último nodo en la ruta:  VASLUI\n",
            "Ruta en la cola:  ['EFORIE', 'HIRSOVA', 'URZICENI', 'VASLUI', 'IASI'] Último nodo en la ruta:  IASI\n",
            "Ruta en la cola:  ['EFORIE', 'HIRSOVA', 'URZICENI', 'VASLUI', 'IASI', 'NEAMT'] Último nodo en la ruta:  NEAMT\n"
          ],
          "name": "stdout"
        }
      ]
    },
    {
      "cell_type": "markdown",
      "metadata": {
        "id": "aeAt-kncwg7j",
        "colab_type": "text"
      },
      "source": [
        "**PRUEBA 7 DFS**"
      ]
    },
    {
      "cell_type": "markdown",
      "metadata": {
        "id": "DLFnjO4ABDpX",
        "colab_type": "text"
      },
      "source": [
        "En la prueba 7 se puede visualizar que el nodo de inicio es BUCHAREST este a diferencia del BFS recorre el grafo en profundidad va expandiendo todos y cada uno de los nodos que va localizando de forma repetitivo en un camino en concreto. Si ya no quedan mas nodos que visitar por ese camino, se regresa al anterior y este vuelve a repite el mismo proceso con todos los nodos vecinos ya explorado.\n"
      ]
    },
    {
      "cell_type": "code",
      "metadata": {
        "id": "8MxGFCsGxRkF",
        "colab_type": "code",
        "outputId": "af9a7114-d225-4b98-80d1-de337653b17b",
        "colab": {
          "base_uri": "https://localhost:8080/",
          "height": 1000
        }
      },
      "source": [
        "  dfs_paths(graph,'BUCHAREST','LUGOJ')"
      ],
      "execution_count": 0,
      "outputs": [
        {
          "output_type": "stream",
          "text": [
            "Nodo inicial:  BUCHAREST\n",
            "Nodo objetivo:  LUGOJ\n",
            "\n",
            "\n",
            "Ruta en la cola:  ['BUCHAREST'] Último nodo en la ruta:  BUCHAREST\n",
            "Ruta en la cola:  ['BUCHAREST', 'PITESTI'] Último nodo en la ruta:  PITESTI\n",
            "Ruta en la cola:  ['BUCHAREST', 'PITESTI', 'CRAIOVA'] Último nodo en la ruta:  CRAIOVA\n",
            "Ruta en la cola:  ['BUCHAREST', 'PITESTI', 'CRAIOVA', 'RIMNICU VILCEA'] Último nodo en la ruta:  RIMNICU VILCEA\n",
            "Ruta en la cola:  ['BUCHAREST', 'PITESTI', 'CRAIOVA', 'RIMNICU VILCEA', 'SIBIU'] Último nodo en la ruta:  SIBIU\n",
            "Ruta en la cola:  ['BUCHAREST', 'PITESTI', 'CRAIOVA', 'RIMNICU VILCEA', 'SIBIU', 'FAGARAS'] Último nodo en la ruta:  FAGARAS\n",
            "Ruta en la cola:  ['BUCHAREST', 'PITESTI', 'CRAIOVA', 'RIMNICU VILCEA', 'SIBIU', 'ARAD'] Último nodo en la ruta:  ARAD\n",
            "Ruta en la cola:  ['BUCHAREST', 'PITESTI', 'CRAIOVA', 'RIMNICU VILCEA', 'SIBIU', 'ARAD', 'TIMISOARA'] Último nodo en la ruta:  TIMISOARA\n",
            "Camino Escogido:  ['BUCHAREST', 'PITESTI', 'CRAIOVA', 'RIMNICU VILCEA', 'SIBIU', 'ARAD', 'TIMISOARA', 'LUGOJ']  - Objetivo Encontrado:  LUGOJ\n",
            "------------------------------------------------------------------------------------------------------------------------\n",
            "Ruta en la cola:  ['BUCHAREST', 'PITESTI', 'CRAIOVA', 'RIMNICU VILCEA', 'SIBIU', 'ARAD', 'ZERIND'] Último nodo en la ruta:  ZERIND\n",
            "Ruta en la cola:  ['BUCHAREST', 'PITESTI', 'CRAIOVA', 'RIMNICU VILCEA', 'SIBIU', 'ARAD', 'ZERIND', 'ORADEA'] Último nodo en la ruta:  ORADEA\n",
            "Ruta en la cola:  ['BUCHAREST', 'PITESTI', 'CRAIOVA', 'RIMNICU VILCEA', 'SIBIU', 'ORADEA'] Último nodo en la ruta:  ORADEA\n",
            "Ruta en la cola:  ['BUCHAREST', 'PITESTI', 'CRAIOVA', 'RIMNICU VILCEA', 'SIBIU', 'ORADEA', 'ZERIND'] Último nodo en la ruta:  ZERIND\n",
            "Ruta en la cola:  ['BUCHAREST', 'PITESTI', 'CRAIOVA', 'RIMNICU VILCEA', 'SIBIU', 'ORADEA', 'ZERIND', 'ARAD'] Último nodo en la ruta:  ARAD\n",
            "Ruta en la cola:  ['BUCHAREST', 'PITESTI', 'CRAIOVA', 'RIMNICU VILCEA', 'SIBIU', 'ORADEA', 'ZERIND', 'ARAD', 'TIMISOARA'] Último nodo en la ruta:  TIMISOARA\n",
            "Camino Escogido:  ['BUCHAREST', 'PITESTI', 'CRAIOVA', 'RIMNICU VILCEA', 'SIBIU', 'ORADEA', 'ZERIND', 'ARAD', 'TIMISOARA', 'LUGOJ']  - Objetivo Encontrado:  LUGOJ\n",
            "------------------------------------------------------------------------------------------------------------------------\n",
            "Ruta en la cola:  ['BUCHAREST', 'PITESTI', 'CRAIOVA', 'DOBRETA'] Último nodo en la ruta:  DOBRETA\n",
            "Ruta en la cola:  ['BUCHAREST', 'PITESTI', 'CRAIOVA', 'DOBRETA', 'MEHADIA'] Último nodo en la ruta:  MEHADIA\n",
            "Camino Escogido:  ['BUCHAREST', 'PITESTI', 'CRAIOVA', 'DOBRETA', 'MEHADIA', 'LUGOJ']  - Objetivo Encontrado:  LUGOJ\n",
            "------------------------------------------------------------------------------------------------------------------------\n",
            "Ruta en la cola:  ['BUCHAREST', 'PITESTI', 'RIMNICU VILCEA'] Último nodo en la ruta:  RIMNICU VILCEA\n",
            "Ruta en la cola:  ['BUCHAREST', 'PITESTI', 'RIMNICU VILCEA', 'CRAIOVA'] Último nodo en la ruta:  CRAIOVA\n",
            "Ruta en la cola:  ['BUCHAREST', 'PITESTI', 'RIMNICU VILCEA', 'CRAIOVA', 'DOBRETA'] Último nodo en la ruta:  DOBRETA\n",
            "Ruta en la cola:  ['BUCHAREST', 'PITESTI', 'RIMNICU VILCEA', 'CRAIOVA', 'DOBRETA', 'MEHADIA'] Último nodo en la ruta:  MEHADIA\n",
            "Camino Escogido:  ['BUCHAREST', 'PITESTI', 'RIMNICU VILCEA', 'CRAIOVA', 'DOBRETA', 'MEHADIA', 'LUGOJ']  - Objetivo Encontrado:  LUGOJ\n",
            "------------------------------------------------------------------------------------------------------------------------\n",
            "Ruta en la cola:  ['BUCHAREST', 'PITESTI', 'RIMNICU VILCEA', 'SIBIU'] Último nodo en la ruta:  SIBIU\n",
            "Ruta en la cola:  ['BUCHAREST', 'PITESTI', 'RIMNICU VILCEA', 'SIBIU', 'FAGARAS'] Último nodo en la ruta:  FAGARAS\n",
            "Ruta en la cola:  ['BUCHAREST', 'PITESTI', 'RIMNICU VILCEA', 'SIBIU', 'ARAD'] Último nodo en la ruta:  ARAD\n",
            "Ruta en la cola:  ['BUCHAREST', 'PITESTI', 'RIMNICU VILCEA', 'SIBIU', 'ARAD', 'TIMISOARA'] Último nodo en la ruta:  TIMISOARA\n",
            "Camino Escogido:  ['BUCHAREST', 'PITESTI', 'RIMNICU VILCEA', 'SIBIU', 'ARAD', 'TIMISOARA', 'LUGOJ']  - Objetivo Encontrado:  LUGOJ\n",
            "------------------------------------------------------------------------------------------------------------------------\n",
            "Ruta en la cola:  ['BUCHAREST', 'PITESTI', 'RIMNICU VILCEA', 'SIBIU', 'ARAD', 'ZERIND'] Último nodo en la ruta:  ZERIND\n",
            "Ruta en la cola:  ['BUCHAREST', 'PITESTI', 'RIMNICU VILCEA', 'SIBIU', 'ARAD', 'ZERIND', 'ORADEA'] Último nodo en la ruta:  ORADEA\n",
            "Ruta en la cola:  ['BUCHAREST', 'PITESTI', 'RIMNICU VILCEA', 'SIBIU', 'ORADEA'] Último nodo en la ruta:  ORADEA\n",
            "Ruta en la cola:  ['BUCHAREST', 'PITESTI', 'RIMNICU VILCEA', 'SIBIU', 'ORADEA', 'ZERIND'] Último nodo en la ruta:  ZERIND\n",
            "Ruta en la cola:  ['BUCHAREST', 'PITESTI', 'RIMNICU VILCEA', 'SIBIU', 'ORADEA', 'ZERIND', 'ARAD'] Último nodo en la ruta:  ARAD\n",
            "Ruta en la cola:  ['BUCHAREST', 'PITESTI', 'RIMNICU VILCEA', 'SIBIU', 'ORADEA', 'ZERIND', 'ARAD', 'TIMISOARA'] Último nodo en la ruta:  TIMISOARA\n",
            "Camino Escogido:  ['BUCHAREST', 'PITESTI', 'RIMNICU VILCEA', 'SIBIU', 'ORADEA', 'ZERIND', 'ARAD', 'TIMISOARA', 'LUGOJ']  - Objetivo Encontrado:  LUGOJ\n",
            "------------------------------------------------------------------------------------------------------------------------\n",
            "Ruta en la cola:  ['BUCHAREST', 'FAGARAS'] Último nodo en la ruta:  FAGARAS\n",
            "Ruta en la cola:  ['BUCHAREST', 'FAGARAS', 'SIBIU'] Último nodo en la ruta:  SIBIU\n",
            "Ruta en la cola:  ['BUCHAREST', 'FAGARAS', 'SIBIU', 'RIMNICU VILCEA'] Último nodo en la ruta:  RIMNICU VILCEA\n",
            "Ruta en la cola:  ['BUCHAREST', 'FAGARAS', 'SIBIU', 'RIMNICU VILCEA', 'PITESTI'] Último nodo en la ruta:  PITESTI\n",
            "Ruta en la cola:  ['BUCHAREST', 'FAGARAS', 'SIBIU', 'RIMNICU VILCEA', 'PITESTI', 'CRAIOVA'] Último nodo en la ruta:  CRAIOVA\n",
            "Ruta en la cola:  ['BUCHAREST', 'FAGARAS', 'SIBIU', 'RIMNICU VILCEA', 'PITESTI', 'CRAIOVA', 'DOBRETA'] Último nodo en la ruta:  DOBRETA\n",
            "Ruta en la cola:  ['BUCHAREST', 'FAGARAS', 'SIBIU', 'RIMNICU VILCEA', 'PITESTI', 'CRAIOVA', 'DOBRETA', 'MEHADIA'] Último nodo en la ruta:  MEHADIA\n",
            "Camino Escogido:  ['BUCHAREST', 'FAGARAS', 'SIBIU', 'RIMNICU VILCEA', 'PITESTI', 'CRAIOVA', 'DOBRETA', 'MEHADIA', 'LUGOJ']  - Objetivo Encontrado:  LUGOJ\n",
            "------------------------------------------------------------------------------------------------------------------------\n",
            "Ruta en la cola:  ['BUCHAREST', 'FAGARAS', 'SIBIU', 'RIMNICU VILCEA', 'CRAIOVA'] Último nodo en la ruta:  CRAIOVA\n",
            "Ruta en la cola:  ['BUCHAREST', 'FAGARAS', 'SIBIU', 'RIMNICU VILCEA', 'CRAIOVA', 'PITESTI'] Último nodo en la ruta:  PITESTI\n",
            "Ruta en la cola:  ['BUCHAREST', 'FAGARAS', 'SIBIU', 'RIMNICU VILCEA', 'CRAIOVA', 'DOBRETA'] Último nodo en la ruta:  DOBRETA\n",
            "Ruta en la cola:  ['BUCHAREST', 'FAGARAS', 'SIBIU', 'RIMNICU VILCEA', 'CRAIOVA', 'DOBRETA', 'MEHADIA'] Último nodo en la ruta:  MEHADIA\n",
            "Camino Escogido:  ['BUCHAREST', 'FAGARAS', 'SIBIU', 'RIMNICU VILCEA', 'CRAIOVA', 'DOBRETA', 'MEHADIA', 'LUGOJ']  - Objetivo Encontrado:  LUGOJ\n",
            "------------------------------------------------------------------------------------------------------------------------\n",
            "Ruta en la cola:  ['BUCHAREST', 'FAGARAS', 'SIBIU', 'ARAD'] Último nodo en la ruta:  ARAD\n",
            "Ruta en la cola:  ['BUCHAREST', 'FAGARAS', 'SIBIU', 'ARAD', 'TIMISOARA'] Último nodo en la ruta:  TIMISOARA\n",
            "Camino Escogido:  ['BUCHAREST', 'FAGARAS', 'SIBIU', 'ARAD', 'TIMISOARA', 'LUGOJ']  - Objetivo Encontrado:  LUGOJ\n",
            "------------------------------------------------------------------------------------------------------------------------\n",
            "Ruta en la cola:  ['BUCHAREST', 'FAGARAS', 'SIBIU', 'ARAD', 'ZERIND'] Último nodo en la ruta:  ZERIND\n",
            "Ruta en la cola:  ['BUCHAREST', 'FAGARAS', 'SIBIU', 'ARAD', 'ZERIND', 'ORADEA'] Último nodo en la ruta:  ORADEA\n",
            "Ruta en la cola:  ['BUCHAREST', 'FAGARAS', 'SIBIU', 'ORADEA'] Último nodo en la ruta:  ORADEA\n",
            "Ruta en la cola:  ['BUCHAREST', 'FAGARAS', 'SIBIU', 'ORADEA', 'ZERIND'] Último nodo en la ruta:  ZERIND\n",
            "Ruta en la cola:  ['BUCHAREST', 'FAGARAS', 'SIBIU', 'ORADEA', 'ZERIND', 'ARAD'] Último nodo en la ruta:  ARAD\n",
            "Ruta en la cola:  ['BUCHAREST', 'FAGARAS', 'SIBIU', 'ORADEA', 'ZERIND', 'ARAD', 'TIMISOARA'] Último nodo en la ruta:  TIMISOARA\n",
            "Camino Escogido:  ['BUCHAREST', 'FAGARAS', 'SIBIU', 'ORADEA', 'ZERIND', 'ARAD', 'TIMISOARA', 'LUGOJ']  - Objetivo Encontrado:  LUGOJ\n",
            "------------------------------------------------------------------------------------------------------------------------\n",
            "Ruta en la cola:  ['BUCHAREST', 'URZICENI'] Último nodo en la ruta:  URZICENI\n",
            "Ruta en la cola:  ['BUCHAREST', 'URZICENI', 'VASLUI'] Último nodo en la ruta:  VASLUI\n",
            "Ruta en la cola:  ['BUCHAREST', 'URZICENI', 'VASLUI', 'IASI'] Último nodo en la ruta:  IASI\n",
            "Ruta en la cola:  ['BUCHAREST', 'URZICENI', 'VASLUI', 'IASI', 'NEAMT'] Último nodo en la ruta:  NEAMT\n",
            "Ruta en la cola:  ['BUCHAREST', 'URZICENI', 'HIRSOVA'] Último nodo en la ruta:  HIRSOVA\n",
            "Ruta en la cola:  ['BUCHAREST', 'URZICENI', 'HIRSOVA', 'EFORIE'] Último nodo en la ruta:  EFORIE\n",
            "Ruta en la cola:  ['BUCHAREST', 'GIURGIU'] Último nodo en la ruta:  GIURGIU\n"
          ],
          "name": "stdout"
        }
      ]
    },
    {
      "cell_type": "markdown",
      "metadata": {
        "id": "VIsKR5jnwhFz",
        "colab_type": "text"
      },
      "source": [
        "**PRUEBA 8 DFS**"
      ]
    },
    {
      "cell_type": "markdown",
      "metadata": {
        "id": "i_Bp16KjBTe4",
        "colab_type": "text"
      },
      "source": [
        "En la prueba 1 se puede visualizar que el nodo de inicio es GIURGIU este a diferencia del BFS recorre el grafo en profundidad va expandiendo todos y cada uno de los nodos que va localizando de forma repetitivo en un camino en concreto. Si ya no quedan mas nodos que visitar por ese camino, se regresa al anterior y este vuelve a repite el mismo proceso con todos los nodos vecinos ya explorado.\n"
      ]
    },
    {
      "cell_type": "code",
      "metadata": {
        "id": "gtLDdESvxSAr",
        "colab_type": "code",
        "outputId": "f16ec022-afe1-4fe0-c02a-f858516cbeb0",
        "colab": {
          "base_uri": "https://localhost:8080/",
          "height": 1000
        }
      },
      "source": [
        "  dfs_paths(graph,'GIURGIU','CRAIOVA')"
      ],
      "execution_count": 0,
      "outputs": [
        {
          "output_type": "stream",
          "text": [
            "Nodo inicial:  GIURGIU\n",
            "Nodo objetivo:  CRAIOVA\n",
            "\n",
            "\n",
            "Ruta en la cola:  ['GIURGIU'] Último nodo en la ruta:  GIURGIU\n",
            "Ruta en la cola:  ['GIURGIU', 'BUCHAREST'] Último nodo en la ruta:  BUCHAREST\n",
            "Ruta en la cola:  ['GIURGIU', 'BUCHAREST', 'PITESTI'] Último nodo en la ruta:  PITESTI\n",
            "Camino Escogido:  ['GIURGIU', 'BUCHAREST', 'PITESTI', 'CRAIOVA']  - Objetivo Encontrado:  CRAIOVA\n",
            "------------------------------------------------------------------------------------------------------------------------\n",
            "Ruta en la cola:  ['GIURGIU', 'BUCHAREST', 'PITESTI', 'RIMNICU VILCEA'] Último nodo en la ruta:  RIMNICU VILCEA\n",
            "Camino Escogido:  ['GIURGIU', 'BUCHAREST', 'PITESTI', 'RIMNICU VILCEA', 'CRAIOVA']  - Objetivo Encontrado:  CRAIOVA\n",
            "------------------------------------------------------------------------------------------------------------------------\n",
            "Ruta en la cola:  ['GIURGIU', 'BUCHAREST', 'PITESTI', 'RIMNICU VILCEA', 'SIBIU'] Último nodo en la ruta:  SIBIU\n",
            "Ruta en la cola:  ['GIURGIU', 'BUCHAREST', 'PITESTI', 'RIMNICU VILCEA', 'SIBIU', 'FAGARAS'] Último nodo en la ruta:  FAGARAS\n",
            "Ruta en la cola:  ['GIURGIU', 'BUCHAREST', 'PITESTI', 'RIMNICU VILCEA', 'SIBIU', 'ARAD'] Último nodo en la ruta:  ARAD\n",
            "Ruta en la cola:  ['GIURGIU', 'BUCHAREST', 'PITESTI', 'RIMNICU VILCEA', 'SIBIU', 'ARAD', 'TIMISOARA'] Último nodo en la ruta:  TIMISOARA\n",
            "Ruta en la cola:  ['GIURGIU', 'BUCHAREST', 'PITESTI', 'RIMNICU VILCEA', 'SIBIU', 'ARAD', 'TIMISOARA', 'LUGOJ'] Último nodo en la ruta:  LUGOJ\n",
            "Ruta en la cola:  ['GIURGIU', 'BUCHAREST', 'PITESTI', 'RIMNICU VILCEA', 'SIBIU', 'ARAD', 'TIMISOARA', 'LUGOJ', 'MEHADIA'] Último nodo en la ruta:  MEHADIA\n",
            "Ruta en la cola:  ['GIURGIU', 'BUCHAREST', 'PITESTI', 'RIMNICU VILCEA', 'SIBIU', 'ARAD', 'TIMISOARA', 'LUGOJ', 'MEHADIA', 'DOBRETA'] Último nodo en la ruta:  DOBRETA\n",
            "Camino Escogido:  ['GIURGIU', 'BUCHAREST', 'PITESTI', 'RIMNICU VILCEA', 'SIBIU', 'ARAD', 'TIMISOARA', 'LUGOJ', 'MEHADIA', 'DOBRETA', 'CRAIOVA']  - Objetivo Encontrado:  CRAIOVA\n",
            "------------------------------------------------------------------------------------------------------------------------\n",
            "Ruta en la cola:  ['GIURGIU', 'BUCHAREST', 'PITESTI', 'RIMNICU VILCEA', 'SIBIU', 'ARAD', 'ZERIND'] Último nodo en la ruta:  ZERIND\n",
            "Ruta en la cola:  ['GIURGIU', 'BUCHAREST', 'PITESTI', 'RIMNICU VILCEA', 'SIBIU', 'ARAD', 'ZERIND', 'ORADEA'] Último nodo en la ruta:  ORADEA\n",
            "Ruta en la cola:  ['GIURGIU', 'BUCHAREST', 'PITESTI', 'RIMNICU VILCEA', 'SIBIU', 'ORADEA'] Último nodo en la ruta:  ORADEA\n",
            "Ruta en la cola:  ['GIURGIU', 'BUCHAREST', 'PITESTI', 'RIMNICU VILCEA', 'SIBIU', 'ORADEA', 'ZERIND'] Último nodo en la ruta:  ZERIND\n",
            "Ruta en la cola:  ['GIURGIU', 'BUCHAREST', 'PITESTI', 'RIMNICU VILCEA', 'SIBIU', 'ORADEA', 'ZERIND', 'ARAD'] Último nodo en la ruta:  ARAD\n",
            "Ruta en la cola:  ['GIURGIU', 'BUCHAREST', 'PITESTI', 'RIMNICU VILCEA', 'SIBIU', 'ORADEA', 'ZERIND', 'ARAD', 'TIMISOARA'] Último nodo en la ruta:  TIMISOARA\n",
            "Ruta en la cola:  ['GIURGIU', 'BUCHAREST', 'PITESTI', 'RIMNICU VILCEA', 'SIBIU', 'ORADEA', 'ZERIND', 'ARAD', 'TIMISOARA', 'LUGOJ'] Último nodo en la ruta:  LUGOJ\n",
            "Ruta en la cola:  ['GIURGIU', 'BUCHAREST', 'PITESTI', 'RIMNICU VILCEA', 'SIBIU', 'ORADEA', 'ZERIND', 'ARAD', 'TIMISOARA', 'LUGOJ', 'MEHADIA'] Último nodo en la ruta:  MEHADIA\n",
            "Ruta en la cola:  ['GIURGIU', 'BUCHAREST', 'PITESTI', 'RIMNICU VILCEA', 'SIBIU', 'ORADEA', 'ZERIND', 'ARAD', 'TIMISOARA', 'LUGOJ', 'MEHADIA', 'DOBRETA'] Último nodo en la ruta:  DOBRETA\n",
            "Camino Escogido:  ['GIURGIU', 'BUCHAREST', 'PITESTI', 'RIMNICU VILCEA', 'SIBIU', 'ORADEA', 'ZERIND', 'ARAD', 'TIMISOARA', 'LUGOJ', 'MEHADIA', 'DOBRETA', 'CRAIOVA']  - Objetivo Encontrado:  CRAIOVA\n",
            "------------------------------------------------------------------------------------------------------------------------\n",
            "Ruta en la cola:  ['GIURGIU', 'BUCHAREST', 'FAGARAS'] Último nodo en la ruta:  FAGARAS\n",
            "Ruta en la cola:  ['GIURGIU', 'BUCHAREST', 'FAGARAS', 'SIBIU'] Último nodo en la ruta:  SIBIU\n",
            "Ruta en la cola:  ['GIURGIU', 'BUCHAREST', 'FAGARAS', 'SIBIU', 'RIMNICU VILCEA'] Último nodo en la ruta:  RIMNICU VILCEA\n",
            "Camino Escogido:  ['GIURGIU', 'BUCHAREST', 'FAGARAS', 'SIBIU', 'RIMNICU VILCEA', 'CRAIOVA']  - Objetivo Encontrado:  CRAIOVA\n",
            "------------------------------------------------------------------------------------------------------------------------\n",
            "Ruta en la cola:  ['GIURGIU', 'BUCHAREST', 'FAGARAS', 'SIBIU', 'RIMNICU VILCEA', 'PITESTI'] Último nodo en la ruta:  PITESTI\n",
            "Camino Escogido:  ['GIURGIU', 'BUCHAREST', 'FAGARAS', 'SIBIU', 'RIMNICU VILCEA', 'PITESTI', 'CRAIOVA']  - Objetivo Encontrado:  CRAIOVA\n",
            "------------------------------------------------------------------------------------------------------------------------\n",
            "Ruta en la cola:  ['GIURGIU', 'BUCHAREST', 'FAGARAS', 'SIBIU', 'ARAD'] Último nodo en la ruta:  ARAD\n",
            "Ruta en la cola:  ['GIURGIU', 'BUCHAREST', 'FAGARAS', 'SIBIU', 'ARAD', 'TIMISOARA'] Último nodo en la ruta:  TIMISOARA\n",
            "Ruta en la cola:  ['GIURGIU', 'BUCHAREST', 'FAGARAS', 'SIBIU', 'ARAD', 'TIMISOARA', 'LUGOJ'] Último nodo en la ruta:  LUGOJ\n",
            "Ruta en la cola:  ['GIURGIU', 'BUCHAREST', 'FAGARAS', 'SIBIU', 'ARAD', 'TIMISOARA', 'LUGOJ', 'MEHADIA'] Último nodo en la ruta:  MEHADIA\n",
            "Ruta en la cola:  ['GIURGIU', 'BUCHAREST', 'FAGARAS', 'SIBIU', 'ARAD', 'TIMISOARA', 'LUGOJ', 'MEHADIA', 'DOBRETA'] Último nodo en la ruta:  DOBRETA\n",
            "Camino Escogido:  ['GIURGIU', 'BUCHAREST', 'FAGARAS', 'SIBIU', 'ARAD', 'TIMISOARA', 'LUGOJ', 'MEHADIA', 'DOBRETA', 'CRAIOVA']  - Objetivo Encontrado:  CRAIOVA\n",
            "------------------------------------------------------------------------------------------------------------------------\n",
            "Ruta en la cola:  ['GIURGIU', 'BUCHAREST', 'FAGARAS', 'SIBIU', 'ARAD', 'ZERIND'] Último nodo en la ruta:  ZERIND\n",
            "Ruta en la cola:  ['GIURGIU', 'BUCHAREST', 'FAGARAS', 'SIBIU', 'ARAD', 'ZERIND', 'ORADEA'] Último nodo en la ruta:  ORADEA\n",
            "Ruta en la cola:  ['GIURGIU', 'BUCHAREST', 'FAGARAS', 'SIBIU', 'ORADEA'] Último nodo en la ruta:  ORADEA\n",
            "Ruta en la cola:  ['GIURGIU', 'BUCHAREST', 'FAGARAS', 'SIBIU', 'ORADEA', 'ZERIND'] Último nodo en la ruta:  ZERIND\n",
            "Ruta en la cola:  ['GIURGIU', 'BUCHAREST', 'FAGARAS', 'SIBIU', 'ORADEA', 'ZERIND', 'ARAD'] Último nodo en la ruta:  ARAD\n",
            "Ruta en la cola:  ['GIURGIU', 'BUCHAREST', 'FAGARAS', 'SIBIU', 'ORADEA', 'ZERIND', 'ARAD', 'TIMISOARA'] Último nodo en la ruta:  TIMISOARA\n",
            "Ruta en la cola:  ['GIURGIU', 'BUCHAREST', 'FAGARAS', 'SIBIU', 'ORADEA', 'ZERIND', 'ARAD', 'TIMISOARA', 'LUGOJ'] Último nodo en la ruta:  LUGOJ\n",
            "Ruta en la cola:  ['GIURGIU', 'BUCHAREST', 'FAGARAS', 'SIBIU', 'ORADEA', 'ZERIND', 'ARAD', 'TIMISOARA', 'LUGOJ', 'MEHADIA'] Último nodo en la ruta:  MEHADIA\n",
            "Ruta en la cola:  ['GIURGIU', 'BUCHAREST', 'FAGARAS', 'SIBIU', 'ORADEA', 'ZERIND', 'ARAD', 'TIMISOARA', 'LUGOJ', 'MEHADIA', 'DOBRETA'] Último nodo en la ruta:  DOBRETA\n",
            "Camino Escogido:  ['GIURGIU', 'BUCHAREST', 'FAGARAS', 'SIBIU', 'ORADEA', 'ZERIND', 'ARAD', 'TIMISOARA', 'LUGOJ', 'MEHADIA', 'DOBRETA', 'CRAIOVA']  - Objetivo Encontrado:  CRAIOVA\n",
            "------------------------------------------------------------------------------------------------------------------------\n",
            "Ruta en la cola:  ['GIURGIU', 'BUCHAREST', 'URZICENI'] Último nodo en la ruta:  URZICENI\n",
            "Ruta en la cola:  ['GIURGIU', 'BUCHAREST', 'URZICENI', 'VASLUI'] Último nodo en la ruta:  VASLUI\n",
            "Ruta en la cola:  ['GIURGIU', 'BUCHAREST', 'URZICENI', 'VASLUI', 'IASI'] Último nodo en la ruta:  IASI\n",
            "Ruta en la cola:  ['GIURGIU', 'BUCHAREST', 'URZICENI', 'VASLUI', 'IASI', 'NEAMT'] Último nodo en la ruta:  NEAMT\n",
            "Ruta en la cola:  ['GIURGIU', 'BUCHAREST', 'URZICENI', 'HIRSOVA'] Último nodo en la ruta:  HIRSOVA\n",
            "Ruta en la cola:  ['GIURGIU', 'BUCHAREST', 'URZICENI', 'HIRSOVA', 'EFORIE'] Último nodo en la ruta:  EFORIE\n"
          ],
          "name": "stdout"
        }
      ]
    },
    {
      "cell_type": "markdown",
      "metadata": {
        "id": "rA9BmjoTz7zV",
        "colab_type": "text"
      },
      "source": [
        "**PRUEBA 9 DFS**"
      ]
    },
    {
      "cell_type": "markdown",
      "metadata": {
        "id": "uOz9AttUBvyA",
        "colab_type": "text"
      },
      "source": [
        "En la prueba 9 se puede visualizar que el nodo de inicio es URZICENI este a diferencia del BFS recorre el grafo en profundidad va expandiendo todos y cada uno de los nodos que va localizando de forma repetitivo en un camino en concreto. Si ya no quedan mas nodos que visitar por ese camino, se regresa al anterior y este vuelve a repite el mismo proceso con todos los nodos vecinos ya explorado.\n"
      ]
    },
    {
      "cell_type": "code",
      "metadata": {
        "id": "bVgF1Zdlz12F",
        "colab_type": "code",
        "outputId": "ff04d8f9-c448-45f4-e4b2-f59525a7ad99",
        "colab": {
          "base_uri": "https://localhost:8080/",
          "height": 991
        }
      },
      "source": [
        "  dfs_paths(graph,'URZICENI','PITESTI')"
      ],
      "execution_count": 0,
      "outputs": [
        {
          "output_type": "stream",
          "text": [
            "Nodo inicial:  URZICENI\n",
            "Nodo objetivo:  PITESTI\n",
            "\n",
            "\n",
            "Ruta en la cola:  ['URZICENI'] Último nodo en la ruta:  URZICENI\n",
            "Ruta en la cola:  ['URZICENI', 'VASLUI'] Último nodo en la ruta:  VASLUI\n",
            "Ruta en la cola:  ['URZICENI', 'VASLUI', 'IASI'] Último nodo en la ruta:  IASI\n",
            "Ruta en la cola:  ['URZICENI', 'VASLUI', 'IASI', 'NEAMT'] Último nodo en la ruta:  NEAMT\n",
            "Ruta en la cola:  ['URZICENI', 'HIRSOVA'] Último nodo en la ruta:  HIRSOVA\n",
            "Ruta en la cola:  ['URZICENI', 'HIRSOVA', 'EFORIE'] Último nodo en la ruta:  EFORIE\n",
            "Ruta en la cola:  ['URZICENI', 'BUCHAREST'] Último nodo en la ruta:  BUCHAREST\n",
            "Camino Escogido:  ['URZICENI', 'BUCHAREST', 'PITESTI']  - Objetivo Encontrado:  PITESTI\n",
            "------------------------------------------------------------------------------------------------------------------------\n",
            "Ruta en la cola:  ['URZICENI', 'BUCHAREST', 'FAGARAS'] Último nodo en la ruta:  FAGARAS\n",
            "Ruta en la cola:  ['URZICENI', 'BUCHAREST', 'FAGARAS', 'SIBIU'] Último nodo en la ruta:  SIBIU\n",
            "Ruta en la cola:  ['URZICENI', 'BUCHAREST', 'FAGARAS', 'SIBIU', 'RIMNICU VILCEA'] Último nodo en la ruta:  RIMNICU VILCEA\n",
            "Camino Escogido:  ['URZICENI', 'BUCHAREST', 'FAGARAS', 'SIBIU', 'RIMNICU VILCEA', 'PITESTI']  - Objetivo Encontrado:  PITESTI\n",
            "------------------------------------------------------------------------------------------------------------------------\n",
            "Ruta en la cola:  ['URZICENI', 'BUCHAREST', 'FAGARAS', 'SIBIU', 'RIMNICU VILCEA', 'CRAIOVA'] Último nodo en la ruta:  CRAIOVA\n",
            "Camino Escogido:  ['URZICENI', 'BUCHAREST', 'FAGARAS', 'SIBIU', 'RIMNICU VILCEA', 'CRAIOVA', 'PITESTI']  - Objetivo Encontrado:  PITESTI\n",
            "------------------------------------------------------------------------------------------------------------------------\n",
            "Ruta en la cola:  ['URZICENI', 'BUCHAREST', 'FAGARAS', 'SIBIU', 'RIMNICU VILCEA', 'CRAIOVA', 'DOBRETA'] Último nodo en la ruta:  DOBRETA\n",
            "Ruta en la cola:  ['URZICENI', 'BUCHAREST', 'FAGARAS', 'SIBIU', 'RIMNICU VILCEA', 'CRAIOVA', 'DOBRETA', 'MEHADIA'] Último nodo en la ruta:  MEHADIA\n",
            "Ruta en la cola:  ['URZICENI', 'BUCHAREST', 'FAGARAS', 'SIBIU', 'RIMNICU VILCEA', 'CRAIOVA', 'DOBRETA', 'MEHADIA', 'LUGOJ'] Último nodo en la ruta:  LUGOJ\n",
            "Ruta en la cola:  ['URZICENI', 'BUCHAREST', 'FAGARAS', 'SIBIU', 'RIMNICU VILCEA', 'CRAIOVA', 'DOBRETA', 'MEHADIA', 'LUGOJ', 'TIMISOARA'] Último nodo en la ruta:  TIMISOARA\n",
            "Ruta en la cola:  ['URZICENI', 'BUCHAREST', 'FAGARAS', 'SIBIU', 'RIMNICU VILCEA', 'CRAIOVA', 'DOBRETA', 'MEHADIA', 'LUGOJ', 'TIMISOARA', 'ARAD'] Último nodo en la ruta:  ARAD\n",
            "Ruta en la cola:  ['URZICENI', 'BUCHAREST', 'FAGARAS', 'SIBIU', 'RIMNICU VILCEA', 'CRAIOVA', 'DOBRETA', 'MEHADIA', 'LUGOJ', 'TIMISOARA', 'ARAD', 'ZERIND'] Último nodo en la ruta:  ZERIND\n",
            "Ruta en la cola:  ['URZICENI', 'BUCHAREST', 'FAGARAS', 'SIBIU', 'RIMNICU VILCEA', 'CRAIOVA', 'DOBRETA', 'MEHADIA', 'LUGOJ', 'TIMISOARA', 'ARAD', 'ZERIND', 'ORADEA'] Último nodo en la ruta:  ORADEA\n",
            "Ruta en la cola:  ['URZICENI', 'BUCHAREST', 'FAGARAS', 'SIBIU', 'ARAD'] Último nodo en la ruta:  ARAD\n",
            "Ruta en la cola:  ['URZICENI', 'BUCHAREST', 'FAGARAS', 'SIBIU', 'ARAD', 'TIMISOARA'] Último nodo en la ruta:  TIMISOARA\n",
            "Ruta en la cola:  ['URZICENI', 'BUCHAREST', 'FAGARAS', 'SIBIU', 'ARAD', 'TIMISOARA', 'LUGOJ'] Último nodo en la ruta:  LUGOJ\n",
            "Ruta en la cola:  ['URZICENI', 'BUCHAREST', 'FAGARAS', 'SIBIU', 'ARAD', 'TIMISOARA', 'LUGOJ', 'MEHADIA'] Último nodo en la ruta:  MEHADIA\n",
            "Ruta en la cola:  ['URZICENI', 'BUCHAREST', 'FAGARAS', 'SIBIU', 'ARAD', 'TIMISOARA', 'LUGOJ', 'MEHADIA', 'DOBRETA'] Último nodo en la ruta:  DOBRETA\n",
            "Ruta en la cola:  ['URZICENI', 'BUCHAREST', 'FAGARAS', 'SIBIU', 'ARAD', 'TIMISOARA', 'LUGOJ', 'MEHADIA', 'DOBRETA', 'CRAIOVA'] Último nodo en la ruta:  CRAIOVA\n",
            "Camino Escogido:  ['URZICENI', 'BUCHAREST', 'FAGARAS', 'SIBIU', 'ARAD', 'TIMISOARA', 'LUGOJ', 'MEHADIA', 'DOBRETA', 'CRAIOVA', 'PITESTI']  - Objetivo Encontrado:  PITESTI\n",
            "------------------------------------------------------------------------------------------------------------------------\n",
            "Ruta en la cola:  ['URZICENI', 'BUCHAREST', 'FAGARAS', 'SIBIU', 'ARAD', 'TIMISOARA', 'LUGOJ', 'MEHADIA', 'DOBRETA', 'CRAIOVA', 'RIMNICU VILCEA'] Último nodo en la ruta:  RIMNICU VILCEA\n",
            "Camino Escogido:  ['URZICENI', 'BUCHAREST', 'FAGARAS', 'SIBIU', 'ARAD', 'TIMISOARA', 'LUGOJ', 'MEHADIA', 'DOBRETA', 'CRAIOVA', 'RIMNICU VILCEA', 'PITESTI']  - Objetivo Encontrado:  PITESTI\n",
            "------------------------------------------------------------------------------------------------------------------------\n",
            "Ruta en la cola:  ['URZICENI', 'BUCHAREST', 'FAGARAS', 'SIBIU', 'ARAD', 'ZERIND'] Último nodo en la ruta:  ZERIND\n",
            "Ruta en la cola:  ['URZICENI', 'BUCHAREST', 'FAGARAS', 'SIBIU', 'ARAD', 'ZERIND', 'ORADEA'] Último nodo en la ruta:  ORADEA\n",
            "Ruta en la cola:  ['URZICENI', 'BUCHAREST', 'FAGARAS', 'SIBIU', 'ORADEA'] Último nodo en la ruta:  ORADEA\n",
            "Ruta en la cola:  ['URZICENI', 'BUCHAREST', 'FAGARAS', 'SIBIU', 'ORADEA', 'ZERIND'] Último nodo en la ruta:  ZERIND\n",
            "Ruta en la cola:  ['URZICENI', 'BUCHAREST', 'FAGARAS', 'SIBIU', 'ORADEA', 'ZERIND', 'ARAD'] Último nodo en la ruta:  ARAD\n",
            "Ruta en la cola:  ['URZICENI', 'BUCHAREST', 'FAGARAS', 'SIBIU', 'ORADEA', 'ZERIND', 'ARAD', 'TIMISOARA'] Último nodo en la ruta:  TIMISOARA\n",
            "Ruta en la cola:  ['URZICENI', 'BUCHAREST', 'FAGARAS', 'SIBIU', 'ORADEA', 'ZERIND', 'ARAD', 'TIMISOARA', 'LUGOJ'] Último nodo en la ruta:  LUGOJ\n",
            "Ruta en la cola:  ['URZICENI', 'BUCHAREST', 'FAGARAS', 'SIBIU', 'ORADEA', 'ZERIND', 'ARAD', 'TIMISOARA', 'LUGOJ', 'MEHADIA'] Último nodo en la ruta:  MEHADIA\n",
            "Ruta en la cola:  ['URZICENI', 'BUCHAREST', 'FAGARAS', 'SIBIU', 'ORADEA', 'ZERIND', 'ARAD', 'TIMISOARA', 'LUGOJ', 'MEHADIA', 'DOBRETA'] Último nodo en la ruta:  DOBRETA\n",
            "Ruta en la cola:  ['URZICENI', 'BUCHAREST', 'FAGARAS', 'SIBIU', 'ORADEA', 'ZERIND', 'ARAD', 'TIMISOARA', 'LUGOJ', 'MEHADIA', 'DOBRETA', 'CRAIOVA'] Último nodo en la ruta:  CRAIOVA\n",
            "Camino Escogido:  ['URZICENI', 'BUCHAREST', 'FAGARAS', 'SIBIU', 'ORADEA', 'ZERIND', 'ARAD', 'TIMISOARA', 'LUGOJ', 'MEHADIA', 'DOBRETA', 'CRAIOVA', 'PITESTI']  - Objetivo Encontrado:  PITESTI\n",
            "------------------------------------------------------------------------------------------------------------------------\n",
            "Ruta en la cola:  ['URZICENI', 'BUCHAREST', 'FAGARAS', 'SIBIU', 'ORADEA', 'ZERIND', 'ARAD', 'TIMISOARA', 'LUGOJ', 'MEHADIA', 'DOBRETA', 'CRAIOVA', 'RIMNICU VILCEA'] Último nodo en la ruta:  RIMNICU VILCEA\n",
            "Camino Escogido:  ['URZICENI', 'BUCHAREST', 'FAGARAS', 'SIBIU', 'ORADEA', 'ZERIND', 'ARAD', 'TIMISOARA', 'LUGOJ', 'MEHADIA', 'DOBRETA', 'CRAIOVA', 'RIMNICU VILCEA', 'PITESTI']  - Objetivo Encontrado:  PITESTI\n",
            "------------------------------------------------------------------------------------------------------------------------\n",
            "Ruta en la cola:  ['URZICENI', 'BUCHAREST', 'GIURGIU'] Último nodo en la ruta:  GIURGIU\n"
          ],
          "name": "stdout"
        }
      ]
    },
    {
      "cell_type": "markdown",
      "metadata": {
        "id": "WOvCUUxXz6yN",
        "colab_type": "text"
      },
      "source": [
        "**PRUEBA 10 DFS**"
      ]
    },
    {
      "cell_type": "markdown",
      "metadata": {
        "id": "dcygrqHTB0lS",
        "colab_type": "text"
      },
      "source": [
        "En la prueba 10 se puede visualizar que el nodo de inicio es EFORIE este a diferencia del BFS recorre el grafo en profundidad va expandiendo todos y cada uno de los nodos que va localizando de forma repetitivo en un camino en concreto. Si ya no quedan mas nodos que visitar por ese camino, se regresa al anterior y este vuelve a repite el mismo proceso con todos los nodos vecinos ya explorado.\n"
      ]
    },
    {
      "cell_type": "code",
      "metadata": {
        "id": "WK6L00Tdz0wm",
        "colab_type": "code",
        "outputId": "5d54777c-79f6-4d21-addc-4230e1fd54af",
        "colab": {
          "base_uri": "https://localhost:8080/",
          "height": 1000
        }
      },
      "source": [
        "  dfs_paths(graph,'EFORIE','VASLUI')"
      ],
      "execution_count": 0,
      "outputs": [
        {
          "output_type": "stream",
          "text": [
            "Nodo inicial:  EFORIE\n",
            "Nodo objetivo:  VASLUI\n",
            "\n",
            "\n",
            "Ruta en la cola:  ['EFORIE'] Último nodo en la ruta:  EFORIE\n",
            "Ruta en la cola:  ['EFORIE', 'HIRSOVA'] Último nodo en la ruta:  HIRSOVA\n",
            "Ruta en la cola:  ['EFORIE', 'HIRSOVA', 'URZICENI'] Último nodo en la ruta:  URZICENI\n",
            "Camino Escogido:  ['EFORIE', 'HIRSOVA', 'URZICENI', 'VASLUI']  - Objetivo Encontrado:  VASLUI\n",
            "------------------------------------------------------------------------------------------------------------------------\n",
            "Ruta en la cola:  ['EFORIE', 'HIRSOVA', 'URZICENI', 'BUCHAREST'] Último nodo en la ruta:  BUCHAREST\n",
            "Ruta en la cola:  ['EFORIE', 'HIRSOVA', 'URZICENI', 'BUCHAREST', 'PITESTI'] Último nodo en la ruta:  PITESTI\n",
            "Ruta en la cola:  ['EFORIE', 'HIRSOVA', 'URZICENI', 'BUCHAREST', 'PITESTI', 'CRAIOVA'] Último nodo en la ruta:  CRAIOVA\n",
            "Ruta en la cola:  ['EFORIE', 'HIRSOVA', 'URZICENI', 'BUCHAREST', 'PITESTI', 'CRAIOVA', 'RIMNICU VILCEA'] Último nodo en la ruta:  RIMNICU VILCEA\n",
            "Ruta en la cola:  ['EFORIE', 'HIRSOVA', 'URZICENI', 'BUCHAREST', 'PITESTI', 'CRAIOVA', 'RIMNICU VILCEA', 'SIBIU'] Último nodo en la ruta:  SIBIU\n",
            "Ruta en la cola:  ['EFORIE', 'HIRSOVA', 'URZICENI', 'BUCHAREST', 'PITESTI', 'CRAIOVA', 'RIMNICU VILCEA', 'SIBIU', 'FAGARAS'] Último nodo en la ruta:  FAGARAS\n",
            "Ruta en la cola:  ['EFORIE', 'HIRSOVA', 'URZICENI', 'BUCHAREST', 'PITESTI', 'CRAIOVA', 'RIMNICU VILCEA', 'SIBIU', 'ARAD'] Último nodo en la ruta:  ARAD\n",
            "Ruta en la cola:  ['EFORIE', 'HIRSOVA', 'URZICENI', 'BUCHAREST', 'PITESTI', 'CRAIOVA', 'RIMNICU VILCEA', 'SIBIU', 'ARAD', 'TIMISOARA'] Último nodo en la ruta:  TIMISOARA\n",
            "Ruta en la cola:  ['EFORIE', 'HIRSOVA', 'URZICENI', 'BUCHAREST', 'PITESTI', 'CRAIOVA', 'RIMNICU VILCEA', 'SIBIU', 'ARAD', 'TIMISOARA', 'LUGOJ'] Último nodo en la ruta:  LUGOJ\n",
            "Ruta en la cola:  ['EFORIE', 'HIRSOVA', 'URZICENI', 'BUCHAREST', 'PITESTI', 'CRAIOVA', 'RIMNICU VILCEA', 'SIBIU', 'ARAD', 'TIMISOARA', 'LUGOJ', 'MEHADIA'] Último nodo en la ruta:  MEHADIA\n",
            "Ruta en la cola:  ['EFORIE', 'HIRSOVA', 'URZICENI', 'BUCHAREST', 'PITESTI', 'CRAIOVA', 'RIMNICU VILCEA', 'SIBIU', 'ARAD', 'TIMISOARA', 'LUGOJ', 'MEHADIA', 'DOBRETA'] Último nodo en la ruta:  DOBRETA\n",
            "Ruta en la cola:  ['EFORIE', 'HIRSOVA', 'URZICENI', 'BUCHAREST', 'PITESTI', 'CRAIOVA', 'RIMNICU VILCEA', 'SIBIU', 'ARAD', 'ZERIND'] Último nodo en la ruta:  ZERIND\n",
            "Ruta en la cola:  ['EFORIE', 'HIRSOVA', 'URZICENI', 'BUCHAREST', 'PITESTI', 'CRAIOVA', 'RIMNICU VILCEA', 'SIBIU', 'ARAD', 'ZERIND', 'ORADEA'] Último nodo en la ruta:  ORADEA\n",
            "Ruta en la cola:  ['EFORIE', 'HIRSOVA', 'URZICENI', 'BUCHAREST', 'PITESTI', 'CRAIOVA', 'RIMNICU VILCEA', 'SIBIU', 'ORADEA'] Último nodo en la ruta:  ORADEA\n",
            "Ruta en la cola:  ['EFORIE', 'HIRSOVA', 'URZICENI', 'BUCHAREST', 'PITESTI', 'CRAIOVA', 'RIMNICU VILCEA', 'SIBIU', 'ORADEA', 'ZERIND'] Último nodo en la ruta:  ZERIND\n",
            "Ruta en la cola:  ['EFORIE', 'HIRSOVA', 'URZICENI', 'BUCHAREST', 'PITESTI', 'CRAIOVA', 'RIMNICU VILCEA', 'SIBIU', 'ORADEA', 'ZERIND', 'ARAD'] Último nodo en la ruta:  ARAD\n",
            "Ruta en la cola:  ['EFORIE', 'HIRSOVA', 'URZICENI', 'BUCHAREST', 'PITESTI', 'CRAIOVA', 'RIMNICU VILCEA', 'SIBIU', 'ORADEA', 'ZERIND', 'ARAD', 'TIMISOARA'] Último nodo en la ruta:  TIMISOARA\n",
            "Ruta en la cola:  ['EFORIE', 'HIRSOVA', 'URZICENI', 'BUCHAREST', 'PITESTI', 'CRAIOVA', 'RIMNICU VILCEA', 'SIBIU', 'ORADEA', 'ZERIND', 'ARAD', 'TIMISOARA', 'LUGOJ'] Último nodo en la ruta:  LUGOJ\n",
            "Ruta en la cola:  ['EFORIE', 'HIRSOVA', 'URZICENI', 'BUCHAREST', 'PITESTI', 'CRAIOVA', 'RIMNICU VILCEA', 'SIBIU', 'ORADEA', 'ZERIND', 'ARAD', 'TIMISOARA', 'LUGOJ', 'MEHADIA'] Último nodo en la ruta:  MEHADIA\n",
            "Ruta en la cola:  ['EFORIE', 'HIRSOVA', 'URZICENI', 'BUCHAREST', 'PITESTI', 'CRAIOVA', 'RIMNICU VILCEA', 'SIBIU', 'ORADEA', 'ZERIND', 'ARAD', 'TIMISOARA', 'LUGOJ', 'MEHADIA', 'DOBRETA'] Último nodo en la ruta:  DOBRETA\n",
            "Ruta en la cola:  ['EFORIE', 'HIRSOVA', 'URZICENI', 'BUCHAREST', 'PITESTI', 'CRAIOVA', 'DOBRETA'] Último nodo en la ruta:  DOBRETA\n",
            "Ruta en la cola:  ['EFORIE', 'HIRSOVA', 'URZICENI', 'BUCHAREST', 'PITESTI', 'CRAIOVA', 'DOBRETA', 'MEHADIA'] Último nodo en la ruta:  MEHADIA\n",
            "Ruta en la cola:  ['EFORIE', 'HIRSOVA', 'URZICENI', 'BUCHAREST', 'PITESTI', 'CRAIOVA', 'DOBRETA', 'MEHADIA', 'LUGOJ'] Último nodo en la ruta:  LUGOJ\n",
            "Ruta en la cola:  ['EFORIE', 'HIRSOVA', 'URZICENI', 'BUCHAREST', 'PITESTI', 'CRAIOVA', 'DOBRETA', 'MEHADIA', 'LUGOJ', 'TIMISOARA'] Último nodo en la ruta:  TIMISOARA\n",
            "Ruta en la cola:  ['EFORIE', 'HIRSOVA', 'URZICENI', 'BUCHAREST', 'PITESTI', 'CRAIOVA', 'DOBRETA', 'MEHADIA', 'LUGOJ', 'TIMISOARA', 'ARAD'] Último nodo en la ruta:  ARAD\n",
            "Ruta en la cola:  ['EFORIE', 'HIRSOVA', 'URZICENI', 'BUCHAREST', 'PITESTI', 'CRAIOVA', 'DOBRETA', 'MEHADIA', 'LUGOJ', 'TIMISOARA', 'ARAD', 'SIBIU'] Último nodo en la ruta:  SIBIU\n",
            "Ruta en la cola:  ['EFORIE', 'HIRSOVA', 'URZICENI', 'BUCHAREST', 'PITESTI', 'CRAIOVA', 'DOBRETA', 'MEHADIA', 'LUGOJ', 'TIMISOARA', 'ARAD', 'SIBIU', 'RIMNICU VILCEA'] Último nodo en la ruta:  RIMNICU VILCEA\n",
            "Ruta en la cola:  ['EFORIE', 'HIRSOVA', 'URZICENI', 'BUCHAREST', 'PITESTI', 'CRAIOVA', 'DOBRETA', 'MEHADIA', 'LUGOJ', 'TIMISOARA', 'ARAD', 'SIBIU', 'FAGARAS'] Último nodo en la ruta:  FAGARAS\n",
            "Ruta en la cola:  ['EFORIE', 'HIRSOVA', 'URZICENI', 'BUCHAREST', 'PITESTI', 'CRAIOVA', 'DOBRETA', 'MEHADIA', 'LUGOJ', 'TIMISOARA', 'ARAD', 'SIBIU', 'ORADEA'] Último nodo en la ruta:  ORADEA\n",
            "Ruta en la cola:  ['EFORIE', 'HIRSOVA', 'URZICENI', 'BUCHAREST', 'PITESTI', 'CRAIOVA', 'DOBRETA', 'MEHADIA', 'LUGOJ', 'TIMISOARA', 'ARAD', 'SIBIU', 'ORADEA', 'ZERIND'] Último nodo en la ruta:  ZERIND\n",
            "Ruta en la cola:  ['EFORIE', 'HIRSOVA', 'URZICENI', 'BUCHAREST', 'PITESTI', 'CRAIOVA', 'DOBRETA', 'MEHADIA', 'LUGOJ', 'TIMISOARA', 'ARAD', 'ZERIND'] Último nodo en la ruta:  ZERIND\n",
            "Ruta en la cola:  ['EFORIE', 'HIRSOVA', 'URZICENI', 'BUCHAREST', 'PITESTI', 'CRAIOVA', 'DOBRETA', 'MEHADIA', 'LUGOJ', 'TIMISOARA', 'ARAD', 'ZERIND', 'ORADEA'] Último nodo en la ruta:  ORADEA\n",
            "Ruta en la cola:  ['EFORIE', 'HIRSOVA', 'URZICENI', 'BUCHAREST', 'PITESTI', 'CRAIOVA', 'DOBRETA', 'MEHADIA', 'LUGOJ', 'TIMISOARA', 'ARAD', 'ZERIND', 'ORADEA', 'SIBIU'] Último nodo en la ruta:  SIBIU\n",
            "Ruta en la cola:  ['EFORIE', 'HIRSOVA', 'URZICENI', 'BUCHAREST', 'PITESTI', 'CRAIOVA', 'DOBRETA', 'MEHADIA', 'LUGOJ', 'TIMISOARA', 'ARAD', 'ZERIND', 'ORADEA', 'SIBIU', 'RIMNICU VILCEA'] Último nodo en la ruta:  RIMNICU VILCEA\n",
            "Ruta en la cola:  ['EFORIE', 'HIRSOVA', 'URZICENI', 'BUCHAREST', 'PITESTI', 'CRAIOVA', 'DOBRETA', 'MEHADIA', 'LUGOJ', 'TIMISOARA', 'ARAD', 'ZERIND', 'ORADEA', 'SIBIU', 'FAGARAS'] Último nodo en la ruta:  FAGARAS\n",
            "Ruta en la cola:  ['EFORIE', 'HIRSOVA', 'URZICENI', 'BUCHAREST', 'PITESTI', 'RIMNICU VILCEA'] Último nodo en la ruta:  RIMNICU VILCEA\n",
            "Ruta en la cola:  ['EFORIE', 'HIRSOVA', 'URZICENI', 'BUCHAREST', 'PITESTI', 'RIMNICU VILCEA', 'CRAIOVA'] Último nodo en la ruta:  CRAIOVA\n",
            "Ruta en la cola:  ['EFORIE', 'HIRSOVA', 'URZICENI', 'BUCHAREST', 'PITESTI', 'RIMNICU VILCEA', 'CRAIOVA', 'DOBRETA'] Último nodo en la ruta:  DOBRETA\n",
            "Ruta en la cola:  ['EFORIE', 'HIRSOVA', 'URZICENI', 'BUCHAREST', 'PITESTI', 'RIMNICU VILCEA', 'CRAIOVA', 'DOBRETA', 'MEHADIA'] Último nodo en la ruta:  MEHADIA\n",
            "Ruta en la cola:  ['EFORIE', 'HIRSOVA', 'URZICENI', 'BUCHAREST', 'PITESTI', 'RIMNICU VILCEA', 'CRAIOVA', 'DOBRETA', 'MEHADIA', 'LUGOJ'] Último nodo en la ruta:  LUGOJ\n",
            "Ruta en la cola:  ['EFORIE', 'HIRSOVA', 'URZICENI', 'BUCHAREST', 'PITESTI', 'RIMNICU VILCEA', 'CRAIOVA', 'DOBRETA', 'MEHADIA', 'LUGOJ', 'TIMISOARA'] Último nodo en la ruta:  TIMISOARA\n",
            "Ruta en la cola:  ['EFORIE', 'HIRSOVA', 'URZICENI', 'BUCHAREST', 'PITESTI', 'RIMNICU VILCEA', 'CRAIOVA', 'DOBRETA', 'MEHADIA', 'LUGOJ', 'TIMISOARA', 'ARAD'] Último nodo en la ruta:  ARAD\n",
            "Ruta en la cola:  ['EFORIE', 'HIRSOVA', 'URZICENI', 'BUCHAREST', 'PITESTI', 'RIMNICU VILCEA', 'CRAIOVA', 'DOBRETA', 'MEHADIA', 'LUGOJ', 'TIMISOARA', 'ARAD', 'SIBIU'] Último nodo en la ruta:  SIBIU\n",
            "Ruta en la cola:  ['EFORIE', 'HIRSOVA', 'URZICENI', 'BUCHAREST', 'PITESTI', 'RIMNICU VILCEA', 'CRAIOVA', 'DOBRETA', 'MEHADIA', 'LUGOJ', 'TIMISOARA', 'ARAD', 'SIBIU', 'FAGARAS'] Último nodo en la ruta:  FAGARAS\n",
            "Ruta en la cola:  ['EFORIE', 'HIRSOVA', 'URZICENI', 'BUCHAREST', 'PITESTI', 'RIMNICU VILCEA', 'CRAIOVA', 'DOBRETA', 'MEHADIA', 'LUGOJ', 'TIMISOARA', 'ARAD', 'SIBIU', 'ORADEA'] Último nodo en la ruta:  ORADEA\n",
            "Ruta en la cola:  ['EFORIE', 'HIRSOVA', 'URZICENI', 'BUCHAREST', 'PITESTI', 'RIMNICU VILCEA', 'CRAIOVA', 'DOBRETA', 'MEHADIA', 'LUGOJ', 'TIMISOARA', 'ARAD', 'SIBIU', 'ORADEA', 'ZERIND'] Último nodo en la ruta:  ZERIND\n",
            "Ruta en la cola:  ['EFORIE', 'HIRSOVA', 'URZICENI', 'BUCHAREST', 'PITESTI', 'RIMNICU VILCEA', 'CRAIOVA', 'DOBRETA', 'MEHADIA', 'LUGOJ', 'TIMISOARA', 'ARAD', 'ZERIND'] Último nodo en la ruta:  ZERIND\n",
            "Ruta en la cola:  ['EFORIE', 'HIRSOVA', 'URZICENI', 'BUCHAREST', 'PITESTI', 'RIMNICU VILCEA', 'CRAIOVA', 'DOBRETA', 'MEHADIA', 'LUGOJ', 'TIMISOARA', 'ARAD', 'ZERIND', 'ORADEA'] Último nodo en la ruta:  ORADEA\n",
            "Ruta en la cola:  ['EFORIE', 'HIRSOVA', 'URZICENI', 'BUCHAREST', 'PITESTI', 'RIMNICU VILCEA', 'CRAIOVA', 'DOBRETA', 'MEHADIA', 'LUGOJ', 'TIMISOARA', 'ARAD', 'ZERIND', 'ORADEA', 'SIBIU'] Último nodo en la ruta:  SIBIU\n",
            "Ruta en la cola:  ['EFORIE', 'HIRSOVA', 'URZICENI', 'BUCHAREST', 'PITESTI', 'RIMNICU VILCEA', 'CRAIOVA', 'DOBRETA', 'MEHADIA', 'LUGOJ', 'TIMISOARA', 'ARAD', 'ZERIND', 'ORADEA', 'SIBIU', 'FAGARAS'] Último nodo en la ruta:  FAGARAS\n",
            "Ruta en la cola:  ['EFORIE', 'HIRSOVA', 'URZICENI', 'BUCHAREST', 'PITESTI', 'RIMNICU VILCEA', 'SIBIU'] Último nodo en la ruta:  SIBIU\n",
            "Ruta en la cola:  ['EFORIE', 'HIRSOVA', 'URZICENI', 'BUCHAREST', 'PITESTI', 'RIMNICU VILCEA', 'SIBIU', 'FAGARAS'] Último nodo en la ruta:  FAGARAS\n",
            "Ruta en la cola:  ['EFORIE', 'HIRSOVA', 'URZICENI', 'BUCHAREST', 'PITESTI', 'RIMNICU VILCEA', 'SIBIU', 'ARAD'] Último nodo en la ruta:  ARAD\n",
            "Ruta en la cola:  ['EFORIE', 'HIRSOVA', 'URZICENI', 'BUCHAREST', 'PITESTI', 'RIMNICU VILCEA', 'SIBIU', 'ARAD', 'TIMISOARA'] Último nodo en la ruta:  TIMISOARA\n",
            "Ruta en la cola:  ['EFORIE', 'HIRSOVA', 'URZICENI', 'BUCHAREST', 'PITESTI', 'RIMNICU VILCEA', 'SIBIU', 'ARAD', 'TIMISOARA', 'LUGOJ'] Último nodo en la ruta:  LUGOJ\n",
            "Ruta en la cola:  ['EFORIE', 'HIRSOVA', 'URZICENI', 'BUCHAREST', 'PITESTI', 'RIMNICU VILCEA', 'SIBIU', 'ARAD', 'TIMISOARA', 'LUGOJ', 'MEHADIA'] Último nodo en la ruta:  MEHADIA\n",
            "Ruta en la cola:  ['EFORIE', 'HIRSOVA', 'URZICENI', 'BUCHAREST', 'PITESTI', 'RIMNICU VILCEA', 'SIBIU', 'ARAD', 'TIMISOARA', 'LUGOJ', 'MEHADIA', 'DOBRETA'] Último nodo en la ruta:  DOBRETA\n",
            "Ruta en la cola:  ['EFORIE', 'HIRSOVA', 'URZICENI', 'BUCHAREST', 'PITESTI', 'RIMNICU VILCEA', 'SIBIU', 'ARAD', 'TIMISOARA', 'LUGOJ', 'MEHADIA', 'DOBRETA', 'CRAIOVA'] Último nodo en la ruta:  CRAIOVA\n",
            "Ruta en la cola:  ['EFORIE', 'HIRSOVA', 'URZICENI', 'BUCHAREST', 'PITESTI', 'RIMNICU VILCEA', 'SIBIU', 'ARAD', 'ZERIND'] Último nodo en la ruta:  ZERIND\n",
            "Ruta en la cola:  ['EFORIE', 'HIRSOVA', 'URZICENI', 'BUCHAREST', 'PITESTI', 'RIMNICU VILCEA', 'SIBIU', 'ARAD', 'ZERIND', 'ORADEA'] Último nodo en la ruta:  ORADEA\n",
            "Ruta en la cola:  ['EFORIE', 'HIRSOVA', 'URZICENI', 'BUCHAREST', 'PITESTI', 'RIMNICU VILCEA', 'SIBIU', 'ORADEA'] Último nodo en la ruta:  ORADEA\n",
            "Ruta en la cola:  ['EFORIE', 'HIRSOVA', 'URZICENI', 'BUCHAREST', 'PITESTI', 'RIMNICU VILCEA', 'SIBIU', 'ORADEA', 'ZERIND'] Último nodo en la ruta:  ZERIND\n",
            "Ruta en la cola:  ['EFORIE', 'HIRSOVA', 'URZICENI', 'BUCHAREST', 'PITESTI', 'RIMNICU VILCEA', 'SIBIU', 'ORADEA', 'ZERIND', 'ARAD'] Último nodo en la ruta:  ARAD\n",
            "Ruta en la cola:  ['EFORIE', 'HIRSOVA', 'URZICENI', 'BUCHAREST', 'PITESTI', 'RIMNICU VILCEA', 'SIBIU', 'ORADEA', 'ZERIND', 'ARAD', 'TIMISOARA'] Último nodo en la ruta:  TIMISOARA\n",
            "Ruta en la cola:  ['EFORIE', 'HIRSOVA', 'URZICENI', 'BUCHAREST', 'PITESTI', 'RIMNICU VILCEA', 'SIBIU', 'ORADEA', 'ZERIND', 'ARAD', 'TIMISOARA', 'LUGOJ'] Último nodo en la ruta:  LUGOJ\n",
            "Ruta en la cola:  ['EFORIE', 'HIRSOVA', 'URZICENI', 'BUCHAREST', 'PITESTI', 'RIMNICU VILCEA', 'SIBIU', 'ORADEA', 'ZERIND', 'ARAD', 'TIMISOARA', 'LUGOJ', 'MEHADIA'] Último nodo en la ruta:  MEHADIA\n",
            "Ruta en la cola:  ['EFORIE', 'HIRSOVA', 'URZICENI', 'BUCHAREST', 'PITESTI', 'RIMNICU VILCEA', 'SIBIU', 'ORADEA', 'ZERIND', 'ARAD', 'TIMISOARA', 'LUGOJ', 'MEHADIA', 'DOBRETA'] Último nodo en la ruta:  DOBRETA\n",
            "Ruta en la cola:  ['EFORIE', 'HIRSOVA', 'URZICENI', 'BUCHAREST', 'PITESTI', 'RIMNICU VILCEA', 'SIBIU', 'ORADEA', 'ZERIND', 'ARAD', 'TIMISOARA', 'LUGOJ', 'MEHADIA', 'DOBRETA', 'CRAIOVA'] Último nodo en la ruta:  CRAIOVA\n",
            "Ruta en la cola:  ['EFORIE', 'HIRSOVA', 'URZICENI', 'BUCHAREST', 'FAGARAS'] Último nodo en la ruta:  FAGARAS\n",
            "Ruta en la cola:  ['EFORIE', 'HIRSOVA', 'URZICENI', 'BUCHAREST', 'FAGARAS', 'SIBIU'] Último nodo en la ruta:  SIBIU\n",
            "Ruta en la cola:  ['EFORIE', 'HIRSOVA', 'URZICENI', 'BUCHAREST', 'FAGARAS', 'SIBIU', 'RIMNICU VILCEA'] Último nodo en la ruta:  RIMNICU VILCEA\n",
            "Ruta en la cola:  ['EFORIE', 'HIRSOVA', 'URZICENI', 'BUCHAREST', 'FAGARAS', 'SIBIU', 'RIMNICU VILCEA', 'PITESTI'] Último nodo en la ruta:  PITESTI\n",
            "Ruta en la cola:  ['EFORIE', 'HIRSOVA', 'URZICENI', 'BUCHAREST', 'FAGARAS', 'SIBIU', 'RIMNICU VILCEA', 'PITESTI', 'CRAIOVA'] Último nodo en la ruta:  CRAIOVA\n",
            "Ruta en la cola:  ['EFORIE', 'HIRSOVA', 'URZICENI', 'BUCHAREST', 'FAGARAS', 'SIBIU', 'RIMNICU VILCEA', 'PITESTI', 'CRAIOVA', 'DOBRETA'] Último nodo en la ruta:  DOBRETA\n",
            "Ruta en la cola:  ['EFORIE', 'HIRSOVA', 'URZICENI', 'BUCHAREST', 'FAGARAS', 'SIBIU', 'RIMNICU VILCEA', 'PITESTI', 'CRAIOVA', 'DOBRETA', 'MEHADIA'] Último nodo en la ruta:  MEHADIA\n",
            "Ruta en la cola:  ['EFORIE', 'HIRSOVA', 'URZICENI', 'BUCHAREST', 'FAGARAS', 'SIBIU', 'RIMNICU VILCEA', 'PITESTI', 'CRAIOVA', 'DOBRETA', 'MEHADIA', 'LUGOJ'] Último nodo en la ruta:  LUGOJ\n",
            "Ruta en la cola:  ['EFORIE', 'HIRSOVA', 'URZICENI', 'BUCHAREST', 'FAGARAS', 'SIBIU', 'RIMNICU VILCEA', 'PITESTI', 'CRAIOVA', 'DOBRETA', 'MEHADIA', 'LUGOJ', 'TIMISOARA'] Último nodo en la ruta:  TIMISOARA\n",
            "Ruta en la cola:  ['EFORIE', 'HIRSOVA', 'URZICENI', 'BUCHAREST', 'FAGARAS', 'SIBIU', 'RIMNICU VILCEA', 'PITESTI', 'CRAIOVA', 'DOBRETA', 'MEHADIA', 'LUGOJ', 'TIMISOARA', 'ARAD'] Último nodo en la ruta:  ARAD\n",
            "Ruta en la cola:  ['EFORIE', 'HIRSOVA', 'URZICENI', 'BUCHAREST', 'FAGARAS', 'SIBIU', 'RIMNICU VILCEA', 'PITESTI', 'CRAIOVA', 'DOBRETA', 'MEHADIA', 'LUGOJ', 'TIMISOARA', 'ARAD', 'ZERIND'] Último nodo en la ruta:  ZERIND\n",
            "Ruta en la cola:  ['EFORIE', 'HIRSOVA', 'URZICENI', 'BUCHAREST', 'FAGARAS', 'SIBIU', 'RIMNICU VILCEA', 'PITESTI', 'CRAIOVA', 'DOBRETA', 'MEHADIA', 'LUGOJ', 'TIMISOARA', 'ARAD', 'ZERIND', 'ORADEA'] Último nodo en la ruta:  ORADEA\n",
            "Ruta en la cola:  ['EFORIE', 'HIRSOVA', 'URZICENI', 'BUCHAREST', 'FAGARAS', 'SIBIU', 'RIMNICU VILCEA', 'CRAIOVA'] Último nodo en la ruta:  CRAIOVA\n",
            "Ruta en la cola:  ['EFORIE', 'HIRSOVA', 'URZICENI', 'BUCHAREST', 'FAGARAS', 'SIBIU', 'RIMNICU VILCEA', 'CRAIOVA', 'PITESTI'] Último nodo en la ruta:  PITESTI\n",
            "Ruta en la cola:  ['EFORIE', 'HIRSOVA', 'URZICENI', 'BUCHAREST', 'FAGARAS', 'SIBIU', 'RIMNICU VILCEA', 'CRAIOVA', 'DOBRETA'] Último nodo en la ruta:  DOBRETA\n",
            "Ruta en la cola:  ['EFORIE', 'HIRSOVA', 'URZICENI', 'BUCHAREST', 'FAGARAS', 'SIBIU', 'RIMNICU VILCEA', 'CRAIOVA', 'DOBRETA', 'MEHADIA'] Último nodo en la ruta:  MEHADIA\n",
            "Ruta en la cola:  ['EFORIE', 'HIRSOVA', 'URZICENI', 'BUCHAREST', 'FAGARAS', 'SIBIU', 'RIMNICU VILCEA', 'CRAIOVA', 'DOBRETA', 'MEHADIA', 'LUGOJ'] Último nodo en la ruta:  LUGOJ\n",
            "Ruta en la cola:  ['EFORIE', 'HIRSOVA', 'URZICENI', 'BUCHAREST', 'FAGARAS', 'SIBIU', 'RIMNICU VILCEA', 'CRAIOVA', 'DOBRETA', 'MEHADIA', 'LUGOJ', 'TIMISOARA'] Último nodo en la ruta:  TIMISOARA\n",
            "Ruta en la cola:  ['EFORIE', 'HIRSOVA', 'URZICENI', 'BUCHAREST', 'FAGARAS', 'SIBIU', 'RIMNICU VILCEA', 'CRAIOVA', 'DOBRETA', 'MEHADIA', 'LUGOJ', 'TIMISOARA', 'ARAD'] Último nodo en la ruta:  ARAD\n",
            "Ruta en la cola:  ['EFORIE', 'HIRSOVA', 'URZICENI', 'BUCHAREST', 'FAGARAS', 'SIBIU', 'RIMNICU VILCEA', 'CRAIOVA', 'DOBRETA', 'MEHADIA', 'LUGOJ', 'TIMISOARA', 'ARAD', 'ZERIND'] Último nodo en la ruta:  ZERIND\n",
            "Ruta en la cola:  ['EFORIE', 'HIRSOVA', 'URZICENI', 'BUCHAREST', 'FAGARAS', 'SIBIU', 'RIMNICU VILCEA', 'CRAIOVA', 'DOBRETA', 'MEHADIA', 'LUGOJ', 'TIMISOARA', 'ARAD', 'ZERIND', 'ORADEA'] Último nodo en la ruta:  ORADEA\n",
            "Ruta en la cola:  ['EFORIE', 'HIRSOVA', 'URZICENI', 'BUCHAREST', 'FAGARAS', 'SIBIU', 'ARAD'] Último nodo en la ruta:  ARAD\n",
            "Ruta en la cola:  ['EFORIE', 'HIRSOVA', 'URZICENI', 'BUCHAREST', 'FAGARAS', 'SIBIU', 'ARAD', 'TIMISOARA'] Último nodo en la ruta:  TIMISOARA\n",
            "Ruta en la cola:  ['EFORIE', 'HIRSOVA', 'URZICENI', 'BUCHAREST', 'FAGARAS', 'SIBIU', 'ARAD', 'TIMISOARA', 'LUGOJ'] Último nodo en la ruta:  LUGOJ\n",
            "Ruta en la cola:  ['EFORIE', 'HIRSOVA', 'URZICENI', 'BUCHAREST', 'FAGARAS', 'SIBIU', 'ARAD', 'TIMISOARA', 'LUGOJ', 'MEHADIA'] Último nodo en la ruta:  MEHADIA\n",
            "Ruta en la cola:  ['EFORIE', 'HIRSOVA', 'URZICENI', 'BUCHAREST', 'FAGARAS', 'SIBIU', 'ARAD', 'TIMISOARA', 'LUGOJ', 'MEHADIA', 'DOBRETA'] Último nodo en la ruta:  DOBRETA\n",
            "Ruta en la cola:  ['EFORIE', 'HIRSOVA', 'URZICENI', 'BUCHAREST', 'FAGARAS', 'SIBIU', 'ARAD', 'TIMISOARA', 'LUGOJ', 'MEHADIA', 'DOBRETA', 'CRAIOVA'] Último nodo en la ruta:  CRAIOVA\n",
            "Ruta en la cola:  ['EFORIE', 'HIRSOVA', 'URZICENI', 'BUCHAREST', 'FAGARAS', 'SIBIU', 'ARAD', 'TIMISOARA', 'LUGOJ', 'MEHADIA', 'DOBRETA', 'CRAIOVA', 'PITESTI'] Último nodo en la ruta:  PITESTI\n",
            "Ruta en la cola:  ['EFORIE', 'HIRSOVA', 'URZICENI', 'BUCHAREST', 'FAGARAS', 'SIBIU', 'ARAD', 'TIMISOARA', 'LUGOJ', 'MEHADIA', 'DOBRETA', 'CRAIOVA', 'PITESTI', 'RIMNICU VILCEA'] Último nodo en la ruta:  RIMNICU VILCEA\n",
            "Ruta en la cola:  ['EFORIE', 'HIRSOVA', 'URZICENI', 'BUCHAREST', 'FAGARAS', 'SIBIU', 'ARAD', 'TIMISOARA', 'LUGOJ', 'MEHADIA', 'DOBRETA', 'CRAIOVA', 'RIMNICU VILCEA'] Último nodo en la ruta:  RIMNICU VILCEA\n",
            "Ruta en la cola:  ['EFORIE', 'HIRSOVA', 'URZICENI', 'BUCHAREST', 'FAGARAS', 'SIBIU', 'ARAD', 'TIMISOARA', 'LUGOJ', 'MEHADIA', 'DOBRETA', 'CRAIOVA', 'RIMNICU VILCEA', 'PITESTI'] Último nodo en la ruta:  PITESTI\n",
            "Ruta en la cola:  ['EFORIE', 'HIRSOVA', 'URZICENI', 'BUCHAREST', 'FAGARAS', 'SIBIU', 'ARAD', 'ZERIND'] Último nodo en la ruta:  ZERIND\n",
            "Ruta en la cola:  ['EFORIE', 'HIRSOVA', 'URZICENI', 'BUCHAREST', 'FAGARAS', 'SIBIU', 'ARAD', 'ZERIND', 'ORADEA'] Último nodo en la ruta:  ORADEA\n",
            "Ruta en la cola:  ['EFORIE', 'HIRSOVA', 'URZICENI', 'BUCHAREST', 'FAGARAS', 'SIBIU', 'ORADEA'] Último nodo en la ruta:  ORADEA\n",
            "Ruta en la cola:  ['EFORIE', 'HIRSOVA', 'URZICENI', 'BUCHAREST', 'FAGARAS', 'SIBIU', 'ORADEA', 'ZERIND'] Último nodo en la ruta:  ZERIND\n",
            "Ruta en la cola:  ['EFORIE', 'HIRSOVA', 'URZICENI', 'BUCHAREST', 'FAGARAS', 'SIBIU', 'ORADEA', 'ZERIND', 'ARAD'] Último nodo en la ruta:  ARAD\n",
            "Ruta en la cola:  ['EFORIE', 'HIRSOVA', 'URZICENI', 'BUCHAREST', 'FAGARAS', 'SIBIU', 'ORADEA', 'ZERIND', 'ARAD', 'TIMISOARA'] Último nodo en la ruta:  TIMISOARA\n",
            "Ruta en la cola:  ['EFORIE', 'HIRSOVA', 'URZICENI', 'BUCHAREST', 'FAGARAS', 'SIBIU', 'ORADEA', 'ZERIND', 'ARAD', 'TIMISOARA', 'LUGOJ'] Último nodo en la ruta:  LUGOJ\n",
            "Ruta en la cola:  ['EFORIE', 'HIRSOVA', 'URZICENI', 'BUCHAREST', 'FAGARAS', 'SIBIU', 'ORADEA', 'ZERIND', 'ARAD', 'TIMISOARA', 'LUGOJ', 'MEHADIA'] Último nodo en la ruta:  MEHADIA\n",
            "Ruta en la cola:  ['EFORIE', 'HIRSOVA', 'URZICENI', 'BUCHAREST', 'FAGARAS', 'SIBIU', 'ORADEA', 'ZERIND', 'ARAD', 'TIMISOARA', 'LUGOJ', 'MEHADIA', 'DOBRETA'] Último nodo en la ruta:  DOBRETA\n",
            "Ruta en la cola:  ['EFORIE', 'HIRSOVA', 'URZICENI', 'BUCHAREST', 'FAGARAS', 'SIBIU', 'ORADEA', 'ZERIND', 'ARAD', 'TIMISOARA', 'LUGOJ', 'MEHADIA', 'DOBRETA', 'CRAIOVA'] Último nodo en la ruta:  CRAIOVA\n",
            "Ruta en la cola:  ['EFORIE', 'HIRSOVA', 'URZICENI', 'BUCHAREST', 'FAGARAS', 'SIBIU', 'ORADEA', 'ZERIND', 'ARAD', 'TIMISOARA', 'LUGOJ', 'MEHADIA', 'DOBRETA', 'CRAIOVA', 'PITESTI'] Último nodo en la ruta:  PITESTI\n",
            "Ruta en la cola:  ['EFORIE', 'HIRSOVA', 'URZICENI', 'BUCHAREST', 'FAGARAS', 'SIBIU', 'ORADEA', 'ZERIND', 'ARAD', 'TIMISOARA', 'LUGOJ', 'MEHADIA', 'DOBRETA', 'CRAIOVA', 'PITESTI', 'RIMNICU VILCEA'] Último nodo en la ruta:  RIMNICU VILCEA\n",
            "Ruta en la cola:  ['EFORIE', 'HIRSOVA', 'URZICENI', 'BUCHAREST', 'FAGARAS', 'SIBIU', 'ORADEA', 'ZERIND', 'ARAD', 'TIMISOARA', 'LUGOJ', 'MEHADIA', 'DOBRETA', 'CRAIOVA', 'RIMNICU VILCEA'] Último nodo en la ruta:  RIMNICU VILCEA\n",
            "Ruta en la cola:  ['EFORIE', 'HIRSOVA', 'URZICENI', 'BUCHAREST', 'FAGARAS', 'SIBIU', 'ORADEA', 'ZERIND', 'ARAD', 'TIMISOARA', 'LUGOJ', 'MEHADIA', 'DOBRETA', 'CRAIOVA', 'RIMNICU VILCEA', 'PITESTI'] Último nodo en la ruta:  PITESTI\n",
            "Ruta en la cola:  ['EFORIE', 'HIRSOVA', 'URZICENI', 'BUCHAREST', 'GIURGIU'] Último nodo en la ruta:  GIURGIU\n"
          ],
          "name": "stdout"
        }
      ]
    },
    {
      "cell_type": "markdown",
      "metadata": {
        "id": "_GBEDOzrHJYv",
        "colab_type": "text"
      },
      "source": [
        "# **ALGORITMO DE BUSQUEDA A***"
      ]
    },
    {
      "cell_type": "markdown",
      "metadata": {
        "id": "7NW0aEuZEl6b",
        "colab_type": "text"
      },
      "source": [
        "Primero se realizará la representación de un problema de búsqueda, la cual un problema de búsqueda consiste en: \n",
        " \tun nodo de inicio (start):\n",
        "  \n",
        "*   una función de vecinos (neighbors) que da los vecinos (neighbors) de un nodo\n",
        "*   una especificación de un objetivo\n",
        "*   una función heurística (opcional).\n",
        "\n",
        "Los métodos deben ser sobrescritos para definir un problema de búsqueda:"
      ]
    },
    {
      "cell_type": "code",
      "metadata": {
        "id": "OYeW5fATi-VR",
        "colab_type": "code",
        "colab": {}
      },
      "source": [
        "class Search_problem(object):\n",
        "    \"\"\"Un problema de búsqueda consiste de:\n",
        "    * un nodo de inicio (start)\n",
        "    * una funcioón de vecinos (neighbors) que da los vecinos (neighbors) de un nodo\n",
        "    * una especificación de un objetivo\n",
        "    * una función heurística (opcional).\n",
        "    Los métodos deben ser sobrescritos para definir un problema de búsqueda.\"\"\"\n",
        "\n",
        "    def start_node(self):\n",
        "        \"\"\"retorna el node inicial (start)\"\"\"\n",
        "        raise NotImplementedError(\"start_node\")   # abstract method\n",
        "    \n",
        "    def is_goal(self,node):\n",
        "        \"\"\"es True si nodo es un objetivo\"\"\"\n",
        "        raise NotImplementedError(\"is_goal\")   # abstract method\n",
        "\n",
        "    def neighbors(self,node):\n",
        "        \"\"\"retorna una lista de los  arcos para los vecinos (neighbors) de un nodo\"\"\"\n",
        "        raise NotImplementedError(\"neighbors\")   # abstract method\n",
        "\n",
        "    def heuristic(self,n):\n",
        "        \"\"\"Da el valor heuristico del nodo n.\n",
        "        Retorna 0 si no se sobrescribe.\"\"\"\n",
        "        return 0\n"
      ],
      "execution_count": 0,
      "outputs": []
    },
    {
      "cell_type": "markdown",
      "metadata": {
        "id": "To68DFZgHYiH",
        "colab_type": "text"
      },
      "source": [
        "Luego tenemos un arco que tiene un nodo from_node y un nodo to_node y un costo (no negativo):"
      ]
    },
    {
      "cell_type": "code",
      "metadata": {
        "id": "fsFoBFpfjIvi",
        "colab_type": "code",
        "colab": {}
      },
      "source": [
        "class Arc(object):\n",
        "    \"\"\"Un arco tiene un nodo from_node y un nodo to_node y un costo (no-negativo)\"\"\"\n",
        "    def __init__(self, from_node, to_node, cost=1, action=None):\n",
        "        assert cost >= 0, (\"Costo no puede ser negativo para\"+\n",
        "                           str(from_node)+\"->\"+str(to_node)+\", cost: \"+str(cost))\n",
        "        self.from_node = from_node\n",
        "        self.to_node = to_node\n",
        "        self.action = action\n",
        "        self.cost=cost\n",
        "\n",
        "    def __repr__(self):\n",
        "        \"\"\"Retorna un  string de la representación de un arco\"\"\"\n",
        "        if self.action:\n",
        "            return str(self.from_node)+\" --\"+str(self.action)+\"--> \"+str(self.to_node)\n",
        "        else:\n",
        "            return str(self.from_node)+\" --> \"+str(self.to_node)\n",
        "            \n"
      ],
      "execution_count": 0,
      "outputs": []
    },
    {
      "cell_type": "markdown",
      "metadata": {
        "id": "e1_1NFFsHi_G",
        "colab_type": "text"
      },
      "source": [
        "En la clase de representación explicita del grafo de búsqueda un problema de búsqueda consiste de:\n",
        "*  una lista o set de nodos: nodes\n",
        "*\tuna lista o set de arcos: arcs\n",
        "*\tun nodo inicial (start):  start=None\n",
        "*\tuna lista o set de nodos objetivos: goals=set()\n",
        "* un diccionario que mapea cada nodo en su valor heurístico: hmap={}\n",
        "\n",
        "Se define un problema de búsqueda, necesitamos definir el nodo de inicio, el predicado objetivo, la función de los vecinos y la función heurística. Lo siguiente se usa para la implementación de búsqueda (DFS) primero en profundidad a continuación "
      ]
    },
    {
      "cell_type": "code",
      "metadata": {
        "id": "quLaNSRGi1RL",
        "colab_type": "code",
        "colab": {}
      },
      "source": [
        "class Search_problem_from_explicit_graph(Search_problem):\n",
        "    \"\"\"Un problema de búsqueda consiste de:\n",
        "    * una lista o set de nodos: nodes\n",
        "    * una lista o set de arcos: arcs\n",
        "    * un nodo inicial (start):  start=None\n",
        "    * una lista o set de nodos objetivos: goals=set()\n",
        "    * un diccionario que mapea cada nodo en su valor heurístico: hmap={}\n",
        "    \"\"\"\n",
        "  \n",
        "\n",
        "    def __init__(self, nodes, arcs, start=None, goals=set(), hmap={}):\n",
        "        self.neighs = {}\n",
        "        self.nodes = nodes\n",
        "               \n",
        "\n",
        "        for node in nodes:\n",
        "            self.neighs[node]=[]\n",
        "        self.arcs = arcs\n",
        "        for arc in arcs:\n",
        "            self.neighs[arc.from_node].append(arc)\n",
        "        self.start = start\n",
        "        self.goals = goals\n",
        "        self.hmap = hmap\n",
        "\n",
        "    def start_node(self):\n",
        "        \"\"\"retorna el nodo inicial (start)\"\"\"\n",
        "        return self.start\n",
        "    \n",
        "    def is_goal(self,node):\n",
        "        \"\"\"es True so nodo es un objetivo (goal)\"\"\"\n",
        "        return node in self.goals\n",
        "\n",
        "    def neighbors(self,node):\n",
        "        \"\"\"retorna los vecinos (neighbors) de un nodo\"\"\"\n",
        "        return self.neighs[node]\n",
        "\n",
        "    def heuristic(self,node):\n",
        "        \"\"\"Dado el valor heurístico de un nodo n.\n",
        "        Retorna 0 si no sobrescribir en el hmap.\"\"\"\n",
        "        if node in self.hmap:\n",
        "            return self.hmap[node]\n",
        "        else:\n",
        "            return 0\n",
        "        \n",
        "    def __repr__(self):\n",
        "        \"\"\"retorna un string de la representación del problema de búsqueda\"\"\"\n",
        "        res=\"\"\n",
        "        for arc in self.arcs:\n",
        "            res += str(arc)+\".  \"\n",
        "        return res\n",
        "\n",
        "    def neighbor_nodes(self,node):\n",
        "        \"\"\"retorna un iterador sobre los vecinos (neighbors) de un nodo\"\"\"\n",
        "        return (path.to_node for path in self.neighs[node])\n",
        "\n"
      ],
      "execution_count": 0,
      "outputs": []
    },
    {
      "cell_type": "markdown",
      "metadata": {
        "id": "0DNYmHIwICcW",
        "colab_type": "text"
      },
      "source": [
        "La cual un buscador devolvera una ruta desde el nodo de inicio a un nodo objetivo. Se utiliza una representacion alternativa en terminos de una estructura de datos recursiva que puede compartir subpartes. Un camino es:\n",
        "* un nodo (que representa una ruta de longitud 0) o\n",
        "*\tuna ruta, inicial y un arco, donde el nodo desde el arco es el nodo en el final de la inicial.\n",
        "\n",
        "Estos casos se distinguen en el siguiente código al tener arc = None si la ruta tiene una longitud de 0, en cuyo caso el nodo inicial (start) es el nodo de la ruta. \n"
      ]
    },
    {
      "cell_type": "code",
      "metadata": {
        "id": "QHXn2kwjuO8b",
        "colab_type": "code",
        "colab": {}
      },
      "source": [
        "class Path(object):\n",
        "    \"\"\"Una ruta (path) es ya sea un nodo o una trayectoria seguida por un arco\"\"\"\n",
        "    \n",
        "    def __init__(self,initial,arc=None):\n",
        "        \"\"\"inicial es un nodo (en cuyo caso el arco es None) o\n",
        "        una ruta (path) (en cuyo caso arco es un objeto de tipo arco)\"\"\"\n",
        "        self.initial = initial\n",
        "        self.arc=arc\n",
        "        if arc is None:\n",
        "            self.cost=0\n",
        "        else:\n",
        "            self.cost = initial.cost + arc.cost\n",
        "\n",
        "    def end(self):\n",
        "        \"\"\"retorna el nodo en el fin de la ruta (path)\"\"\"\n",
        "        if self.arc is None:\n",
        "            return self.initial\n",
        "        else:\n",
        "            return self.arc.to_node\n",
        "\n",
        "    def nodes(self):\n",
        "        \"\"\"enumera los nodos para la ruta.\n",
        "        Esto comienza al final y enumera los nodos en la ruta hacia atrás.\"\"\"\n",
        "        current = self\n",
        "        while current.arc is not None:\n",
        "            yield current.arc.to_node\n",
        "            current = current.initial\n",
        "        yield current.initial\n",
        "\n",
        "    def initial_nodes(self):\n",
        "        \"\"\"enumera los nodos para la ruta antes del nodo final.\n",
        "        Esto comienza al final y enumera los nodos en la ruta hacia atrás.\"\"\"\n",
        "        if self.arc is not None:\n",
        "            for nd in self.initial.nodes(): yield nd     # could be \"yield from\"\n",
        "        \n",
        "    def __repr__(self):\n",
        "        \"\"\"retorna un string de representación de una ruta (path)\"\"\"\n",
        "        if self.arc is None:\n",
        "            return str(self.initial)\n",
        "        elif self.arc.action:\n",
        "            return (str(self.initial)+\"\\n   --\"+str(self.arc.action)\n",
        "                    +\"--> \"+str(self.arc.to_node))\n",
        "        else:\n",
        "            return str(self.initial)+\" --> \"+str(self.arc.to_node)\n",
        "\n"
      ],
      "execution_count": 0,
      "outputs": []
    },
    {
      "cell_type": "markdown",
      "metadata": {
        "id": "eDwf4ZHJlViF",
        "colab_type": "text"
      },
      "source": [
        "Se construye un objeto Searcher para el problema y luego pedir repetidamente la siguiente ruta utilizando la búsqueda. Si no hay más caminos, se devuelve None"
      ]
    },
    {
      "cell_type": "code",
      "metadata": {
        "id": "_9spWan7tj06",
        "colab_type": "code",
        "colab": {}
      },
      "source": [
        "class Displayable(object):\n",
        "    \"\"\"Class that uses 'display'.\n",
        "    The amount of detail is controlled by max_display_level\n",
        "    \"\"\"\n",
        "    max_display_level = 1   # can be overridden in subclasses\n",
        "\n",
        "    def display(self,level, *args, **nargs):\n",
        "        \"\"\"print the arguments if level is less than or equal to the\n",
        "        current max_display_level.\n",
        "        level is an integer.\n",
        "        the other arguments are whatever arguments print can take.\n",
        "        \"\"\"\n",
        "        if level <= self.max_display_level:\n",
        "            print(*args, **nargs)  ##if error you are using Python2 not Python3\n",
        "def visualize(func):\n",
        "    \"\"\"A decorator for algorithms that do interactive visualization.\n",
        "    Ignored here.\n",
        "    \"\"\"\n",
        "    return func"
      ],
      "execution_count": 0,
      "outputs": []
    },
    {
      "cell_type": "code",
      "metadata": {
        "id": "YHA-6KHetvyk",
        "colab_type": "code",
        "colab": {}
      },
      "source": [
        "class Searcher(Displayable):\n",
        "    \"\"\"retorna un buscador (searcher) para un problema.\n",
        "    Las Rutas (Paths) pueden ser encontradas por llamadas repetidas a search().\n",
        "    Esto hace primero la búsqueda de profundidad a menos que se anule\n",
        "    \"\"\"\n",
        "    def __init__(self, problem):\n",
        "        \"\"\"crea un buscador (searcher) desde un problema\n",
        "        \"\"\"\n",
        "        self.problem = problem\n",
        "        self.initialize_frontier()\n",
        "        self.num_expanded = 0\n",
        "        self.add_to_frontier(Path(problem.start_node()))\n",
        "        super().__init__()\n",
        "\n",
        "    def initialize_frontier(self):\n",
        "        self.frontier = []\n",
        "        \n",
        "    def empty_frontier(self):\n",
        "        return self.frontier == []\n",
        "        \n",
        "    def add_to_frontier(self,path):\n",
        "        self.frontier.append(path)\n",
        "        \n",
        "    @visualize\n",
        "    def search(self):\n",
        "        \"\"\"retorna (next) path - (siguiente) ruta - desde el nodo inicial (start) de un problema\n",
        "        a un nodo objetivo (goal). \n",
        "        Retorna None si no existe ruta (path).\n",
        "        \"\"\"\n",
        "        while not self.empty_frontier():\n",
        "          \n",
        "            path = self.frontier.pop()\n",
        "            \n",
        "            self.display(2, \"Expandiendo:\",path,\"(costo:\",path.cost,\")\")\n",
        "            self.num_expanded += 1\n",
        "            \n",
        "            if self.problem.is_goal(path.end()):    # solución encontrada\n",
        "                self.display(1, self.num_expanded, \"caminos se han ampliado y\",\n",
        "                            len(self.frontier), \"rutas (paths) permanecen en la frontera\")\n",
        "                self.solution = path   # almacena la solución encontrada\n",
        "                return path\n",
        "            else:\n",
        "                neighs = self.problem.neighbors(path.end())\n",
        "                self.display(3,\"Los vecinos (Neighbors) son\", neighs)\n",
        "                \n",
        "                for arc in reversed(neighs):\n",
        "                    self.add_to_frontier(Path(path,arc))\n",
        "                self.display(3,\"Frontera:\",self.frontier)\n",
        "                \n",
        "        self.display(1,\"No (más) soluciones. Total de\",\n",
        "                     self.num_expanded,\"rutas (paths) expandidas.\")\n"
      ],
      "execution_count": 0,
      "outputs": []
    },
    {
      "cell_type": "markdown",
      "metadata": {
        "id": "UPcS-O1ml-1T",
        "colab_type": "text"
      },
      "source": [
        "En la clase frontera consiste de una cola (queue) de prioridas (priority) (heap), fronterapq, de triples (value, index, path), dónde:\n",
        "* \tvalue es el valor que queremos minimizar (e.g., costo de path + h).\n",
        "*  index es un índice único para cada elemento\n",
        "* path es la ruta en la cola (queue)\n",
        "\n",
        "Tenga en cuenta que la cola de prioridad siempre devuelve el elemento más pequeño"
      ]
    },
    {
      "cell_type": "code",
      "metadata": {
        "id": "xuJCOaXHt4Ir",
        "colab_type": "code",
        "colab": {}
      },
      "source": [
        "import heapq        \n",
        "\n",
        "#from searchProblem import Path\n",
        "\n",
        "class FrontierPQ(object):\n",
        "    \"\"\"Una frontera consiste de una cola (queue) de prioridas (priority) (heap), fronterapq, de\n",
        "       triples (value, index, path), dónde\n",
        "    * value es el valor que queremos minimizar (e.g., costo de path + h).\n",
        "    * index es un índice único para cada elemento\n",
        "    * path es la ruta en la cola (queue)\n",
        "    Tenga en cuenta que la cola de prioridad siempre devuelve el elemento más pequeño.\n",
        "    \"\"\"\n",
        "\n",
        "    def __init__(self):\n",
        "        \"\"\"construye la frontera, inicialmente una cola de prioridad vacía\n",
        "        \"\"\"\n",
        "        self.frontier_index = 0  # el número de elementos que se han añadido a la frontera.\n",
        "        self.frontierpq = []  # la cola de prioridad de la frontera\n",
        "\n",
        "    def empty(self):\n",
        "        \"\"\"es True si la cola de priority está vacía (empty)\"\"\"\n",
        "        return self.frontierpq == []\n",
        "\n",
        "    def add(self, path, value):\n",
        "        \"\"\"añade una ruta (path) a la cola priority\n",
        "        value es el valor a ser minimizado\"\"\"\n",
        "        self.frontier_index += 1    # obtener un nuevo índice único\n",
        "        heapq.heappush(self.frontierpq,(value, -self.frontier_index, path))\n",
        "\n",
        "    def pop(self):\n",
        "        \"\"\"retorna y elimina el camino de la frontera con valor mínimo.\n",
        "        \"\"\"\n",
        "        (_,_,path) = heapq.heappop(self.frontierpq)\n",
        "        return path \n",
        "\n",
        "    def count(self,val):\n",
        "        \"\"\"retorna el número de elementos de la frontera con value=val\"\"\"\n",
        "        return sum(1 for e in self.frontierpq if e[0]==val)\n",
        "\n",
        "    def __repr__(self):\n",
        "        \"\"\"string de representación de la frontier\"\"\"\n",
        "        return str([(n,c,str(p)) for (n,c,p) in self.frontierpq])\n",
        "    \n",
        "    def __len__(self):\n",
        "        \"\"\"longitud (length) de la frontier\"\"\"\n",
        "        return len(self.frontierpq)\n",
        "\n",
        "    def __iter__(self):\n",
        "        \"\"\"iterar a través de a través de los caminos en el frontier\"\"\"\n",
        "        for (_,_,path) in self.frontierpq:\n",
        "            yield path"
      ],
      "execution_count": 0,
      "outputs": []
    },
    {
      "cell_type": "markdown",
      "metadata": {
        "id": "R1dzin0kmqoW",
        "colab_type": "text"
      },
      "source": [
        "Para una búsqueda A∗, la frontera se implementa utilizando la clase FrontierPQ. "
      ]
    },
    {
      "cell_type": "code",
      "metadata": {
        "id": "GFK43753t5m1",
        "colab_type": "code",
        "colab": {}
      },
      "source": [
        "class AStarSearcher(Searcher):\n",
        "    \"\"\"retorna un buscador searcher para un problema.\n",
        "    Las rutas se pueden encontrar llamando repetidamente a search().\n",
        "    \"\"\"\n",
        "\n",
        "    def __init__(self, problem):\n",
        "        super().__init__(problem)\n",
        "\n",
        "    def initialize_frontier(self):\n",
        "        self.frontier = FrontierPQ()\n",
        "\n",
        "    def empty_frontier(self):\n",
        "        return self.frontier.empty()\n",
        "\n",
        "    def add_to_frontier(self,path):\n",
        "        \"\"\"agregar ruta (path) a la frontera con el costo apropiado\"\"\"\n",
        "        value = path.cost + self.problem.heuristic(path.end())\n",
        "        print('Costo del camino',path.cost,' + Costo de la heurística de: ',path.end(),' es: ',self.problem.heuristic(path.end()),' --> ',value)\n",
        "        self.frontier.add(path, value)"
      ],
      "execution_count": 0,
      "outputs": []
    },
    {
      "cell_type": "markdown",
      "metadata": {
        "id": "Ubyc0kibteLi",
        "colab_type": "text"
      },
      "source": [
        "El problema de entrega es en forma cíclica descrito en el problemageneral. Por que todos los arcos también tienen su inverso."
      ]
    },
    {
      "cell_type": "code",
      "metadata": {
        "id": "GtuMax6Mhyws",
        "colab_type": "code",
        "colab": {}
      },
      "source": [
        "problemageneral = Search_problem_from_explicit_graph(\n",
        "    \n",
        "   {'ARAD','BUCHAREST','CRAIOVA','DOBRETA','EFOIRE','FAGARAS','GIURGIU','HIRSOVA','IASI' ,'LUGOJ','MEHADIA','NEAMT','ORADEA','PITESTI','RIMNICU VILCEA','SIBIU',\n",
        "    'TIMISOARA','URZICENI', 'VASLUI','ZERIND'},\n",
        "     [  Arc('ARAD','ZERIND',75), Arc('ZERIND','ARAD',75),\n",
        "        Arc('ARAD','SIBIU',140), Arc('SIBIU','ARAD',140),\n",
        "        Arc('ARAD','TIMISOARA',118),Arc('TIMISOARA','ARAD',118),  \n",
        "        Arc('BUCHAREST','PITESTI',101), Arc('PITESTI','BUCHAREST',101),\n",
        "        Arc('BUCHAREST','FAGARAS',211), Arc('FAGARAS','BUCHAREST',211),\n",
        "        Arc('BUCHAREST','URZICENI',85), Arc('URZICENI','BUCHAREST',85),\n",
        "        Arc('BUCHAREST','GIURGIU',90),Arc('GIURGIU','BUCHAREST',90),\n",
        "        Arc('CRAIOVA','PITESTI',138), Arc('PITESTI','CRAIOVA',138),\n",
        "        Arc('CRAIOVA','RIMNICU VILCEA',146), Arc('RIMNICU VILCEA','CRAIOVA',146),\n",
        "        Arc('CRAIOVA','DOBRETA',120), Arc('DOBRETA','CRAIOVA',120),\n",
        "        Arc('DOBRETA','MEHADIA',75), Arc('MEHADIA','DOBRETA',75),\n",
        "        Arc('EFOIRE','HIRSOVA',86),  Arc('HIRSOVA','EFOIRE',86),\n",
        "        Arc('FAGARAS','SIBIU',99), Arc('SIBIU','FAGARAS',99),\n",
        "        Arc('HIRSOVA','URZICENI',98), Arc('URZICENI','HIRSOVA',98),\n",
        "        Arc('IASI','VASLUI',92), Arc('VASLUI','IASI',92),\n",
        "        Arc('IASI','NEAMT',87), Arc('NEAMT','IASI',87),\n",
        "        Arc('LUGOJ','MEHADIA',70), Arc('MEHADIA','LUGOJ',70),\n",
        "        Arc('LUGOJ','TIMISOARA',111), Arc('TIMISOARA','LUGOJ',111),\n",
        "        Arc('ORADEA','ZERIND',71), Arc('ZERIND','ORADEA',71),\n",
        "        Arc('ORADEA','SIBIU',151), Arc('SIBIU','ORADEA',151),\n",
        "        Arc('PITESTI','RIMNICU VILCEA',97), Arc('RIMNICU VILCEA','PITESTI',97),\n",
        "        Arc('RIMNICU VILCEA','SIBIU',80), Arc('SIBIU','RIMNICU VILCEA',80),   \n",
        "        Arc('URZICENI','VASLUI',142), Arc('VASLUI','URZICENI',142)],\n",
        "    start = 'MEHADIA',\n",
        "    goals = {'BUCHAREST'},\n",
        "    hmap = {\n",
        "        'ARAD' : 366,\n",
        "        'BUCHAREST' : 0,\n",
        "        'CRAIOVA' : 160,\n",
        "        'DOBRETA' : 242,\n",
        "        'EFOIRE' : 161,\n",
        "        'FAGARAS' : 178,\n",
        "        'GIURGIU' : 77,\n",
        "        'HIRSOVA' : 151,\n",
        "        'IASI' : 226,\n",
        "        'LUGOJ' : 244,\n",
        "        'MEHADIA' : 241,\n",
        "        'NEAMT' : 234,\n",
        "        'ORADEA' : 380,\n",
        "        'PITESTI' : 98,\n",
        "        'RIMNICU VILCEA' :193,\n",
        "        'SIBIU' : 253,\n",
        "        'TIMISOARA' : 329,\n",
        "        'URZICENI' : 80, \n",
        "        'VASLUI' : 199,\n",
        "        'ZERIND' : 374\n",
        "        }\n",
        "    )\n"
      ],
      "execution_count": 0,
      "outputs": []
    },
    {
      "cell_type": "markdown",
      "metadata": {
        "id": "f9s6o8kl2exZ",
        "colab_type": "text"
      },
      "source": [
        "**PRUEBA 1 A***"
      ]
    },
    {
      "cell_type": "markdown",
      "metadata": {
        "id": "NMWLwsRQmyyF",
        "colab_type": "text"
      },
      "source": [
        "En esta prueba 1 se desea encontrar una solución: secuencia de ciudades que nos lleve desde Arad hasta Bucharest la cual nos dará un costo de la ruta 418\n"
      ]
    },
    {
      "cell_type": "code",
      "metadata": {
        "id": "nVLoq-ErvPFo",
        "colab_type": "code",
        "colab": {}
      },
      "source": [
        "problema1 = Search_problem_from_explicit_graph(\n",
        "    \n",
        "   {'ARAD','BUCHAREST','CRAIOVA','DOBRETA','EFOIRE','FAGARAS','GIURGIU','HIRSOVA','IASI' ,'LUGOJ','MEHADIA','NEAMT','ORADEA','PITESTI','RIMNICU VILCEA','SIBIU',\n",
        "    'TIMISOARA','URZICENI', 'VASLUI','ZERIND'},\n",
        "     [  Arc('ARAD','ZERIND',75), Arc('ZERIND','ARAD',75),\n",
        "        Arc('ARAD','SIBIU',140), Arc('SIBIU','ARAD',140),\n",
        "        Arc('ARAD','TIMISOARA',118),Arc('TIMISOARA','ARAD',118),  \n",
        "        Arc('BUCHAREST','PITESTI',101), Arc('PITESTI','BUCHAREST',101),\n",
        "        Arc('BUCHAREST','FAGARAS',211), Arc('FAGARAS','BUCHAREST',211),\n",
        "        Arc('BUCHAREST','URZICENI',85), Arc('URZICENI','BUCHAREST',85),\n",
        "        Arc('BUCHAREST','GIURGIU',90),Arc('GIURGIU','BUCHAREST',90),\n",
        "        Arc('CRAIOVA','PITESTI',138), Arc('PITESTI','CRAIOVA',138),\n",
        "        Arc('CRAIOVA','RIMNICU VILCEA',146), Arc('RIMNICU VILCEA','CRAIOVA',146),\n",
        "        Arc('CRAIOVA','DOBRETA',120), Arc('DOBRETA','CRAIOVA',120),\n",
        "        Arc('DOBRETA','MEHADIA',75), Arc('MEHADIA','DOBRETA',75),\n",
        "        Arc('EFOIRE','HIRSOVA',86),  Arc('HIRSOVA','EFOIRE',86),\n",
        "        Arc('FAGARAS','SIBIU',99), Arc('SIBIU','FAGARAS',99),\n",
        "        Arc('HIRSOVA','URZICENI',98), Arc('URZICENI','HIRSOVA',98),\n",
        "        Arc('IASI','VASLUI',92), Arc('VASLUI','IASI',92),\n",
        "        Arc('IASI','NEAMT',87), Arc('NEAMT','IASI',87),\n",
        "        Arc('LUGOJ','MEHADIA',70), Arc('MEHADIA','LUGOJ',70),\n",
        "        Arc('LUGOJ','TIMISOARA',111), Arc('TIMISOARA','LUGOJ',111),\n",
        "        Arc('ORADEA','ZERIND',71), Arc('ZERIND','ORADEA',71),\n",
        "        Arc('ORADEA','SIBIU',151), Arc('SIBIU','ORADEA',151),\n",
        "        Arc('PITESTI','RIMNICU VILCEA',97), Arc('RIMNICU VILCEA','PITESTI',97),\n",
        "        Arc('RIMNICU VILCEA','SIBIU',80), Arc('SIBIU','RIMNICU VILCEA',80),   \n",
        "        Arc('URZICENI','VASLUI',142), Arc('VASLUI','URZICENI',142)],\n",
        "    start = 'ARAD',\n",
        "    goals = {'BUCHAREST'},\n",
        "    hmap = {\n",
        "        'ARAD' : 366,\n",
        "        'BUCHAREST' : 0,\n",
        "        'CRAIOVA' : 160,\n",
        "        'DOBRETA' : 242,\n",
        "        'EFOIRE' : 161,\n",
        "        'FAGARAS' : 178,\n",
        "        'GIURGIU' : 77,\n",
        "        'HIRSOVA' : 151,\n",
        "        'IASI' : 226,\n",
        "        'LUGOJ' : 244,\n",
        "        'MEHADIA' : 241,\n",
        "        'NEAMT' : 234,\n",
        "        'ORADEA' : 380,\n",
        "        'PITESTI' : 98,\n",
        "        'RIMNICU VILCEA' :193,\n",
        "        'SIBIU' : 253,\n",
        "        'TIMISOARA' : 329,\n",
        "        'URZICENI' : 80, \n",
        "        'VASLUI' : 199,\n",
        "        'ZERIND' : 374\n",
        "        }\n",
        "    )\n"
      ],
      "execution_count": 0,
      "outputs": []
    },
    {
      "cell_type": "code",
      "metadata": {
        "id": "xsJ3p98-uC5r",
        "colab_type": "code",
        "outputId": "9088a1cd-56e6-4a63-cdda-89751f702378",
        "colab": {
          "base_uri": "https://localhost:8080/",
          "height": 357
        }
      },
      "source": [
        "print(\"Prueba 1: Origen ARAD y destino BUCHAREST\")\n",
        "schr = AStarSearcher(problema1)\n",
        "\n",
        "path = schr.search()\n",
        "print(\"Ruta encontrada:\", path )\n",
        "\n",
        "print('Costo de la Ruta: ', path.cost)"
      ],
      "execution_count": 0,
      "outputs": [
        {
          "output_type": "stream",
          "text": [
            "Prueba 1: Origen ARAD y destino BUCHAREST\n",
            "Costo del camino 0  + Costo de la heurística de:  ARAD  es:  366  -->  366\n",
            "Costo del camino 118  + Costo de la heurística de:  TIMISOARA  es:  329  -->  447\n",
            "Costo del camino 140  + Costo de la heurística de:  SIBIU  es:  253  -->  393\n",
            "Costo del camino 75  + Costo de la heurística de:  ZERIND  es:  374  -->  449\n",
            "Costo del camino 220  + Costo de la heurística de:  RIMNICU VILCEA  es:  193  -->  413\n",
            "Costo del camino 291  + Costo de la heurística de:  ORADEA  es:  380  -->  671\n",
            "Costo del camino 239  + Costo de la heurística de:  FAGARAS  es:  178  -->  417\n",
            "Costo del camino 280  + Costo de la heurística de:  ARAD  es:  366  -->  646\n",
            "Costo del camino 300  + Costo de la heurística de:  SIBIU  es:  253  -->  553\n",
            "Costo del camino 317  + Costo de la heurística de:  PITESTI  es:  98  -->  415\n",
            "Costo del camino 366  + Costo de la heurística de:  CRAIOVA  es:  160  -->  526\n",
            "Costo del camino 414  + Costo de la heurística de:  RIMNICU VILCEA  es:  193  -->  607\n",
            "Costo del camino 455  + Costo de la heurística de:  CRAIOVA  es:  160  -->  615\n",
            "Costo del camino 418  + Costo de la heurística de:  BUCHAREST  es:  0  -->  418\n",
            "Costo del camino 338  + Costo de la heurística de:  SIBIU  es:  253  -->  591\n",
            "Costo del camino 450  + Costo de la heurística de:  BUCHAREST  es:  0  -->  450\n",
            "6 caminos se han ampliado y 10 rutas (paths) permanecen en la frontera\n",
            "Ruta encontrada: ARAD --> SIBIU --> RIMNICU VILCEA --> PITESTI --> BUCHAREST\n",
            "Costo de la Ruta:  418\n"
          ],
          "name": "stdout"
        }
      ]
    },
    {
      "cell_type": "markdown",
      "metadata": {
        "id": "tVicSKjy2yYB",
        "colab_type": "text"
      },
      "source": [
        "**PRUEBA 2 A***"
      ]
    },
    {
      "cell_type": "markdown",
      "metadata": {
        "id": "_hlu7qnBm7Pq",
        "colab_type": "text"
      },
      "source": [
        "En la prueba 2 se desea encontrar una solución: secuencia de ciudades que nos lleve desde Zerind hasta Bucarest.  Para esto se debe cambiar start = ZERIND en el problema de entrega, en esta prueba costo de la ruta de 493 "
      ]
    },
    {
      "cell_type": "code",
      "metadata": {
        "id": "qvGGZRdKv_42",
        "colab_type": "code",
        "colab": {}
      },
      "source": [
        "problema2 = Search_problem_from_explicit_graph(\n",
        "    \n",
        "   {'ARAD','BUCHAREST','CRAIOVA','DOBRETA','EFOIRE','FAGARAS','GIURGIU','HIRSOVA','IASI' ,'LUGOJ','MEHADIA','NEAMT','ORADEA','PITESTI','RIMNICU VILCEA','SIBIU',\n",
        "    'TIMISOARA','URZICENI', 'VASLUI','ZERIND'},\n",
        "     [  Arc('ARAD','ZERIND',75), Arc('ZERIND','ARAD',75),\n",
        "        Arc('ARAD','SIBIU',140), Arc('SIBIU','ARAD',140),\n",
        "        Arc('ARAD','TIMISOARA',118),Arc('TIMISOARA','ARAD',118),  \n",
        "        Arc('BUCHAREST','PITESTI',101), Arc('PITESTI','BUCHAREST',101),\n",
        "        Arc('BUCHAREST','FAGARAS',211), Arc('FAGARAS','BUCHAREST',211),\n",
        "        Arc('BUCHAREST','URZICENI',85), Arc('URZICENI','BUCHAREST',85),\n",
        "        Arc('BUCHAREST','GIURGIU',90),Arc('GIURGIU','BUCHAREST',90),\n",
        "        Arc('CRAIOVA','PITESTI',138), Arc('PITESTI','CRAIOVA',138),\n",
        "        Arc('CRAIOVA','RIMNICU VILCEA',146), Arc('RIMNICU VILCEA','CRAIOVA',146),\n",
        "        Arc('CRAIOVA','DOBRETA',120), Arc('DOBRETA','CRAIOVA',120),\n",
        "        Arc('DOBRETA','MEHADIA',75), Arc('MEHADIA','DOBRETA',75),\n",
        "        Arc('EFOIRE','HIRSOVA',86),  Arc('HIRSOVA','EFOIRE',86),\n",
        "        Arc('FAGARAS','SIBIU',99), Arc('SIBIU','FAGARAS',99),\n",
        "        Arc('HIRSOVA','URZICENI',98), Arc('URZICENI','HIRSOVA',98),\n",
        "        Arc('IASI','VASLUI',92), Arc('VASLUI','IASI',92),\n",
        "        Arc('IASI','NEAMT',87), Arc('NEAMT','IASI',87),\n",
        "        Arc('LUGOJ','MEHADIA',70), Arc('MEHADIA','LUGOJ',70),\n",
        "        Arc('LUGOJ','TIMISOARA',111), Arc('TIMISOARA','LUGOJ',111),\n",
        "        Arc('ORADEA','ZERIND',71), Arc('ZERIND','ORADEA',71),\n",
        "        Arc('ORADEA','SIBIU',151), Arc('SIBIU','ORADEA',151),\n",
        "        Arc('PITESTI','RIMNICU VILCEA',97), Arc('RIMNICU VILCEA','PITESTI',97),\n",
        "        Arc('RIMNICU VILCEA','SIBIU',80), Arc('SIBIU','RIMNICU VILCEA',80),   \n",
        "        Arc('URZICENI','VASLUI',142), Arc('VASLUI','URZICENI',142)],\n",
        "    start = 'ZERIND',\n",
        "    goals = {'BUCHAREST'},\n",
        "    hmap = {\n",
        "        'ARAD' : 366,\n",
        "        'BUCHAREST' : 0,\n",
        "        'CRAIOVA' : 160,\n",
        "        'DOBRETA' : 242,\n",
        "        'EFOIRE' : 161,\n",
        "        'FAGARAS' : 178,\n",
        "        'GIURGIU' : 77,\n",
        "        'HIRSOVA' : 151,\n",
        "        'IASI' : 226,\n",
        "        'LUGOJ' : 244,\n",
        "        'MEHADIA' : 241,\n",
        "        'NEAMT' : 234,\n",
        "        'ORADEA' : 380,\n",
        "        'PITESTI' : 98,\n",
        "        'RIMNICU VILCEA' :193,\n",
        "        'SIBIU' : 253,\n",
        "        'TIMISOARA' : 329,\n",
        "        'URZICENI' : 80, \n",
        "        'VASLUI' : 199,\n",
        "        'ZERIND' : 374\n",
        "        }\n",
        "    )\n"
      ],
      "execution_count": 0,
      "outputs": []
    },
    {
      "cell_type": "code",
      "metadata": {
        "id": "QZ8W87ey1hdc",
        "colab_type": "code",
        "outputId": "865ac47f-006a-458c-be84-99590f3518b1",
        "colab": {
          "base_uri": "https://localhost:8080/",
          "height": 527
        }
      },
      "source": [
        "print(\"Prueba 2: Origen ZERIND y destino BUCHAREST\")\n",
        "schr = AStarSearcher(problema2)\n",
        "path = schr.search()\n",
        "print(\"Ruta encontrada:\", path)\n",
        "print('Costo de la Ruta: ', path.cost)"
      ],
      "execution_count": 0,
      "outputs": [
        {
          "output_type": "stream",
          "text": [
            "Prueba 2: Origen ZERIND y destino BUCHAREST\n",
            "Costo del camino 0  + Costo de la heurística de:  TIMISOARA  es:  329  -->  329\n",
            "Costo del camino 111  + Costo de la heurística de:  LUGOJ  es:  244  -->  355\n",
            "Costo del camino 118  + Costo de la heurística de:  ARAD  es:  366  -->  484\n",
            "Costo del camino 222  + Costo de la heurística de:  TIMISOARA  es:  329  -->  551\n",
            "Costo del camino 181  + Costo de la heurística de:  MEHADIA  es:  241  -->  422\n",
            "Costo del camino 251  + Costo de la heurística de:  LUGOJ  es:  244  -->  495\n",
            "Costo del camino 256  + Costo de la heurística de:  DOBRETA  es:  242  -->  498\n",
            "Costo del camino 236  + Costo de la heurística de:  TIMISOARA  es:  329  -->  565\n",
            "Costo del camino 258  + Costo de la heurística de:  SIBIU  es:  253  -->  511\n",
            "Costo del camino 193  + Costo de la heurística de:  ZERIND  es:  374  -->  567\n",
            "Costo del camino 362  + Costo de la heurística de:  TIMISOARA  es:  329  -->  691\n",
            "Costo del camino 321  + Costo de la heurística de:  MEHADIA  es:  241  -->  562\n",
            "Costo del camino 331  + Costo de la heurística de:  MEHADIA  es:  241  -->  572\n",
            "Costo del camino 376  + Costo de la heurística de:  CRAIOVA  es:  160  -->  536\n",
            "Costo del camino 338  + Costo de la heurística de:  RIMNICU VILCEA  es:  193  -->  531\n",
            "Costo del camino 409  + Costo de la heurística de:  ORADEA  es:  380  -->  789\n",
            "Costo del camino 357  + Costo de la heurística de:  FAGARAS  es:  178  -->  535\n",
            "Costo del camino 398  + Costo de la heurística de:  ARAD  es:  366  -->  764\n",
            "Costo del camino 418  + Costo de la heurística de:  SIBIU  es:  253  -->  671\n",
            "Costo del camino 435  + Costo de la heurística de:  PITESTI  es:  98  -->  533\n",
            "Costo del camino 484  + Costo de la heurística de:  CRAIOVA  es:  160  -->  644\n",
            "Costo del camino 532  + Costo de la heurística de:  RIMNICU VILCEA  es:  193  -->  725\n",
            "Costo del camino 573  + Costo de la heurística de:  CRAIOVA  es:  160  -->  733\n",
            "Costo del camino 536  + Costo de la heurística de:  BUCHAREST  es:  0  -->  536\n",
            "Costo del camino 456  + Costo de la heurística de:  SIBIU  es:  253  -->  709\n",
            "Costo del camino 568  + Costo de la heurística de:  BUCHAREST  es:  0  -->  568\n",
            "11 caminos se han ampliado y 15 rutas (paths) permanecen en la frontera\n",
            "Ruta encontrada: TIMISOARA --> ARAD --> SIBIU --> RIMNICU VILCEA --> PITESTI --> BUCHAREST\n",
            "Costo de la Ruta:  536\n"
          ],
          "name": "stdout"
        }
      ]
    },
    {
      "cell_type": "markdown",
      "metadata": {
        "id": "M3gzpJMs3EP6",
        "colab_type": "text"
      },
      "source": [
        "**PRUEBA 3 A***"
      ]
    },
    {
      "cell_type": "markdown",
      "metadata": {
        "id": "1MBrHfwsm_pJ",
        "colab_type": "text"
      },
      "source": [
        "En la prueba 3 se desea encontrar una solución: secuencia de ciudades que nos lleve desde Fagaras hasta Bucarest.  Para esto se debe cambiar start = FAGARAS en el problema de entrega, en esta prueba costo de la ruta de 211 "
      ]
    },
    {
      "cell_type": "code",
      "metadata": {
        "id": "1sJTnVhlwM9o",
        "colab_type": "code",
        "colab": {}
      },
      "source": [
        "problema3 = Search_problem_from_explicit_graph(\n",
        "    \n",
        "   {'ARAD','BUCHAREST','CRAIOVA','DOBRETA','EFOIRE','FAGARAS','GIURGIU','HIRSOVA','IASI' ,'LUGOJ','MEHADIA','NEAMT','ORADEA','PITESTI','RIMNICU VILCEA','SIBIU',\n",
        "    'TIMISOARA','URZICENI', 'VASLUI','ZERIND'},\n",
        "     [  Arc('ARAD','ZERIND',75), Arc('ZERIND','ARAD',75),\n",
        "        Arc('ARAD','SIBIU',140), Arc('SIBIU','ARAD',140),\n",
        "        Arc('ARAD','TIMISOARA',118),Arc('TIMISOARA','ARAD',118),  \n",
        "        Arc('BUCHAREST','PITESTI',101), Arc('PITESTI','BUCHAREST',101),\n",
        "        Arc('BUCHAREST','FAGARAS',211), Arc('FAGARAS','BUCHAREST',211),\n",
        "        Arc('BUCHAREST','URZICENI',85), Arc('URZICENI','BUCHAREST',85),\n",
        "        Arc('BUCHAREST','GIURGIU',90),Arc('GIURGIU','BUCHAREST',90),\n",
        "        Arc('CRAIOVA','PITESTI',138), Arc('PITESTI','CRAIOVA',138),\n",
        "        Arc('CRAIOVA','RIMNICU VILCEA',146), Arc('RIMNICU VILCEA','CRAIOVA',146),\n",
        "        Arc('CRAIOVA','DOBRETA',120), Arc('DOBRETA','CRAIOVA',120),\n",
        "        Arc('DOBRETA','MEHADIA',75), Arc('MEHADIA','DOBRETA',75),\n",
        "        Arc('EFOIRE','HIRSOVA',86),  Arc('HIRSOVA','EFOIRE',86),\n",
        "        Arc('FAGARAS','SIBIU',99), Arc('SIBIU','FAGARAS',99),\n",
        "        Arc('HIRSOVA','URZICENI',98), Arc('URZICENI','HIRSOVA',98),\n",
        "        Arc('IASI','VASLUI',92), Arc('VASLUI','IASI',92),\n",
        "        Arc('IASI','NEAMT',87), Arc('NEAMT','IASI',87),\n",
        "        Arc('LUGOJ','MEHADIA',70), Arc('MEHADIA','LUGOJ',70),\n",
        "        Arc('LUGOJ','TIMISOARA',111), Arc('TIMISOARA','LUGOJ',111),\n",
        "        Arc('ORADEA','ZERIND',71), Arc('ZERIND','ORADEA',71),\n",
        "        Arc('ORADEA','SIBIU',151), Arc('SIBIU','ORADEA',151),\n",
        "        Arc('PITESTI','RIMNICU VILCEA',97), Arc('RIMNICU VILCEA','PITESTI',97),\n",
        "        Arc('RIMNICU VILCEA','SIBIU',80), Arc('SIBIU','RIMNICU VILCEA',80),   \n",
        "        Arc('URZICENI','VASLUI',142), Arc('VASLUI','URZICENI',142)],\n",
        "    start = 'FAGARAS',\n",
        "    goals = {'BUCHAREST'},\n",
        "    hmap = {\n",
        "        'ARAD' : 366,\n",
        "        'BUCHAREST' : 0,\n",
        "        'CRAIOVA' : 160,\n",
        "        'DOBRETA' : 242,\n",
        "        'EFOIRE' : 161,\n",
        "        'FAGARAS' : 178,\n",
        "        'GIURGIU' : 77,\n",
        "        'HIRSOVA' : 151,\n",
        "        'IASI' : 226,\n",
        "        'LUGOJ' : 244,\n",
        "        'MEHADIA' : 241,\n",
        "        'NEAMT' : 234,\n",
        "        'ORADEA' : 380,\n",
        "        'PITESTI' : 98,\n",
        "        'RIMNICU VILCEA' :193,\n",
        "        'SIBIU' : 253,\n",
        "        'TIMISOARA' : 329,\n",
        "        'URZICENI' : 80, \n",
        "        'VASLUI' : 199,\n",
        "        'ZERIND' : 374\n",
        "        }\n",
        "    )\n"
      ],
      "execution_count": 0,
      "outputs": []
    },
    {
      "cell_type": "code",
      "metadata": {
        "id": "dTyTLwXO7GwJ",
        "colab_type": "code",
        "outputId": "655174f6-4073-4538-825c-0d39ddc3f324",
        "colab": {
          "base_uri": "https://localhost:8080/",
          "height": 249
        }
      },
      "source": [
        "print(\"Prueba 3: Origen FAGARAS y destino BUCHAREST\")\n",
        "schr = AStarSearcher(problema3)\n",
        "path = schr.search()\n",
        "print(\"Ruta encontrada:\", path)\n",
        "print('Costo de la Ruta: ', path.cost)"
      ],
      "execution_count": 0,
      "outputs": [
        {
          "output_type": "stream",
          "text": [
            "Prueba 3: Origen FAGARAS y destino BUCHAREST\n"
          ],
          "name": "stdout"
        },
        {
          "output_type": "error",
          "ename": "NameError",
          "evalue": "ignored",
          "traceback": [
            "\u001b[0;31m---------------------------------------------------------------------------\u001b[0m",
            "\u001b[0;31mNameError\u001b[0m                                 Traceback (most recent call last)",
            "\u001b[0;32m<ipython-input-15-500c4d300846>\u001b[0m in \u001b[0;36m<module>\u001b[0;34m()\u001b[0m\n\u001b[1;32m      1\u001b[0m \u001b[0mprint\u001b[0m\u001b[0;34m(\u001b[0m\u001b[0;34m\"Prueba 3: Origen FAGARAS y destino BUCHAREST\"\u001b[0m\u001b[0;34m)\u001b[0m\u001b[0;34m\u001b[0m\u001b[0;34m\u001b[0m\u001b[0m\n\u001b[0;32m----> 2\u001b[0;31m \u001b[0mschr\u001b[0m \u001b[0;34m=\u001b[0m \u001b[0mAStarSearcher\u001b[0m\u001b[0;34m(\u001b[0m\u001b[0mproblema3\u001b[0m\u001b[0;34m)\u001b[0m\u001b[0;34m\u001b[0m\u001b[0;34m\u001b[0m\u001b[0m\n\u001b[0m\u001b[1;32m      3\u001b[0m \u001b[0mpath\u001b[0m \u001b[0;34m=\u001b[0m \u001b[0mschr\u001b[0m\u001b[0;34m.\u001b[0m\u001b[0msearch\u001b[0m\u001b[0;34m(\u001b[0m\u001b[0;34m)\u001b[0m\u001b[0;34m\u001b[0m\u001b[0;34m\u001b[0m\u001b[0m\n\u001b[1;32m      4\u001b[0m \u001b[0mprint\u001b[0m\u001b[0;34m(\u001b[0m\u001b[0;34m\"Ruta encontrada:\"\u001b[0m\u001b[0;34m,\u001b[0m \u001b[0mpath\u001b[0m\u001b[0;34m)\u001b[0m\u001b[0;34m\u001b[0m\u001b[0;34m\u001b[0m\u001b[0m\n\u001b[1;32m      5\u001b[0m \u001b[0mprint\u001b[0m\u001b[0;34m(\u001b[0m\u001b[0;34m'Costo de la Ruta: '\u001b[0m\u001b[0;34m,\u001b[0m \u001b[0mpath\u001b[0m\u001b[0;34m.\u001b[0m\u001b[0mcost\u001b[0m\u001b[0;34m)\u001b[0m\u001b[0;34m\u001b[0m\u001b[0;34m\u001b[0m\u001b[0m\n",
            "\u001b[0;31mNameError\u001b[0m: name 'problema3' is not defined"
          ]
        }
      ]
    },
    {
      "cell_type": "markdown",
      "metadata": {
        "id": "9vSWTsRU3GYe",
        "colab_type": "text"
      },
      "source": [
        "**PRUEBA 4 A***"
      ]
    },
    {
      "cell_type": "markdown",
      "metadata": {
        "id": "v-4ju3KMnJnU",
        "colab_type": "text"
      },
      "source": [
        "En la prueba 4 se desea encontrar una solución: secuencia de ciudades que nos lleve desde Dobreta hasta Bucarest.  Para esto se debe cambiar start = DOBRETA en el problema de entrega, en esta prueba costo de la ruta de 359 "
      ]
    },
    {
      "cell_type": "code",
      "metadata": {
        "id": "MFTJ8NQ6wflH",
        "colab_type": "code",
        "colab": {}
      },
      "source": [
        "problema4 = Search_problem_from_explicit_graph(\n",
        "    \n",
        "   {'ARAD','BUCHAREST','CRAIOVA','DOBRETA','EFOIRE','FAGARAS','GIURGIU','HIRSOVA','IASI' ,'LUGOJ','MEHADIA','NEAMT','ORADEA','PITESTI','RIMNICU VILCEA','SIBIU',\n",
        "    'TIMISOARA','URZICENI', 'VASLUI','ZERIND'},\n",
        "     [  Arc('ARAD','ZERIND',75), Arc('ZERIND','ARAD',75),\n",
        "        Arc('ARAD','SIBIU',140), Arc('SIBIU','ARAD',140),\n",
        "        Arc('ARAD','TIMISOARA',118),Arc('TIMISOARA','ARAD',118),  \n",
        "        Arc('BUCHAREST','PITESTI',101), Arc('PITESTI','BUCHAREST',101),\n",
        "        Arc('BUCHAREST','FAGARAS',211), Arc('FAGARAS','BUCHAREST',211),\n",
        "        Arc('BUCHAREST','URZICENI',85), Arc('URZICENI','BUCHAREST',85),\n",
        "        Arc('BUCHAREST','GIURGIU',90),Arc('GIURGIU','BUCHAREST',90),\n",
        "        Arc('CRAIOVA','PITESTI',138), Arc('PITESTI','CRAIOVA',138),\n",
        "        Arc('CRAIOVA','RIMNICU VILCEA',146), Arc('RIMNICU VILCEA','CRAIOVA',146),\n",
        "        Arc('CRAIOVA','DOBRETA',120), Arc('DOBRETA','CRAIOVA',120),\n",
        "        Arc('DOBRETA','MEHADIA',75), Arc('MEHADIA','DOBRETA',75),\n",
        "        Arc('EFOIRE','HIRSOVA',86),  Arc('HIRSOVA','EFOIRE',86),\n",
        "        Arc('FAGARAS','SIBIU',99), Arc('SIBIU','FAGARAS',99),\n",
        "        Arc('HIRSOVA','URZICENI',98), Arc('URZICENI','HIRSOVA',98),\n",
        "        Arc('IASI','VASLUI',92), Arc('VASLUI','IASI',92),\n",
        "        Arc('IASI','NEAMT',87), Arc('NEAMT','IASI',87),\n",
        "        Arc('LUGOJ','MEHADIA',70), Arc('MEHADIA','LUGOJ',70),\n",
        "        Arc('LUGOJ','TIMISOARA',111), Arc('TIMISOARA','LUGOJ',111),\n",
        "        Arc('ORADEA','ZERIND',71), Arc('ZERIND','ORADEA',71),\n",
        "        Arc('ORADEA','SIBIU',151), Arc('SIBIU','ORADEA',151),\n",
        "        Arc('PITESTI','RIMNICU VILCEA',97), Arc('RIMNICU VILCEA','PITESTI',97),\n",
        "        Arc('RIMNICU VILCEA','SIBIU',80), Arc('SIBIU','RIMNICU VILCEA',80),   \n",
        "        Arc('URZICENI','VASLUI',142), Arc('VASLUI','URZICENI',142)],\n",
        "    start = 'DOBRETA',\n",
        "    goals = {'BUCHAREST'},\n",
        "    hmap = {\n",
        "        'ARAD' : 366,\n",
        "        'BUCHAREST' : 0,\n",
        "        'CRAIOVA' : 160,\n",
        "        'DOBRETA' : 242,\n",
        "        'EFOIRE' : 161,\n",
        "        'FAGARAS' : 178,\n",
        "        'GIURGIU' : 77,\n",
        "        'HIRSOVA' : 151,\n",
        "        'IASI' : 226,\n",
        "        'LUGOJ' : 244,\n",
        "        'MEHADIA' : 241,\n",
        "        'NEAMT' : 234,\n",
        "        'ORADEA' : 380,\n",
        "        'PITESTI' : 98,\n",
        "        'RIMNICU VILCEA' :193,\n",
        "        'SIBIU' : 253,\n",
        "        'TIMISOARA' : 329,\n",
        "        'URZICENI' : 80, \n",
        "        'VASLUI' : 199,\n",
        "        'ZERIND' : 374\n",
        "        }\n",
        "    )\n"
      ],
      "execution_count": 0,
      "outputs": []
    },
    {
      "cell_type": "code",
      "metadata": {
        "id": "PECW5UNT8NVK",
        "colab_type": "code",
        "outputId": "d74cfe16-7d54-4abe-f8ec-17b8f8f1aac4",
        "colab": {
          "base_uri": "https://localhost:8080/",
          "height": 277
        }
      },
      "source": [
        "print(\"Prueba 4: Origen DOBRETA y destino BUCHAREST\")\n",
        "schr = AStarSearcher(problema4)\n",
        "path = schr.search()\n",
        "print(\"Ruta encontrada:\", path)\n",
        "print('Costo de la Ruta: ', path.cost)"
      ],
      "execution_count": 0,
      "outputs": [
        {
          "output_type": "stream",
          "text": [
            "Prueba 4: Origen DOBRETA y destino BUCHAREST\n",
            "Costo del camino 0  + Costo de la heurística de:  DOBRETA  es:  242  -->  242\n",
            "Costo del camino 75  + Costo de la heurística de:  MEHADIA  es:  241  -->  316\n",
            "Costo del camino 120  + Costo de la heurística de:  CRAIOVA  es:  160  -->  280\n",
            "Costo del camino 240  + Costo de la heurística de:  DOBRETA  es:  242  -->  482\n",
            "Costo del camino 266  + Costo de la heurística de:  RIMNICU VILCEA  es:  193  -->  459\n",
            "Costo del camino 258  + Costo de la heurística de:  PITESTI  es:  98  -->  356\n",
            "Costo del camino 145  + Costo de la heurística de:  LUGOJ  es:  244  -->  389\n",
            "Costo del camino 150  + Costo de la heurística de:  DOBRETA  es:  242  -->  392\n",
            "Costo del camino 355  + Costo de la heurística de:  RIMNICU VILCEA  es:  193  -->  548\n",
            "Costo del camino 396  + Costo de la heurística de:  CRAIOVA  es:  160  -->  556\n",
            "Costo del camino 359  + Costo de la heurística de:  BUCHAREST  es:  0  -->  359\n",
            "5 caminos se han ampliado y 6 rutas (paths) permanecen en la frontera\n",
            "Ruta encontrada: DOBRETA --> CRAIOVA --> PITESTI --> BUCHAREST\n",
            "Costo de la Ruta:  359\n"
          ],
          "name": "stdout"
        }
      ]
    },
    {
      "cell_type": "markdown",
      "metadata": {
        "id": "iALvqGdN3e2R",
        "colab_type": "text"
      },
      "source": [
        "**PRUEBA 5 A***"
      ]
    },
    {
      "cell_type": "markdown",
      "metadata": {
        "id": "qzkwrbwgnNTY",
        "colab_type": "text"
      },
      "source": [
        "En la prueba 5 se desea encontrar una solución: secuencia de ciudades que nos lleve desde Craiova hasta Bucarest.  Para esto se debe cambiar start = CRAIOVA en el problema de entrega, en esta prueba costo de la ruta de 239 "
      ]
    },
    {
      "cell_type": "code",
      "metadata": {
        "id": "cf3VdZToxCif",
        "colab_type": "code",
        "colab": {}
      },
      "source": [
        "problema5 = Search_problem_from_explicit_graph(\n",
        "    \n",
        "   {'ARAD','BUCHAREST','CRAIOVA','DOBRETA','EFOIRE','FAGARAS','GIURGIU','HIRSOVA','IASI' ,'LUGOJ','MEHADIA','NEAMT','ORADEA','PITESTI','RIMNICU VILCEA','SIBIU',\n",
        "    'TIMISOARA','URZICENI', 'VASLUI','ZERIND'},\n",
        "     [  Arc('ARAD','ZERIND',75), Arc('ZERIND','ARAD',75),\n",
        "        Arc('ARAD','SIBIU',140), Arc('SIBIU','ARAD',140),\n",
        "        Arc('ARAD','TIMISOARA',118),Arc('TIMISOARA','ARAD',118),  \n",
        "        Arc('BUCHAREST','PITESTI',101), Arc('PITESTI','BUCHAREST',101),\n",
        "        Arc('BUCHAREST','FAGARAS',211), Arc('FAGARAS','BUCHAREST',211),\n",
        "        Arc('BUCHAREST','URZICENI',85), Arc('URZICENI','BUCHAREST',85),\n",
        "        Arc('BUCHAREST','GIURGIU',90),Arc('GIURGIU','BUCHAREST',90),\n",
        "        Arc('CRAIOVA','PITESTI',138), Arc('PITESTI','CRAIOVA',138),\n",
        "        Arc('CRAIOVA','RIMNICU VILCEA',146), Arc('RIMNICU VILCEA','CRAIOVA',146),\n",
        "        Arc('CRAIOVA','DOBRETA',120), Arc('DOBRETA','CRAIOVA',120),\n",
        "        Arc('DOBRETA','MEHADIA',75), Arc('MEHADIA','DOBRETA',75),\n",
        "        Arc('EFOIRE','HIRSOVA',86),  Arc('HIRSOVA','EFOIRE',86),\n",
        "        Arc('FAGARAS','SIBIU',99), Arc('SIBIU','FAGARAS',99),\n",
        "        Arc('HIRSOVA','URZICENI',98), Arc('URZICENI','HIRSOVA',98),\n",
        "        Arc('IASI','VASLUI',92), Arc('VASLUI','IASI',92),\n",
        "        Arc('IASI','NEAMT',87), Arc('NEAMT','IASI',87),\n",
        "        Arc('LUGOJ','MEHADIA',70), Arc('MEHADIA','LUGOJ',70),\n",
        "        Arc('LUGOJ','TIMISOARA',111), Arc('TIMISOARA','LUGOJ',111),\n",
        "        Arc('ORADEA','ZERIND',71), Arc('ZERIND','ORADEA',71),\n",
        "        Arc('ORADEA','SIBIU',151), Arc('SIBIU','ORADEA',151),\n",
        "        Arc('PITESTI','RIMNICU VILCEA',97), Arc('RIMNICU VILCEA','PITESTI',97),\n",
        "        Arc('RIMNICU VILCEA','SIBIU',80), Arc('SIBIU','RIMNICU VILCEA',80),   \n",
        "        Arc('URZICENI','VASLUI',142), Arc('VASLUI','URZICENI',142)],\n",
        "    start = 'CRAIOVA',\n",
        "    goals = {'BUCHAREST'},\n",
        "    hmap = {\n",
        "        'ARAD' : 366,\n",
        "        'BUCHAREST' : 0,\n",
        "        'CRAIOVA' : 160,\n",
        "        'DOBRETA' : 242,\n",
        "        'EFOIRE' : 161,\n",
        "        'FAGARAS' : 178,\n",
        "        'GIURGIU' : 77,\n",
        "        'HIRSOVA' : 151,\n",
        "        'IASI' : 226,\n",
        "        'LUGOJ' : 244,\n",
        "        'MEHADIA' : 241,\n",
        "        'NEAMT' : 234,\n",
        "        'ORADEA' : 380,\n",
        "        'PITESTI' : 98,\n",
        "        'RIMNICU VILCEA' :193,\n",
        "        'SIBIU' : 253,\n",
        "        'TIMISOARA' : 329,\n",
        "        'URZICENI' : 80, \n",
        "        'VASLUI' : 199,\n",
        "        'ZERIND' : 374\n",
        "        }\n",
        "    )\n"
      ],
      "execution_count": 0,
      "outputs": []
    },
    {
      "cell_type": "code",
      "metadata": {
        "id": "jAcDGjvs-Ug4",
        "colab_type": "code",
        "outputId": "2e3fc737-78ae-4b5b-97b9-132c13c22dce",
        "colab": {
          "base_uri": "https://localhost:8080/",
          "height": 208
        }
      },
      "source": [
        "print(\"Prueba 5: Origen CRAIOVA y destino BUCHAREST\")\n",
        "schr = AStarSearcher(problema5)\n",
        "path = schr.search()\n",
        "print(\"Ruta encontrada:\", path)\n",
        "print('Costo de la Ruta: ', path.cost)"
      ],
      "execution_count": 0,
      "outputs": [
        {
          "output_type": "stream",
          "text": [
            "Prueba 5: Origen CRAIOVA y destino BUCHAREST\n",
            "Costo del camino 0  + Costo de la heurística de:  CRAIOVA  es:  160  -->  160\n",
            "Costo del camino 120  + Costo de la heurística de:  DOBRETA  es:  242  -->  362\n",
            "Costo del camino 146  + Costo de la heurística de:  RIMNICU VILCEA  es:  193  -->  339\n",
            "Costo del camino 138  + Costo de la heurística de:  PITESTI  es:  98  -->  236\n",
            "Costo del camino 235  + Costo de la heurística de:  RIMNICU VILCEA  es:  193  -->  428\n",
            "Costo del camino 276  + Costo de la heurística de:  CRAIOVA  es:  160  -->  436\n",
            "Costo del camino 239  + Costo de la heurística de:  BUCHAREST  es:  0  -->  239\n",
            "3 caminos se han ampliado y 4 rutas (paths) permanecen en la frontera\n",
            "Ruta encontrada: CRAIOVA --> PITESTI --> BUCHAREST\n",
            "Costo de la Ruta:  239\n"
          ],
          "name": "stdout"
        }
      ]
    },
    {
      "cell_type": "markdown",
      "metadata": {
        "id": "TghpTych3lpY",
        "colab_type": "text"
      },
      "source": [
        "**PRUEBA 6 A***"
      ]
    },
    {
      "cell_type": "markdown",
      "metadata": {
        "id": "lN9o3FWZnTbE",
        "colab_type": "text"
      },
      "source": [
        "En la prueba 6 se desea encontrar una solución: secuencia de ciudades que nos lleve desde Efoire hasta Bucarest.  Para esto se debe cambiar start = EFOIRE en el problema de entrega, en esta prueba costo de la ruta de 269"
      ]
    },
    {
      "cell_type": "code",
      "metadata": {
        "id": "GS46csjaxx3C",
        "colab_type": "code",
        "colab": {}
      },
      "source": [
        "problema6 = Search_problem_from_explicit_graph(\n",
        "    \n",
        "   {'ARAD','BUCHAREST','CRAIOVA','DOBRETA','EFOIRE','FAGARAS','GIURGIU','HIRSOVA','IASI' ,'LUGOJ','MEHADIA','NEAMT','ORADEA','PITESTI','RIMNICU VILCEA','SIBIU',\n",
        "    'TIMISOARA','URZICENI', 'VASLUI','ZERIND'},\n",
        "     [  Arc('ARAD','ZERIND',75), Arc('ZERIND','ARAD',75),\n",
        "        Arc('ARAD','SIBIU',140), Arc('SIBIU','ARAD',140),\n",
        "        Arc('ARAD','TIMISOARA',118),Arc('TIMISOARA','ARAD',118),  \n",
        "        Arc('BUCHAREST','PITESTI',101), Arc('PITESTI','BUCHAREST',101),\n",
        "        Arc('BUCHAREST','FAGARAS',211), Arc('FAGARAS','BUCHAREST',211),\n",
        "        Arc('BUCHAREST','URZICENI',85), Arc('URZICENI','BUCHAREST',85),\n",
        "        Arc('BUCHAREST','GIURGIU',90),Arc('GIURGIU','BUCHAREST',90),\n",
        "        Arc('CRAIOVA','PITESTI',138), Arc('PITESTI','CRAIOVA',138),\n",
        "        Arc('CRAIOVA','RIMNICU VILCEA',146), Arc('RIMNICU VILCEA','CRAIOVA',146),\n",
        "        Arc('CRAIOVA','DOBRETA',120), Arc('DOBRETA','CRAIOVA',120),\n",
        "        Arc('DOBRETA','MEHADIA',75), Arc('MEHADIA','DOBRETA',75),\n",
        "        Arc('EFOIRE','HIRSOVA',86),  Arc('HIRSOVA','EFOIRE',86),\n",
        "        Arc('FAGARAS','SIBIU',99), Arc('SIBIU','FAGARAS',99),\n",
        "        Arc('HIRSOVA','URZICENI',98), Arc('URZICENI','HIRSOVA',98),\n",
        "        Arc('IASI','VASLUI',92), Arc('VASLUI','IASI',92),\n",
        "        Arc('IASI','NEAMT',87), Arc('NEAMT','IASI',87),\n",
        "        Arc('LUGOJ','MEHADIA',70), Arc('MEHADIA','LUGOJ',70),\n",
        "        Arc('LUGOJ','TIMISOARA',111), Arc('TIMISOARA','LUGOJ',111),\n",
        "        Arc('ORADEA','ZERIND',71), Arc('ZERIND','ORADEA',71),\n",
        "        Arc('ORADEA','SIBIU',151), Arc('SIBIU','ORADEA',151),\n",
        "        Arc('PITESTI','RIMNICU VILCEA',97), Arc('RIMNICU VILCEA','PITESTI',97),\n",
        "        Arc('RIMNICU VILCEA','SIBIU',80), Arc('SIBIU','RIMNICU VILCEA',80),   \n",
        "        Arc('URZICENI','VASLUI',142), Arc('VASLUI','URZICENI',142)],\n",
        "    start = 'EFOIRE',\n",
        "    goals = {'BUCHAREST'},\n",
        "    hmap = {\n",
        "        'ARAD' : 366,\n",
        "        'BUCHAREST' : 0,\n",
        "        'CRAIOVA' : 160,\n",
        "        'DOBRETA' : 242,\n",
        "        'EFOIRE' : 161,\n",
        "        'FAGARAS' : 178,\n",
        "        'GIURGIU' : 77,\n",
        "        'HIRSOVA' : 151,\n",
        "        'IASI' : 226,\n",
        "        'LUGOJ' : 244,\n",
        "        'MEHADIA' : 241,\n",
        "        'NEAMT' : 234,\n",
        "        'ORADEA' : 380,\n",
        "        'PITESTI' : 98,\n",
        "        'RIMNICU VILCEA' :193,\n",
        "        'SIBIU' : 253,\n",
        "        'TIMISOARA' : 329,\n",
        "        'URZICENI' : 80, \n",
        "        'VASLUI' : 199,\n",
        "        'ZERIND' : 374\n",
        "        }\n",
        "    )\n"
      ],
      "execution_count": 0,
      "outputs": []
    },
    {
      "cell_type": "code",
      "metadata": {
        "id": "En86G0il8prz",
        "colab_type": "code",
        "outputId": "fb337867-a100-43dd-a5bc-fc1ddc61982d",
        "colab": {
          "base_uri": "https://localhost:8080/",
          "height": 208
        }
      },
      "source": [
        "print(\"Prueba 6: Origen EFOIRE y destino BUCHAREST\")\n",
        "schr = AStarSearcher(problema6)\n",
        "path = schr.search()\n",
        "print(\"Ruta encontrada:\", path)\n",
        "print('Costo de la Ruta: ', path.cost)"
      ],
      "execution_count": 0,
      "outputs": [
        {
          "output_type": "stream",
          "text": [
            "Prueba 6: Origen EFOIRE y destino BUCHAREST\n",
            "Costo del camino 0  + Costo de la heurística de:  EFOIRE  es:  161  -->  161\n",
            "Costo del camino 86  + Costo de la heurística de:  HIRSOVA  es:  151  -->  237\n",
            "Costo del camino 184  + Costo de la heurística de:  URZICENI  es:  80  -->  264\n",
            "Costo del camino 172  + Costo de la heurística de:  EFOIRE  es:  161  -->  333\n",
            "Costo del camino 326  + Costo de la heurística de:  VASLUI  es:  199  -->  525\n",
            "Costo del camino 282  + Costo de la heurística de:  HIRSOVA  es:  151  -->  433\n",
            "Costo del camino 269  + Costo de la heurística de:  BUCHAREST  es:  0  -->  269\n",
            "4 caminos se han ampliado y 3 rutas (paths) permanecen en la frontera\n",
            "Ruta encontrada: EFOIRE --> HIRSOVA --> URZICENI --> BUCHAREST\n",
            "Costo de la Ruta:  269\n"
          ],
          "name": "stdout"
        }
      ]
    },
    {
      "cell_type": "markdown",
      "metadata": {
        "id": "OAJptzao3o2H",
        "colab_type": "text"
      },
      "source": [
        "**PRUEBA 7 A***"
      ]
    },
    {
      "cell_type": "markdown",
      "metadata": {
        "id": "DHR4ve83nZNL",
        "colab_type": "text"
      },
      "source": [
        "En la prueba 7 se desea encontrar una solución: secuencia de ciudades que nos lleve desde Lugoj hasta Bucarest.  Para esto se debe cambiar start = LUGOJ en el problema de entrega, en esta prueba costo de la ruta de 504 "
      ]
    },
    {
      "cell_type": "code",
      "metadata": {
        "id": "X7IlIgWkyTma",
        "colab_type": "code",
        "colab": {}
      },
      "source": [
        "problema7 = Search_problem_from_explicit_graph(\n",
        "    \n",
        "   {'ARAD','BUCHAREST','CRAIOVA','DOBRETA','EFOIRE','FAGARAS','GIURGIU','HIRSOVA','IASI' ,'LUGOJ','MEHADIA','NEAMT','ORADEA','PITESTI','RIMNICU VILCEA','SIBIU',\n",
        "    'TIMISOARA','URZICENI', 'VASLUI','ZERIND'},\n",
        "     [  Arc('ARAD','ZERIND',75), Arc('ZERIND','ARAD',75),\n",
        "        Arc('ARAD','SIBIU',140), Arc('SIBIU','ARAD',140),\n",
        "        Arc('ARAD','TIMISOARA',118),Arc('TIMISOARA','ARAD',118),  \n",
        "        Arc('BUCHAREST','PITESTI',101), Arc('PITESTI','BUCHAREST',101),\n",
        "        Arc('BUCHAREST','FAGARAS',211), Arc('FAGARAS','BUCHAREST',211),\n",
        "        Arc('BUCHAREST','URZICENI',85), Arc('URZICENI','BUCHAREST',85),\n",
        "        Arc('BUCHAREST','GIURGIU',90),Arc('GIURGIU','BUCHAREST',90),\n",
        "        Arc('CRAIOVA','PITESTI',138), Arc('PITESTI','CRAIOVA',138),\n",
        "        Arc('CRAIOVA','RIMNICU VILCEA',146), Arc('RIMNICU VILCEA','CRAIOVA',146),\n",
        "        Arc('CRAIOVA','DOBRETA',120), Arc('DOBRETA','CRAIOVA',120),\n",
        "        Arc('DOBRETA','MEHADIA',75), Arc('MEHADIA','DOBRETA',75),\n",
        "        Arc('EFOIRE','HIRSOVA',86),  Arc('HIRSOVA','EFOIRE',86),\n",
        "        Arc('FAGARAS','SIBIU',99), Arc('SIBIU','FAGARAS',99),\n",
        "        Arc('HIRSOVA','URZICENI',98), Arc('URZICENI','HIRSOVA',98),\n",
        "        Arc('IASI','VASLUI',92), Arc('VASLUI','IASI',92),\n",
        "        Arc('IASI','NEAMT',87), Arc('NEAMT','IASI',87),\n",
        "        Arc('LUGOJ','MEHADIA',70), Arc('MEHADIA','LUGOJ',70),\n",
        "        Arc('LUGOJ','TIMISOARA',111), Arc('TIMISOARA','LUGOJ',111),\n",
        "        Arc('ORADEA','ZERIND',71), Arc('ZERIND','ORADEA',71),\n",
        "        Arc('ORADEA','SIBIU',151), Arc('SIBIU','ORADEA',151),\n",
        "        Arc('PITESTI','RIMNICU VILCEA',97), Arc('RIMNICU VILCEA','PITESTI',97),\n",
        "        Arc('RIMNICU VILCEA','SIBIU',80), Arc('SIBIU','RIMNICU VILCEA',80),   \n",
        "        Arc('URZICENI','VASLUI',142), Arc('VASLUI','URZICENI',142)],\n",
        "    start = 'LUGOJ',\n",
        "    goals = {'BUCHAREST'},\n",
        "    hmap = {\n",
        "        'ARAD' : 366,\n",
        "        'BUCHAREST' : 0,\n",
        "        'CRAIOVA' : 160,\n",
        "        'DOBRETA' : 242,\n",
        "        'EFOIRE' : 161,\n",
        "        'FAGARAS' : 178,\n",
        "        'GIURGIU' : 77,\n",
        "        'HIRSOVA' : 151,\n",
        "        'IASI' : 226,\n",
        "        'LUGOJ' : 244,\n",
        "        'MEHADIA' : 241,\n",
        "        'NEAMT' : 234,\n",
        "        'ORADEA' : 380,\n",
        "        'PITESTI' : 98,\n",
        "        'RIMNICU VILCEA' :193,\n",
        "        'SIBIU' : 253,\n",
        "        'TIMISOARA' : 329,\n",
        "        'URZICENI' : 80, \n",
        "        'VASLUI' : 199,\n",
        "        'ZERIND' : 374\n",
        "        }\n",
        "    )\n"
      ],
      "execution_count": 0,
      "outputs": []
    },
    {
      "cell_type": "code",
      "metadata": {
        "id": "OWAFXXmI9Y6L",
        "colab_type": "code",
        "outputId": "575573f6-571c-4181-fd4a-abea6c7dcaf2",
        "colab": {
          "base_uri": "https://localhost:8080/",
          "height": 485
        }
      },
      "source": [
        "print(\"Prueba 7: Origen LUGOJ y destino BUCHAREST\")\n",
        "schr = AStarSearcher(problema7)\n",
        "path = schr.search()\n",
        "print(\"Ruta encontrada:\", path)\n",
        "print('Costo de la Ruta: ', path.cost)"
      ],
      "execution_count": 0,
      "outputs": [
        {
          "output_type": "stream",
          "text": [
            "Prueba 7: Origen LUGOJ y destino BUCHAREST\n",
            "Costo del camino 0  + Costo de la heurística de:  LUGOJ  es:  244  -->  244\n",
            "Costo del camino 111  + Costo de la heurística de:  TIMISOARA  es:  329  -->  440\n",
            "Costo del camino 70  + Costo de la heurística de:  MEHADIA  es:  241  -->  311\n",
            "Costo del camino 140  + Costo de la heurística de:  LUGOJ  es:  244  -->  384\n",
            "Costo del camino 145  + Costo de la heurística de:  DOBRETA  es:  242  -->  387\n",
            "Costo del camino 251  + Costo de la heurística de:  TIMISOARA  es:  329  -->  580\n",
            "Costo del camino 210  + Costo de la heurística de:  MEHADIA  es:  241  -->  451\n",
            "Costo del camino 220  + Costo de la heurística de:  MEHADIA  es:  241  -->  461\n",
            "Costo del camino 265  + Costo de la heurística de:  CRAIOVA  es:  160  -->  425\n",
            "Costo del camino 385  + Costo de la heurística de:  DOBRETA  es:  242  -->  627\n",
            "Costo del camino 411  + Costo de la heurística de:  RIMNICU VILCEA  es:  193  -->  604\n",
            "Costo del camino 403  + Costo de la heurística de:  PITESTI  es:  98  -->  501\n",
            "Costo del camino 222  + Costo de la heurística de:  LUGOJ  es:  244  -->  466\n",
            "Costo del camino 229  + Costo de la heurística de:  ARAD  es:  366  -->  595\n",
            "Costo del camino 280  + Costo de la heurística de:  LUGOJ  es:  244  -->  524\n",
            "Costo del camino 285  + Costo de la heurística de:  DOBRETA  es:  242  -->  527\n",
            "Costo del camino 290  + Costo de la heurística de:  LUGOJ  es:  244  -->  534\n",
            "Costo del camino 295  + Costo de la heurística de:  DOBRETA  es:  242  -->  537\n",
            "Costo del camino 333  + Costo de la heurística de:  TIMISOARA  es:  329  -->  662\n",
            "Costo del camino 292  + Costo de la heurística de:  MEHADIA  es:  241  -->  533\n",
            "Costo del camino 500  + Costo de la heurística de:  RIMNICU VILCEA  es:  193  -->  693\n",
            "Costo del camino 541  + Costo de la heurística de:  CRAIOVA  es:  160  -->  701\n",
            "Costo del camino 504  + Costo de la heurística de:  BUCHAREST  es:  0  -->  504\n",
            "11 caminos se han ampliado y 12 rutas (paths) permanecen en la frontera\n",
            "Ruta encontrada: LUGOJ --> MEHADIA --> DOBRETA --> CRAIOVA --> PITESTI --> BUCHAREST\n",
            "Costo de la Ruta:  504\n"
          ],
          "name": "stdout"
        }
      ]
    },
    {
      "cell_type": "markdown",
      "metadata": {
        "id": "Oc3J-ar13tKR",
        "colab_type": "text"
      },
      "source": [
        "**PRUEBA 8 A***"
      ]
    },
    {
      "cell_type": "markdown",
      "metadata": {
        "id": "OimarPHNnczo",
        "colab_type": "text"
      },
      "source": [
        "En la prueba 8 se desea encontrar una solución: secuencia de ciudades que nos lleve desde Sibiu hasta Bucarest.  Para esto se debe cambiar start = SIBIU en el problema de entrega, en esta prueba costo de la ruta de 278 "
      ]
    },
    {
      "cell_type": "code",
      "metadata": {
        "id": "2gnOfgEzynP3",
        "colab_type": "code",
        "colab": {}
      },
      "source": [
        "problema8 = Search_problem_from_explicit_graph(\n",
        "    \n",
        "   {'ARAD','BUCHAREST','CRAIOVA','DOBRETA','EFOIRE','FAGARAS','GIURGIU','HIRSOVA','IASI' ,'LUGOJ','MEHADIA','NEAMT','ORADEA','PITESTI','RIMNICU VILCEA','SIBIU',\n",
        "    'TIMISOARA','URZICENI', 'VASLUI','ZERIND'},\n",
        "     [  Arc('ARAD','ZERIND',75), Arc('ZERIND','ARAD',75),\n",
        "        Arc('ARAD','SIBIU',140), Arc('SIBIU','ARAD',140),\n",
        "        Arc('ARAD','TIMISOARA',118),Arc('TIMISOARA','ARAD',118),  \n",
        "        Arc('BUCHAREST','PITESTI',101), Arc('PITESTI','BUCHAREST',101),\n",
        "        Arc('BUCHAREST','FAGARAS',211), Arc('FAGARAS','BUCHAREST',211),\n",
        "        Arc('BUCHAREST','URZICENI',85), Arc('URZICENI','BUCHAREST',85),\n",
        "        Arc('BUCHAREST','GIURGIU',90),Arc('GIURGIU','BUCHAREST',90),\n",
        "        Arc('CRAIOVA','PITESTI',138), Arc('PITESTI','CRAIOVA',138),\n",
        "        Arc('CRAIOVA','RIMNICU VILCEA',146), Arc('RIMNICU VILCEA','CRAIOVA',146),\n",
        "        Arc('CRAIOVA','DOBRETA',120), Arc('DOBRETA','CRAIOVA',120),\n",
        "        Arc('DOBRETA','MEHADIA',75), Arc('MEHADIA','DOBRETA',75),\n",
        "        Arc('EFOIRE','HIRSOVA',86),  Arc('HIRSOVA','EFOIRE',86),\n",
        "        Arc('FAGARAS','SIBIU',99), Arc('SIBIU','FAGARAS',99),\n",
        "        Arc('HIRSOVA','URZICENI',98), Arc('URZICENI','HIRSOVA',98),\n",
        "        Arc('IASI','VASLUI',92), Arc('VASLUI','IASI',92),\n",
        "        Arc('IASI','NEAMT',87), Arc('NEAMT','IASI',87),\n",
        "        Arc('LUGOJ','MEHADIA',70), Arc('MEHADIA','LUGOJ',70),\n",
        "        Arc('LUGOJ','TIMISOARA',111), Arc('TIMISOARA','LUGOJ',111),\n",
        "        Arc('ORADEA','ZERIND',71), Arc('ZERIND','ORADEA',71),\n",
        "        Arc('ORADEA','SIBIU',151), Arc('SIBIU','ORADEA',151),\n",
        "        Arc('PITESTI','RIMNICU VILCEA',97), Arc('RIMNICU VILCEA','PITESTI',97),\n",
        "        Arc('RIMNICU VILCEA','SIBIU',80), Arc('SIBIU','RIMNICU VILCEA',80),   \n",
        "        Arc('URZICENI','VASLUI',142), Arc('VASLUI','URZICENI',142)],\n",
        "    start = 'SIBIU',\n",
        "    goals = {'BUCHAREST'},\n",
        "    hmap = {\n",
        "        'ARAD' : 366,\n",
        "        'BUCHAREST' : 0,\n",
        "        'CRAIOVA' : 160,\n",
        "        'DOBRETA' : 242,\n",
        "        'EFOIRE' : 161,\n",
        "        'FAGARAS' : 178,\n",
        "        'GIURGIU' : 77,\n",
        "        'HIRSOVA' : 151,\n",
        "        'IASI' : 226,\n",
        "        'LUGOJ' : 244,\n",
        "        'MEHADIA' : 241,\n",
        "        'NEAMT' : 234,\n",
        "        'ORADEA' : 380,\n",
        "        'PITESTI' : 98,\n",
        "        'RIMNICU VILCEA' :193,\n",
        "        'SIBIU' : 253,\n",
        "        'TIMISOARA' : 329,\n",
        "        'URZICENI' : 80, \n",
        "        'VASLUI' : 199,\n",
        "        'ZERIND' : 374\n",
        "        }\n",
        "    )\n"
      ],
      "execution_count": 0,
      "outputs": []
    },
    {
      "cell_type": "code",
      "metadata": {
        "id": "LEBzOtlg96LP",
        "colab_type": "code",
        "outputId": "8a853496-3fd8-4094-bb6d-6ea826a43bba",
        "colab": {
          "base_uri": "https://localhost:8080/",
          "height": 312
        }
      },
      "source": [
        "print(\"Prueba 8: Origen SIBIU y destino BUCHAREST\")\n",
        "schr = AStarSearcher(problema8)\n",
        "path = schr.search()\n",
        "print(\"Ruta encontrada:\", path)\n",
        "print('Costo de la Ruta: ', path.cost)"
      ],
      "execution_count": 0,
      "outputs": [
        {
          "output_type": "stream",
          "text": [
            "Prueba 8: Origen SIBIU y destino BUCHAREST\n",
            "Costo del camino 0  + Costo de la heurística de:  SIBIU  es:  253  -->  253\n",
            "Costo del camino 80  + Costo de la heurística de:  RIMNICU VILCEA  es:  193  -->  273\n",
            "Costo del camino 151  + Costo de la heurística de:  ORADEA  es:  380  -->  531\n",
            "Costo del camino 99  + Costo de la heurística de:  FAGARAS  es:  178  -->  277\n",
            "Costo del camino 140  + Costo de la heurística de:  ARAD  es:  366  -->  506\n",
            "Costo del camino 160  + Costo de la heurística de:  SIBIU  es:  253  -->  413\n",
            "Costo del camino 177  + Costo de la heurística de:  PITESTI  es:  98  -->  275\n",
            "Costo del camino 226  + Costo de la heurística de:  CRAIOVA  es:  160  -->  386\n",
            "Costo del camino 274  + Costo de la heurística de:  RIMNICU VILCEA  es:  193  -->  467\n",
            "Costo del camino 315  + Costo de la heurística de:  CRAIOVA  es:  160  -->  475\n",
            "Costo del camino 278  + Costo de la heurística de:  BUCHAREST  es:  0  -->  278\n",
            "Costo del camino 198  + Costo de la heurística de:  SIBIU  es:  253  -->  451\n",
            "Costo del camino 310  + Costo de la heurística de:  BUCHAREST  es:  0  -->  310\n",
            "5 caminos se han ampliado y 8 rutas (paths) permanecen en la frontera\n",
            "Ruta encontrada: SIBIU --> RIMNICU VILCEA --> PITESTI --> BUCHAREST\n",
            "Costo de la Ruta:  278\n"
          ],
          "name": "stdout"
        }
      ]
    },
    {
      "cell_type": "markdown",
      "metadata": {
        "id": "HCOELXrS30vx",
        "colab_type": "text"
      },
      "source": [
        "**PRUEBA 9 A***"
      ]
    },
    {
      "cell_type": "markdown",
      "metadata": {
        "id": "TaSOZrcHnhbA",
        "colab_type": "text"
      },
      "source": [
        "En la prueba 9 se desea encontrar una solución: secuencia de ciudades que nos lleve desde Timiosara hasta Bucarest.  Para esto se debe cambiar start = TIMISOARA en el problema de entrega, en esta prueba costo de la ruta de 536 "
      ]
    },
    {
      "cell_type": "code",
      "metadata": {
        "id": "ryO3OgYMy8D2",
        "colab_type": "code",
        "colab": {}
      },
      "source": [
        "problema9 = Search_problem_from_explicit_graph(\n",
        "    \n",
        "   {'ARAD','BUCHAREST','CRAIOVA','DOBRETA','EFOIRE','FAGARAS','GIURGIU','HIRSOVA','IASI' ,'LUGOJ','MEHADIA','NEAMT','ORADEA','PITESTI','RIMNICU VILCEA','SIBIU',\n",
        "    'TIMISOARA','URZICENI', 'VASLUI','ZERIND'},\n",
        "     [  Arc('ARAD','ZERIND',75), Arc('ZERIND','ARAD',75),\n",
        "        Arc('ARAD','SIBIU',140), Arc('SIBIU','ARAD',140),\n",
        "        Arc('ARAD','TIMISOARA',118),Arc('TIMISOARA','ARAD',118),  \n",
        "        Arc('BUCHAREST','PITESTI',101), Arc('PITESTI','BUCHAREST',101),\n",
        "        Arc('BUCHAREST','FAGARAS',211), Arc('FAGARAS','BUCHAREST',211),\n",
        "        Arc('BUCHAREST','URZICENI',85), Arc('URZICENI','BUCHAREST',85),\n",
        "        Arc('BUCHAREST','GIURGIU',90),Arc('GIURGIU','BUCHAREST',90),\n",
        "        Arc('CRAIOVA','PITESTI',138), Arc('PITESTI','CRAIOVA',138),\n",
        "        Arc('CRAIOVA','RIMNICU VILCEA',146), Arc('RIMNICU VILCEA','CRAIOVA',146),\n",
        "        Arc('CRAIOVA','DOBRETA',120), Arc('DOBRETA','CRAIOVA',120),\n",
        "        Arc('DOBRETA','MEHADIA',75), Arc('MEHADIA','DOBRETA',75),\n",
        "        Arc('EFOIRE','HIRSOVA',86),  Arc('HIRSOVA','EFOIRE',86),\n",
        "        Arc('FAGARAS','SIBIU',99), Arc('SIBIU','FAGARAS',99),\n",
        "        Arc('HIRSOVA','URZICENI',98), Arc('URZICENI','HIRSOVA',98),\n",
        "        Arc('IASI','VASLUI',92), Arc('VASLUI','IASI',92),\n",
        "        Arc('IASI','NEAMT',87), Arc('NEAMT','IASI',87),\n",
        "        Arc('LUGOJ','MEHADIA',70), Arc('MEHADIA','LUGOJ',70),\n",
        "        Arc('LUGOJ','TIMISOARA',111), Arc('TIMISOARA','LUGOJ',111),\n",
        "        Arc('ORADEA','ZERIND',71), Arc('ZERIND','ORADEA',71),\n",
        "        Arc('ORADEA','SIBIU',151), Arc('SIBIU','ORADEA',151),\n",
        "        Arc('PITESTI','RIMNICU VILCEA',97), Arc('RIMNICU VILCEA','PITESTI',97),\n",
        "        Arc('RIMNICU VILCEA','SIBIU',80), Arc('SIBIU','RIMNICU VILCEA',80),   \n",
        "        Arc('URZICENI','VASLUI',142), Arc('VASLUI','URZICENI',142)],\n",
        "    start = 'TIMISOARA',\n",
        "    goals = {'BUCHAREST'},\n",
        "    hmap = {\n",
        "        'ARAD' : 366,\n",
        "        'BUCHAREST' : 0,\n",
        "        'CRAIOVA' : 160,\n",
        "        'DOBRETA' : 242,\n",
        "        'EFOIRE' : 161,\n",
        "        'FAGARAS' : 178,\n",
        "        'GIURGIU' : 77,\n",
        "        'HIRSOVA' : 151,\n",
        "        'IASI' : 226,\n",
        "        'LUGOJ' : 244,\n",
        "        'MEHADIA' : 241,\n",
        "        'NEAMT' : 234,\n",
        "        'ORADEA' : 380,\n",
        "        'PITESTI' : 98,\n",
        "        'RIMNICU VILCEA' :193,\n",
        "        'SIBIU' : 253,\n",
        "        'TIMISOARA' : 329,\n",
        "        'URZICENI' : 80, \n",
        "        'VASLUI' : 199,\n",
        "        'ZERIND' : 374\n",
        "        }\n",
        "    )\n"
      ],
      "execution_count": 0,
      "outputs": []
    },
    {
      "cell_type": "code",
      "metadata": {
        "id": "1f0QuX-u-1r8",
        "colab_type": "code",
        "outputId": "90534700-121a-428b-a24b-07bdd9100a8c",
        "colab": {
          "base_uri": "https://localhost:8080/",
          "height": 537
        }
      },
      "source": [
        "print(\"Prueba 9: Origen TIMISOARA y destino BUCHAREST\")\n",
        "schr = AStarSearcher(problema9)\n",
        "path = schr.search()\n",
        "print(\"Ruta encontrada:\", path)\n",
        "print('Costo de la Ruta: ', path.cost)"
      ],
      "execution_count": 0,
      "outputs": [
        {
          "output_type": "stream",
          "text": [
            "Prueba 9: Origen TIMISOARA y destino BUCHAREST\n",
            "Costo del camino 0  + Costo de la heurística de:  TIMISOARA  es:  329  -->  329\n",
            "Costo del camino 111  + Costo de la heurística de:  LUGOJ  es:  244  -->  355\n",
            "Costo del camino 118  + Costo de la heurística de:  ARAD  es:  366  -->  484\n",
            "Costo del camino 222  + Costo de la heurística de:  TIMISOARA  es:  329  -->  551\n",
            "Costo del camino 181  + Costo de la heurística de:  MEHADIA  es:  241  -->  422\n",
            "Costo del camino 251  + Costo de la heurística de:  LUGOJ  es:  244  -->  495\n",
            "Costo del camino 256  + Costo de la heurística de:  DOBRETA  es:  242  -->  498\n",
            "Costo del camino 236  + Costo de la heurística de:  TIMISOARA  es:  329  -->  565\n",
            "Costo del camino 258  + Costo de la heurística de:  SIBIU  es:  253  -->  511\n",
            "Costo del camino 193  + Costo de la heurística de:  ZERIND  es:  374  -->  567\n",
            "Costo del camino 362  + Costo de la heurística de:  TIMISOARA  es:  329  -->  691\n",
            "Costo del camino 321  + Costo de la heurística de:  MEHADIA  es:  241  -->  562\n",
            "Costo del camino 331  + Costo de la heurística de:  MEHADIA  es:  241  -->  572\n",
            "Costo del camino 376  + Costo de la heurística de:  CRAIOVA  es:  160  -->  536\n",
            "Costo del camino 338  + Costo de la heurística de:  RIMNICU VILCEA  es:  193  -->  531\n",
            "Costo del camino 409  + Costo de la heurística de:  ORADEA  es:  380  -->  789\n",
            "Costo del camino 357  + Costo de la heurística de:  FAGARAS  es:  178  -->  535\n",
            "Costo del camino 398  + Costo de la heurística de:  ARAD  es:  366  -->  764\n",
            "Costo del camino 418  + Costo de la heurística de:  SIBIU  es:  253  -->  671\n",
            "Costo del camino 435  + Costo de la heurística de:  PITESTI  es:  98  -->  533\n",
            "Costo del camino 484  + Costo de la heurística de:  CRAIOVA  es:  160  -->  644\n",
            "Costo del camino 532  + Costo de la heurística de:  RIMNICU VILCEA  es:  193  -->  725\n",
            "Costo del camino 573  + Costo de la heurística de:  CRAIOVA  es:  160  -->  733\n",
            "Costo del camino 536  + Costo de la heurística de:  BUCHAREST  es:  0  -->  536\n",
            "Costo del camino 456  + Costo de la heurística de:  SIBIU  es:  253  -->  709\n",
            "Costo del camino 568  + Costo de la heurística de:  BUCHAREST  es:  0  -->  568\n",
            "11 caminos se han ampliado y 15 rutas (paths) permanecen en la frontera\n",
            "Ruta encontrada: TIMISOARA --> ARAD --> SIBIU --> RIMNICU VILCEA --> PITESTI --> BUCHAREST\n",
            "Costo de la Ruta:  536\n"
          ],
          "name": "stdout"
        }
      ]
    },
    {
      "cell_type": "markdown",
      "metadata": {
        "id": "dcx1yStc4COg",
        "colab_type": "text"
      },
      "source": [
        "**PRUEBA 10 A***"
      ]
    },
    {
      "cell_type": "markdown",
      "metadata": {
        "id": "s1EQTuJinlT7",
        "colab_type": "text"
      },
      "source": [
        "En la prueba 10 se desea encontrar una solución: secuencia de ciudades que nos lleve desde Mehadia hasta Bucarest.  Para esto se debe cambiar start = MEHADIA en el problema de entrega, en esta prueba costo de la ruta de 434 "
      ]
    },
    {
      "cell_type": "code",
      "metadata": {
        "id": "qt2_JXod0b2j",
        "colab_type": "code",
        "colab": {}
      },
      "source": [
        "problema10 = Search_problem_from_explicit_graph(\n",
        "    \n",
        "   {'ARAD','BUCHAREST','CRAIOVA','DOBRETA','EFOIRE','FAGARAS','GIURGIU','HIRSOVA','IASI' ,'LUGOJ','MEHADIA','NEAMT','ORADEA','PITESTI','RIMNICU VILCEA','SIBIU',\n",
        "    'TIMISOARA','URZICENI', 'VASLUI','ZERIND'},\n",
        "     [  Arc('ARAD','ZERIND',75), Arc('ZERIND','ARAD',75),\n",
        "        Arc('ARAD','SIBIU',140), Arc('SIBIU','ARAD',140),\n",
        "        Arc('ARAD','TIMISOARA',118),Arc('TIMISOARA','ARAD',118),  \n",
        "        Arc('BUCHAREST','PITESTI',101), Arc('PITESTI','BUCHAREST',101),\n",
        "        Arc('BUCHAREST','FAGARAS',211), Arc('FAGARAS','BUCHAREST',211),\n",
        "        Arc('BUCHAREST','URZICENI',85), Arc('URZICENI','BUCHAREST',85),\n",
        "        Arc('BUCHAREST','GIURGIU',90),Arc('GIURGIU','BUCHAREST',90),\n",
        "        Arc('CRAIOVA','PITESTI',138), Arc('PITESTI','CRAIOVA',138),\n",
        "        Arc('CRAIOVA','RIMNICU VILCEA',146), Arc('RIMNICU VILCEA','CRAIOVA',146),\n",
        "        Arc('CRAIOVA','DOBRETA',120), Arc('DOBRETA','CRAIOVA',120),\n",
        "        Arc('DOBRETA','MEHADIA',75), Arc('MEHADIA','DOBRETA',75),\n",
        "        Arc('EFOIRE','HIRSOVA',86),  Arc('HIRSOVA','EFOIRE',86),\n",
        "        Arc('FAGARAS','SIBIU',99), Arc('SIBIU','FAGARAS',99),\n",
        "        Arc('HIRSOVA','URZICENI',98), Arc('URZICENI','HIRSOVA',98),\n",
        "        Arc('IASI','VASLUI',92), Arc('VASLUI','IASI',92),\n",
        "        Arc('IASI','NEAMT',87), Arc('NEAMT','IASI',87),\n",
        "        Arc('LUGOJ','MEHADIA',70), Arc('MEHADIA','LUGOJ',70),\n",
        "        Arc('LUGOJ','TIMISOARA',111), Arc('TIMISOARA','LUGOJ',111),\n",
        "        Arc('ORADEA','ZERIND',71), Arc('ZERIND','ORADEA',71),\n",
        "        Arc('ORADEA','SIBIU',151), Arc('SIBIU','ORADEA',151),\n",
        "        Arc('PITESTI','RIMNICU VILCEA',97), Arc('RIMNICU VILCEA','PITESTI',97),\n",
        "        Arc('RIMNICU VILCEA','SIBIU',80), Arc('SIBIU','RIMNICU VILCEA',80),   \n",
        "        Arc('URZICENI','VASLUI',142), Arc('VASLUI','URZICENI',142)],\n",
        "    start = 'MEHADIA',\n",
        "    goals = {'BUCHAREST'},\n",
        "    hmap = {\n",
        "        'ARAD' : 366,\n",
        "        'BUCHAREST' : 0,\n",
        "        'CRAIOVA' : 160,\n",
        "        'DOBRETA' : 242,\n",
        "        'EFOIRE' : 161,\n",
        "        'FAGARAS' : 178,\n",
        "        'GIURGIU' : 77,\n",
        "        'HIRSOVA' : 151,\n",
        "        'IASI' : 226,\n",
        "        'LUGOJ' : 244,\n",
        "        'MEHADIA' : 241,\n",
        "        'NEAMT' : 234,\n",
        "        'ORADEA' : 380,\n",
        "        'PITESTI' : 98,\n",
        "        'RIMNICU VILCEA' :193,\n",
        "        'SIBIU' : 253,\n",
        "        'TIMISOARA' : 329,\n",
        "        'URZICENI' : 80, \n",
        "        'VASLUI' : 199,\n",
        "        'ZERIND' : 374\n",
        "        }\n",
        "    )\n"
      ],
      "execution_count": 0,
      "outputs": []
    },
    {
      "cell_type": "code",
      "metadata": {
        "id": "oGGAxqnb-15C",
        "colab_type": "code",
        "outputId": "cb69be77-9985-4acf-e3ac-f0c70e49308e",
        "colab": {
          "base_uri": "https://localhost:8080/",
          "height": 381
        }
      },
      "source": [
        "print(\"Prueba 10: Origen MEHADIA y destino BUCHAREST\")\n",
        "schr = AStarSearcher(problema10)\n",
        "path = schr.search()\n",
        "print(\"Ruta encontrada:\", path)\n",
        "print('Costo de la Ruta: ', path.cost)\n"
      ],
      "execution_count": 0,
      "outputs": [
        {
          "output_type": "stream",
          "text": [
            "Prueba 10: Origen MEHADIA y destino BUCHAREST\n",
            "Costo del camino 0  + Costo de la heurística de:  MEHADIA  es:  241  -->  241\n",
            "Costo del camino 70  + Costo de la heurística de:  LUGOJ  es:  244  -->  314\n",
            "Costo del camino 75  + Costo de la heurística de:  DOBRETA  es:  242  -->  317\n",
            "Costo del camino 181  + Costo de la heurística de:  TIMISOARA  es:  329  -->  510\n",
            "Costo del camino 140  + Costo de la heurística de:  MEHADIA  es:  241  -->  381\n",
            "Costo del camino 150  + Costo de la heurística de:  MEHADIA  es:  241  -->  391\n",
            "Costo del camino 195  + Costo de la heurística de:  CRAIOVA  es:  160  -->  355\n",
            "Costo del camino 315  + Costo de la heurística de:  DOBRETA  es:  242  -->  557\n",
            "Costo del camino 341  + Costo de la heurística de:  RIMNICU VILCEA  es:  193  -->  534\n",
            "Costo del camino 333  + Costo de la heurística de:  PITESTI  es:  98  -->  431\n",
            "Costo del camino 210  + Costo de la heurística de:  LUGOJ  es:  244  -->  454\n",
            "Costo del camino 215  + Costo de la heurística de:  DOBRETA  es:  242  -->  457\n",
            "Costo del camino 220  + Costo de la heurística de:  LUGOJ  es:  244  -->  464\n",
            "Costo del camino 225  + Costo de la heurística de:  DOBRETA  es:  242  -->  467\n",
            "Costo del camino 430  + Costo de la heurística de:  RIMNICU VILCEA  es:  193  -->  623\n",
            "Costo del camino 471  + Costo de la heurística de:  CRAIOVA  es:  160  -->  631\n",
            "Costo del camino 434  + Costo de la heurística de:  BUCHAREST  es:  0  -->  434\n",
            "8 caminos se han ampliado y 9 rutas (paths) permanecen en la frontera\n",
            "Ruta encontrada: MEHADIA --> DOBRETA --> CRAIOVA --> PITESTI --> BUCHAREST\n",
            "Costo de la Ruta:  434\n"
          ],
          "name": "stdout"
        }
      ]
    }
  ]
}